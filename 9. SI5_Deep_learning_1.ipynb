{
 "cells": [
  {
   "cell_type": "code",
   "execution_count": 1,
   "metadata": {
    "colab": {},
    "colab_type": "code",
    "id": "NF-4iXpJcxyp"
   },
   "outputs": [],
   "source": [
    "import tensorflow as tf\n",
    "import numpy as np\n",
    "from matplotlib import pyplot as plt"
   ]
  },
  {
   "cell_type": "code",
   "execution_count": 2,
   "metadata": {
    "colab": {
     "base_uri": "https://localhost:8080/",
     "height": 34
    },
    "colab_type": "code",
    "id": "pY5eA_oYdDhp",
    "outputId": "7a68871e-0ab2-4413-9bbd-ad3d93c10fd6"
   },
   "outputs": [
    {
     "data": {
      "text/plain": [
       "<tf.Tensor 'add_1:0' shape=() dtype=int32>"
      ]
     },
     "metadata": {},
     "output_type": "display_data"
    }
   ],
   "source": [
    "tf.reset_default_graph()\n",
    "\n",
    "x = tf.Variable(3, name=\"x\")\n",
    "y = tf.Variable(4, name=\"y\")\n",
    "f = x*x*y + y + 2\n",
    "\n",
    "display(f)"
   ]
  },
  {
   "cell_type": "code",
   "execution_count": 3,
   "metadata": {
    "colab": {
     "base_uri": "https://localhost:8080/",
     "height": 34
    },
    "colab_type": "code",
    "id": "eLqvy2U1mNen",
    "outputId": "539f9d90-474d-4ba0-d69a-9d332d10d5a6"
   },
   "outputs": [
    {
     "name": "stdout",
     "output_type": "stream",
     "text": [
      "42\n"
     ]
    }
   ],
   "source": [
    "sess = tf.Session()\n",
    "sess.run(x.initializer)\n",
    "sess.run(y.initializer)\n",
    "print(sess.run(f))\n",
    "sess.close()"
   ]
  },
  {
   "cell_type": "code",
   "execution_count": 4,
   "metadata": {
    "colab": {
     "base_uri": "https://localhost:8080/",
     "height": 34
    },
    "colab_type": "code",
    "id": "8agQyOzIm3Jl",
    "outputId": "7dd8c193-09b9-4cbb-9950-41a43d9ed2bb"
   },
   "outputs": [
    {
     "data": {
      "text/plain": [
       "42"
      ]
     },
     "execution_count": 4,
     "metadata": {},
     "output_type": "execute_result"
    }
   ],
   "source": [
    "with tf.Session() as sess:\n",
    "    x.initializer.run()\n",
    "    y.initializer.run()\n",
    "    result = f.eval()\n",
    "\n",
    "result"
   ]
  },
  {
   "cell_type": "code",
   "execution_count": 5,
   "metadata": {
    "colab": {
     "base_uri": "https://localhost:8080/",
     "height": 34
    },
    "colab_type": "code",
    "id": "TOCXy3yunZNp",
    "outputId": "fcbb4497-3a00-4a46-d2cd-30fecce5c947"
   },
   "outputs": [
    {
     "data": {
      "text/plain": [
       "42"
      ]
     },
     "execution_count": 5,
     "metadata": {},
     "output_type": "execute_result"
    }
   ],
   "source": [
    "init = tf.global_variables_initializer()\n",
    "\n",
    "with tf.Session():\n",
    "    init.run()\n",
    "    result = f.eval()\n",
    "\n",
    "result"
   ]
  },
  {
   "cell_type": "code",
   "execution_count": 6,
   "metadata": {
    "colab": {
     "base_uri": "https://localhost:8080/",
     "height": 34
    },
    "colab_type": "code",
    "id": "KGbdB6Jnnso3",
    "outputId": "bc8e1178-c8a2-42c4-e53e-1eb0e9cd973b"
   },
   "outputs": [
    {
     "data": {
      "text/plain": [
       "42"
      ]
     },
     "execution_count": 6,
     "metadata": {},
     "output_type": "execute_result"
    }
   ],
   "source": [
    "init = tf.global_variables_initializer()\n",
    "\n",
    "sess = tf.InteractiveSession()\n",
    "init.run()\n",
    "result = f.eval()\n",
    "sess.close()\n",
    "\n",
    "result"
   ]
  },
  {
   "cell_type": "markdown",
   "metadata": {
    "colab_type": "text",
    "id": "U5Xny88Dordq"
   },
   "source": [
    "# Managing graphs"
   ]
  },
  {
   "cell_type": "code",
   "execution_count": 7,
   "metadata": {
    "colab": {
     "base_uri": "https://localhost:8080/",
     "height": 34
    },
    "colab_type": "code",
    "id": "D9wm4g_Hn7A8",
    "outputId": "bbed3991-2cb7-457f-fb17-78f2bb774412"
   },
   "outputs": [
    {
     "data": {
      "text/plain": [
       "True"
      ]
     },
     "execution_count": 7,
     "metadata": {},
     "output_type": "execute_result"
    }
   ],
   "source": [
    "tf.reset_default_graph()\n",
    "\n",
    "x1 = tf.Variable(1)\n",
    "x1.graph is tf.get_default_graph()"
   ]
  },
  {
   "cell_type": "code",
   "execution_count": 8,
   "metadata": {
    "colab": {
     "base_uri": "https://localhost:8080/",
     "height": 34
    },
    "colab_type": "code",
    "id": "s5n4PWIBpFls",
    "outputId": "f65dc43b-2cb2-4de3-9820-784c549e48c5"
   },
   "outputs": [
    {
     "data": {
      "text/plain": [
       "False"
      ]
     },
     "execution_count": 8,
     "metadata": {},
     "output_type": "execute_result"
    }
   ],
   "source": [
    "graph = tf.Graph()\n",
    "with graph.as_default():\n",
    "    x2 = tf.Variable(2)\n",
    "\n",
    "x2.graph is tf.get_default_graph()"
   ]
  },
  {
   "cell_type": "code",
   "execution_count": 9,
   "metadata": {
    "colab": {
     "base_uri": "https://localhost:8080/",
     "height": 34
    },
    "colab_type": "code",
    "id": "EuNGa2bRpZjr",
    "outputId": "b5e428d8-a026-4a88-f489-c36b66868ae5"
   },
   "outputs": [
    {
     "data": {
      "text/plain": [
       "True"
      ]
     },
     "execution_count": 9,
     "metadata": {},
     "output_type": "execute_result"
    }
   ],
   "source": [
    "x2.graph is graph"
   ]
  },
  {
   "cell_type": "code",
   "execution_count": 10,
   "metadata": {
    "colab": {
     "base_uri": "https://localhost:8080/",
     "height": 50
    },
    "colab_type": "code",
    "id": "7NopMr91plQ-",
    "outputId": "94219e79-d257-4f7a-b94d-cf98a4b72776"
   },
   "outputs": [
    {
     "name": "stdout",
     "output_type": "stream",
     "text": [
      "10\n",
      "15\n"
     ]
    }
   ],
   "source": [
    "w = tf.constant(3)\n",
    "x = w + 2\n",
    "y = x + 5\n",
    "z = x * 3\n",
    "\n",
    "with tf.Session() as sess:\n",
    "    print(y.eval())  # 10\n",
    "    print(z.eval())  # 15"
   ]
  },
  {
   "cell_type": "code",
   "execution_count": 11,
   "metadata": {
    "colab": {
     "base_uri": "https://localhost:8080/",
     "height": 50
    },
    "colab_type": "code",
    "id": "deTsTSavqED4",
    "outputId": "0df52706-96e5-41cf-95f7-5d8f2b6a9a3d"
   },
   "outputs": [
    {
     "name": "stdout",
     "output_type": "stream",
     "text": [
      "10\n",
      "15\n"
     ]
    }
   ],
   "source": [
    "with tf.Session() as sess:\n",
    "    y_val, z_val = sess.run([y, z])\n",
    "    print(y_val)  # 10\n",
    "    print(z_val)  # 15"
   ]
  },
  {
   "cell_type": "markdown",
   "metadata": {
    "colab_type": "text",
    "id": "Wecoe4rtrN4P"
   },
   "source": [
    "# Linear Regression with TensorFlow"
   ]
  },
  {
   "cell_type": "code",
   "execution_count": 12,
   "metadata": {
    "colab": {},
    "colab_type": "code",
    "id": "1SXD8j-QqLjz"
   },
   "outputs": [
    {
     "name": "stderr",
     "output_type": "stream",
     "text": [
      "Downloading Cal. housing from https://ndownloader.figshare.com/files/5976036 to /home/johan/scikit_learn_data\n"
     ]
    }
   ],
   "source": [
    "from sklearn.datasets import fetch_california_housing\n",
    "\n",
    "housing = fetch_california_housing()\n",
    "m, n = housing.data.shape\n",
    "housing_data_plus_bias = np.c_[np.ones((m, 1)), housing.data]"
   ]
  },
  {
   "cell_type": "code",
   "execution_count": 13,
   "metadata": {
    "colab": {
     "base_uri": "https://localhost:8080/",
     "height": 202
    },
    "colab_type": "code",
    "id": "vTJPDbntrY-9",
    "outputId": "bf4d8ddc-69bc-474a-a04a-54134a1d08d1"
   },
   "outputs": [
    {
     "name": "stdout",
     "output_type": "stream",
     "text": [
      "[[-3.69419202e+01]\n",
      " [ 4.36693293e-01]\n",
      " [ 9.43577803e-03]\n",
      " [-1.07322041e-01]\n",
      " [ 6.45065694e-01]\n",
      " [-3.97638942e-06]\n",
      " [-3.78654265e-03]\n",
      " [-4.21314378e-01]\n",
      " [-4.34513755e-01]]\n"
     ]
    }
   ],
   "source": [
    "tf.reset_default_graph()\n",
    "#display(housing.target.shape)\n",
    "X = tf.constant(housing_data_plus_bias, dtype=tf.float64, name=\"X\")\n",
    "y = tf.constant(housing.target.reshape(-1, 1), dtype=tf.float64, name=\"y\")\n",
    "#display(y.shape)\n",
    "XT = tf.transpose(X)\n",
    "theta = tf.matmul(tf.matmul(tf.matrix_inverse(tf.matmul(XT, X)), XT), y)\n",
    "\n",
    "with tf.Session() as sess:\n",
    "    result = theta.eval()\n",
    "\n",
    "print(result)"
   ]
  },
  {
   "cell_type": "markdown",
   "metadata": {
    "colab_type": "text",
    "id": "BoM9GDzrAmQj"
   },
   "source": [
    "# Perceptron"
   ]
  },
  {
   "cell_type": "code",
   "execution_count": 14,
   "metadata": {
    "colab": {},
    "colab_type": "code",
    "id": "LvKurgfkvuwF"
   },
   "outputs": [],
   "source": [
    "from sklearn.datasets import load_iris\n",
    "iris = load_iris()\n",
    "X = iris.data[:, (2, 3)]  # petal length, petal width\n",
    "y = (iris.target == 0).astype(np.int)"
   ]
  },
  {
   "cell_type": "code",
   "execution_count": 15,
   "metadata": {
    "colab": {
     "base_uri": "https://localhost:8080/",
     "height": 87
    },
    "colab_type": "code",
    "id": "BBx_jt3pAj6f",
    "outputId": "c0fc2710-6303-4f89-f408-417ae566250c"
   },
   "outputs": [
    {
     "name": "stderr",
     "output_type": "stream",
     "text": [
      "/home/johan/.local/lib/python3.5/site-packages/sklearn/linear_model/stochastic_gradient.py:128: FutureWarning: max_iter and tol parameters have been added in <class 'sklearn.linear_model.perceptron.Perceptron'> in 0.19. If both are left unset, they default to max_iter=5 and tol=None. If tol is not None, max_iter defaults to max_iter=1000. From 0.21, default max_iter will be 1000, and default tol will be 1e-3.\n",
      "  \"and default tol will be 1e-3.\" % type(self), FutureWarning)\n"
     ]
    },
    {
     "data": {
      "text/plain": [
       "array([1])"
      ]
     },
     "execution_count": 15,
     "metadata": {},
     "output_type": "execute_result"
    }
   ],
   "source": [
    "from sklearn.linear_model import Perceptron\n",
    "\n",
    "per_clf = Perceptron(random_state=42)\n",
    "per_clf.fit(X, y)\n",
    "\n",
    "y_pred = per_clf.predict([[2, 0.5]])\n",
    "y_pred"
   ]
  },
  {
   "cell_type": "code",
   "execution_count": 16,
   "metadata": {
    "colab": {
     "base_uri": "https://localhost:8080/",
     "height": 341
    },
    "colab_type": "code",
    "id": "BbRYUkSJA1m2",
    "outputId": "5b800638-36f3-4533-b060-ee52d5d98066"
   },
   "outputs": [
    {
     "data": {
      "image/png": "[encoded data removed]",
      "text/plain": [
       "<matplotlib.figure.Figure at 0x7f5aa6b9d5c0>"
      ]
     },
     "metadata": {},
     "output_type": "display_data"
    }
   ],
   "source": [
    "a = -per_clf.coef_[0][0] / per_clf.coef_[0][1]\n",
    "b = -per_clf.intercept_ / per_clf.coef_[0][1]\n",
    "\n",
    "axes = [0, 5, 0, 2]\n",
    "\n",
    "x0, x1 = np.meshgrid(\n",
    "        np.linspace(axes[0], axes[1], 500).reshape(-1, 1),\n",
    "        np.linspace(axes[2], axes[3], 200).reshape(-1, 1),\n",
    "    )\n",
    "X_new = np.c_[x0.ravel(), x1.ravel()]\n",
    "y_predict = per_clf.predict(X_new)\n",
    "zz = y_predict.reshape(x0.shape)\n",
    "\n",
    "plt.figure(figsize=(10, 4))\n",
    "plt.plot(X[y==0, 0], X[y==0, 1], \"bs\", label=\"Not Iris-Setosa\")\n",
    "plt.plot(X[y==1, 0], X[y==1, 1], \"yo\", label=\"Iris-Setosa\")\n",
    "\n",
    "plt.plot([axes[0], axes[1]], [a * axes[0] + b, a * axes[1] + b], \"k-\", linewidth=3)\n",
    "from matplotlib.colors import ListedColormap\n",
    "custom_cmap = ListedColormap(['#9898ff', '#fafab0'])\n",
    "\n",
    "plt.contourf(x0, x1, zz, cmap=custom_cmap, linewidth=5)\n",
    "plt.xlabel(\"Petal length\", fontsize=14)\n",
    "plt.ylabel(\"Petal width\", fontsize=14)\n",
    "plt.legend(loc=\"lower right\", fontsize=14)\n",
    "plt.axis(axes)\n",
    "\n",
    "#save_fig(\"perceptron_iris_plot\")\n",
    "plt.show()"
   ]
  },
  {
   "cell_type": "markdown",
   "metadata": {
    "colab_type": "text",
    "id": "i4vtofHRPPTP"
   },
   "source": [
    "# Tf.learn"
   ]
  },
  {
   "cell_type": "code",
   "execution_count": 17,
   "metadata": {
    "colab": {
     "base_uri": "https://localhost:8080/",
     "height": 296
    },
    "colab_type": "code",
    "id": "PBqvQqjgA4HO",
    "outputId": "dca9be06-475d-46c9-84ef-6e59d2dbdcab"
   },
   "outputs": [
    {
     "name": "stdout",
     "output_type": "stream",
     "text": [
      "WARNING:tensorflow:From <ipython-input-17-45ede417710e>:2: read_data_sets (from tensorflow.contrib.learn.python.learn.datasets.mnist) is deprecated and will be removed in a future version.\n",
      "Instructions for updating:\n",
      "Please use alternatives such as official/mnist/dataset.py from tensorflow/models.\n",
      "WARNING:tensorflow:From /home/johan/anaconda2/envs/tensorflow_py3/lib/python3.5/site-packages/tensorflow/contrib/learn/python/learn/datasets/mnist.py:260: maybe_download (from tensorflow.contrib.learn.python.learn.datasets.base) is deprecated and will be removed in a future version.\n",
      "Instructions for updating:\n",
      "Please write your own downloading logic.\n",
      "WARNING:tensorflow:From /home/johan/anaconda2/envs/tensorflow_py3/lib/python3.5/site-packages/tensorflow/contrib/learn/python/learn/datasets/base.py:252: _internal_retry.<locals>.wrap.<locals>.wrapped_fn (from tensorflow.contrib.learn.python.learn.datasets.base) is deprecated and will be removed in a future version.\n",
      "Instructions for updating:\n",
      "Please use urllib or similar directly.\n",
      "Successfully downloaded train-images-idx3-ubyte.gz 9912422 bytes.\n",
      "WARNING:tensorflow:From /home/johan/anaconda2/envs/tensorflow_py3/lib/python3.5/site-packages/tensorflow/contrib/learn/python/learn/datasets/mnist.py:262: extract_images (from tensorflow.contrib.learn.python.learn.datasets.mnist) is deprecated and will be removed in a future version.\n",
      "Instructions for updating:\n",
      "Please use tf.data to implement this functionality.\n",
      "Extracting /tmp/data/train-images-idx3-ubyte.gz\n",
      "Successfully downloaded train-labels-idx1-ubyte.gz 28881 bytes.\n",
      "WARNING:tensorflow:From /home/johan/anaconda2/envs/tensorflow_py3/lib/python3.5/site-packages/tensorflow/contrib/learn/python/learn/datasets/mnist.py:267: extract_labels (from tensorflow.contrib.learn.python.learn.datasets.mnist) is deprecated and will be removed in a future version.\n",
      "Instructions for updating:\n",
      "Please use tf.data to implement this functionality.\n",
      "Extracting /tmp/data/train-labels-idx1-ubyte.gz\n",
      "Successfully downloaded t10k-images-idx3-ubyte.gz 1648877 bytes.\n",
      "Extracting /tmp/data/t10k-images-idx3-ubyte.gz\n",
      "Successfully downloaded t10k-labels-idx1-ubyte.gz 4542 bytes.\n",
      "Extracting /tmp/data/t10k-labels-idx1-ubyte.gz\n",
      "WARNING:tensorflow:From /home/johan/anaconda2/envs/tensorflow_py3/lib/python3.5/site-packages/tensorflow/contrib/learn/python/learn/datasets/mnist.py:290: DataSet.__init__ (from tensorflow.contrib.learn.python.learn.datasets.mnist) is deprecated and will be removed in a future version.\n",
      "Instructions for updating:\n",
      "Please use alternatives such as official/mnist/dataset.py from tensorflow/models.\n"
     ]
    }
   ],
   "source": [
    "from tensorflow.examples.tutorials.mnist import input_data\n",
    "mnist = input_data.read_data_sets(\"/tmp/data/\")\n",
    "X_train = mnist.train.images\n",
    "X_test = mnist.test.images\n",
    "y_train = mnist.train.labels.astype(\"int\")\n",
    "y_test = mnist.test.labels.astype(\"int\")"
   ]
  },
  {
   "cell_type": "code",
   "execution_count": 18,
   "metadata": {
    "colab": {
     "base_uri": "https://localhost:8080/",
     "height": 14854
    },
    "colab_type": "code",
    "id": "c-hoD0HBPSmA",
    "outputId": "d8eeebba-fa78-40c8-a4c7-1cba0fd8962c"
   },
   "outputs": [
    {
     "name": "stdout",
     "output_type": "stream",
     "text": [
      "WARNING:tensorflow:From <ipython-input-18-bb2d21f9b37e>:3: infer_real_valued_columns_from_input (from tensorflow.contrib.learn.python.learn.estimators.estimator) is deprecated and will be removed in a future version.\n",
      "Instructions for updating:\n",
      "Please specify feature columns explicitly.\n",
      "WARNING:tensorflow:From /home/johan/anaconda2/envs/tensorflow_py3/lib/python3.5/site-packages/tensorflow/contrib/learn/python/learn/estimators/estimator.py:143: setup_train_data_feeder (from tensorflow.contrib.learn.python.learn.learn_io.data_feeder) is deprecated and will be removed in a future version.\n",
      "Instructions for updating:\n",
      "Please use tensorflow/transform or tf.data.\n",
      "WARNING:tensorflow:From /home/johan/anaconda2/envs/tensorflow_py3/lib/python3.5/site-packages/tensorflow/contrib/learn/python/learn/learn_io/data_feeder.py:96: extract_dask_data (from tensorflow.contrib.learn.python.learn.learn_io.dask_io) is deprecated and will be removed in a future version.\n",
      "Instructions for updating:\n",
      "Please feed input to tf.data to support dask.\n",
      "WARNING:tensorflow:From /home/johan/anaconda2/envs/tensorflow_py3/lib/python3.5/site-packages/tensorflow/contrib/learn/python/learn/learn_io/data_feeder.py:100: extract_pandas_data (from tensorflow.contrib.learn.python.learn.learn_io.pandas_io) is deprecated and will be removed in a future version.\n",
      "Instructions for updating:\n",
      "Please access pandas data directly.\n",
      "WARNING:tensorflow:From /home/johan/anaconda2/envs/tensorflow_py3/lib/python3.5/site-packages/tensorflow/contrib/learn/python/learn/learn_io/data_feeder.py:159: DataFeeder.__init__ (from tensorflow.contrib.learn.python.learn.learn_io.data_feeder) is deprecated and will be removed in a future version.\n",
      "Instructions for updating:\n",
      "Please use tensorflow/transform or tf.data.\n",
      "WARNING:tensorflow:From /home/johan/anaconda2/envs/tensorflow_py3/lib/python3.5/site-packages/tensorflow/contrib/learn/python/learn/learn_io/data_feeder.py:340: check_array (from tensorflow.contrib.learn.python.learn.learn_io.data_feeder) is deprecated and will be removed in a future version.\n",
      "Instructions for updating:\n",
      "Please convert numpy dtypes explicitly.\n",
      "WARNING:tensorflow:From /home/johan/anaconda2/envs/tensorflow_py3/lib/python3.5/site-packages/tensorflow/contrib/learn/python/learn/estimators/estimator.py:183: infer_real_valued_columns_from_input_fn (from tensorflow.contrib.learn.python.learn.estimators.estimator) is deprecated and will be removed in a future version.\n",
      "Instructions for updating:\n",
      "Please specify feature columns explicitly.\n",
      "WARNING:tensorflow:From /home/johan/anaconda2/envs/tensorflow_py3/lib/python3.5/site-packages/tensorflow/contrib/learn/python/learn/estimators/dnn.py:378: multi_class_head (from tensorflow.contrib.learn.python.learn.estimators.head) is deprecated and will be removed in a future version.\n",
      "Instructions for updating:\n",
      "Please switch to tf.contrib.estimator.*_head.\n",
      "WARNING:tensorflow:From /home/johan/anaconda2/envs/tensorflow_py3/lib/python3.5/site-packages/tensorflow/contrib/learn/python/learn/estimators/estimator.py:1180: BaseEstimator.__init__ (from tensorflow.contrib.learn.python.learn.estimators.estimator) is deprecated and will be removed in a future version.\n",
      "Instructions for updating:\n",
      "Please replace uses of any Estimator from tf.contrib.learn with an Estimator from tf.estimator.*\n",
      "WARNING:tensorflow:From /home/johan/anaconda2/envs/tensorflow_py3/lib/python3.5/site-packages/tensorflow/contrib/learn/python/learn/estimators/estimator.py:428: RunConfig.__init__ (from tensorflow.contrib.learn.python.learn.estimators.run_config) is deprecated and will be removed in a future version.\n",
      "Instructions for updating:\n",
      "When switching to tf.estimator.Estimator, use tf.estimator.RunConfig instead.\n",
      "INFO:tensorflow:Using default config.\n",
      "WARNING:tensorflow:Using temporary folder as model directory: /tmp/tmpkewqz6hn\n",
      "INFO:tensorflow:Using config: {'_save_checkpoints_steps': None, '_keep_checkpoint_every_n_hours': 10000, '_task_id': 0, '_cluster_spec': <tensorflow.python.training.server_lib.ClusterSpec object at 0x7f5a9cd4d668>, '_tf_random_seed': None, '_device_fn': None, '_session_config': None, '_keep_checkpoint_max': 5, '_model_dir': '/tmp/tmpkewqz6hn', '_train_distribute': None, '_master': '', '_task_type': None, '_environment': 'local', '_is_chief': True, '_save_summary_steps': 100, '_num_ps_replicas': 0, '_evaluation_master': '', '_save_checkpoints_secs': 600, '_num_worker_replicas': 0, '_protocol': None, '_eval_distribute': None, '_tf_config': gpu_options {\n",
      "  per_process_gpu_memory_fraction: 1.0\n",
      "}\n",
      ", '_log_step_count_steps': 100}\n",
      "WARNING:tensorflow:From <ipython-input-18-bb2d21f9b37e>:6: calling BaseEstimator.fit (from tensorflow.contrib.learn.python.learn.estimators.estimator) with x is deprecated and will be removed after 2016-12-01.\n",
      "Instructions for updating:\n",
      "Estimator is decoupled from Scikit Learn interface by moving into\n",
      "separate class SKCompat. Arguments x, y and batch_size are only\n",
      "available in the SKCompat class, Estimator will only accept input_fn.\n",
      "Example conversion:\n",
      "  est = Estimator(...) -> est = SKCompat(Estimator(...))\n",
      "WARNING:tensorflow:From <ipython-input-18-bb2d21f9b37e>:6: calling BaseEstimator.fit (from tensorflow.contrib.learn.python.learn.estimators.estimator) with batch_size is deprecated and will be removed after 2016-12-01.\n",
      "Instructions for updating:\n",
      "Estimator is decoupled from Scikit Learn interface by moving into\n",
      "separate class SKCompat. Arguments x, y and batch_size are only\n",
      "available in the SKCompat class, Estimator will only accept input_fn.\n",
      "Example conversion:\n",
      "  est = Estimator(...) -> est = SKCompat(Estimator(...))\n",
      "WARNING:tensorflow:From <ipython-input-18-bb2d21f9b37e>:6: calling BaseEstimator.fit (from tensorflow.contrib.learn.python.learn.estimators.estimator) with y is deprecated and will be removed after 2016-12-01.\n",
      "Instructions for updating:\n",
      "Estimator is decoupled from Scikit Learn interface by moving into\n",
      "separate class SKCompat. Arguments x, y and batch_size are only\n",
      "available in the SKCompat class, Estimator will only accept input_fn.\n",
      "Example conversion:\n",
      "  est = Estimator(...) -> est = SKCompat(Estimator(...))\n",
      "WARNING:tensorflow:From /home/johan/anaconda2/envs/tensorflow_py3/lib/python3.5/site-packages/tensorflow/contrib/learn/python/learn/estimators/estimator.py:509: SKCompat.__init__ (from tensorflow.contrib.learn.python.learn.estimators.estimator) is deprecated and will be removed in a future version.\n",
      "Instructions for updating:\n",
      "Please switch to the Estimator interface.\n",
      "WARNING:tensorflow:From /home/johan/anaconda2/envs/tensorflow_py3/lib/python3.5/site-packages/tensorflow/contrib/learn/python/learn/learn_io/data_feeder.py:98: extract_dask_labels (from tensorflow.contrib.learn.python.learn.learn_io.dask_io) is deprecated and will be removed in a future version.\n",
      "Instructions for updating:\n",
      "Please feed input to tf.data to support dask.\n",
      "WARNING:tensorflow:From /home/johan/anaconda2/envs/tensorflow_py3/lib/python3.5/site-packages/tensorflow/contrib/learn/python/learn/learn_io/data_feeder.py:102: extract_pandas_labels (from tensorflow.contrib.learn.python.learn.learn_io.pandas_io) is deprecated and will be removed in a future version.\n",
      "Instructions for updating:\n",
      "Please access pandas data directly.\n",
      "WARNING:tensorflow:From /home/johan/anaconda2/envs/tensorflow_py3/lib/python3.5/site-packages/tensorflow/contrib/learn/python/learn/estimators/head.py:678: ModelFnOps.__new__ (from tensorflow.contrib.learn.python.learn.estimators.model_fn) is deprecated and will be removed in a future version.\n",
      "Instructions for updating:\n",
      "When switching to tf.estimator.Estimator, use tf.estimator.EstimatorSpec. You can use the `estimator_spec` method to create an equivalent one.\n",
      "INFO:tensorflow:Create CheckpointSaverHook.\n",
      "INFO:tensorflow:Graph was finalized.\n",
      "INFO:tensorflow:Running local_init_op.\n",
      "INFO:tensorflow:Done running local_init_op.\n",
      "INFO:tensorflow:Saving checkpoints for 0 into /tmp/tmpkewqz6hn/model.ckpt.\n",
      "INFO:tensorflow:loss = 2.361873, step = 1\n",
      "INFO:tensorflow:global_step/sec: 246.107\n",
      "INFO:tensorflow:loss = 0.30937967, step = 101 (0.407 sec)\n",
      "INFO:tensorflow:global_step/sec: 244.896\n",
      "INFO:tensorflow:loss = 0.32068714, step = 201 (0.409 sec)\n",
      "INFO:tensorflow:global_step/sec: 230.345\n"
     ]
    },
    {
     "name": "stdout",
     "output_type": "stream",
     "text": [
      "INFO:tensorflow:loss = 0.3667278, step = 301 (0.436 sec)\n",
      "INFO:tensorflow:global_step/sec: 224.325\n",
      "INFO:tensorflow:loss = 0.25785565, step = 401 (0.447 sec)\n",
      "INFO:tensorflow:global_step/sec: 239.367\n",
      "INFO:tensorflow:loss = 0.22869405, step = 501 (0.415 sec)\n",
      "INFO:tensorflow:global_step/sec: 260.804\n",
      "INFO:tensorflow:loss = 0.0657825, step = 601 (0.383 sec)\n",
      "INFO:tensorflow:global_step/sec: 259.591\n",
      "INFO:tensorflow:loss = 0.14685597, step = 701 (0.385 sec)\n",
      "INFO:tensorflow:global_step/sec: 262.325\n",
      "INFO:tensorflow:loss = 0.21903107, step = 801 (0.381 sec)\n",
      "INFO:tensorflow:global_step/sec: 260.624\n",
      "INFO:tensorflow:loss = 0.107177794, step = 901 (0.386 sec)\n",
      "INFO:tensorflow:global_step/sec: 272.635\n",
      "INFO:tensorflow:loss = 0.20213054, step = 1001 (0.365 sec)\n",
      "INFO:tensorflow:global_step/sec: 249.158\n",
      "INFO:tensorflow:loss = 0.20881414, step = 1101 (0.401 sec)\n",
      "INFO:tensorflow:global_step/sec: 285.482\n",
      "INFO:tensorflow:loss = 0.14646544, step = 1201 (0.350 sec)\n",
      "INFO:tensorflow:global_step/sec: 242.512\n",
      "INFO:tensorflow:loss = 0.17746319, step = 1301 (0.413 sec)\n",
      "INFO:tensorflow:global_step/sec: 238.805\n",
      "INFO:tensorflow:loss = 0.076699294, step = 1401 (0.422 sec)\n",
      "INFO:tensorflow:global_step/sec: 249.979\n",
      "INFO:tensorflow:loss = 0.124717996, step = 1501 (0.396 sec)\n",
      "INFO:tensorflow:global_step/sec: 287.944\n",
      "INFO:tensorflow:loss = 0.11113498, step = 1601 (0.350 sec)\n",
      "INFO:tensorflow:global_step/sec: 245.072\n",
      "INFO:tensorflow:loss = 0.049805637, step = 1701 (0.407 sec)\n",
      "INFO:tensorflow:global_step/sec: 246.6\n",
      "INFO:tensorflow:loss = 0.19277738, step = 1801 (0.404 sec)\n",
      "INFO:tensorflow:global_step/sec: 256.93\n",
      "INFO:tensorflow:loss = 0.09911705, step = 1901 (0.389 sec)\n",
      "INFO:tensorflow:global_step/sec: 250.453\n",
      "INFO:tensorflow:loss = 0.06138923, step = 2001 (0.399 sec)\n",
      "INFO:tensorflow:global_step/sec: 293.522\n",
      "INFO:tensorflow:loss = 0.037207205, step = 2101 (0.341 sec)\n",
      "INFO:tensorflow:global_step/sec: 289.926\n",
      "INFO:tensorflow:loss = 0.036967717, step = 2201 (0.345 sec)\n",
      "INFO:tensorflow:global_step/sec: 241.825\n",
      "INFO:tensorflow:loss = 0.055600356, step = 2301 (0.413 sec)\n",
      "INFO:tensorflow:global_step/sec: 195.854\n",
      "INFO:tensorflow:loss = 0.06348015, step = 2401 (0.514 sec)\n",
      "INFO:tensorflow:global_step/sec: 228.205\n",
      "INFO:tensorflow:loss = 0.057683792, step = 2501 (0.436 sec)\n",
      "INFO:tensorflow:global_step/sec: 224.09\n",
      "INFO:tensorflow:loss = 0.055725165, step = 2601 (0.446 sec)\n",
      "INFO:tensorflow:global_step/sec: 236.865\n",
      "INFO:tensorflow:loss = 0.019167578, step = 2701 (0.422 sec)\n",
      "INFO:tensorflow:global_step/sec: 252.726\n",
      "INFO:tensorflow:loss = 0.07245033, step = 2801 (0.396 sec)\n",
      "INFO:tensorflow:global_step/sec: 220.564\n",
      "INFO:tensorflow:loss = 0.12184384, step = 2901 (0.453 sec)\n",
      "INFO:tensorflow:global_step/sec: 251.693\n",
      "INFO:tensorflow:loss = 0.021350801, step = 3001 (0.398 sec)\n",
      "INFO:tensorflow:global_step/sec: 269.041\n",
      "INFO:tensorflow:loss = 0.07990029, step = 3101 (0.371 sec)\n",
      "INFO:tensorflow:global_step/sec: 295.744\n",
      "INFO:tensorflow:loss = 0.011218617, step = 3201 (0.338 sec)\n",
      "INFO:tensorflow:global_step/sec: 297.087\n",
      "INFO:tensorflow:loss = 0.025878742, step = 3301 (0.336 sec)\n",
      "INFO:tensorflow:global_step/sec: 301.027\n",
      "INFO:tensorflow:loss = 0.23497376, step = 3401 (0.332 sec)\n",
      "INFO:tensorflow:global_step/sec: 299.683\n",
      "INFO:tensorflow:loss = 0.06921563, step = 3501 (0.333 sec)\n",
      "INFO:tensorflow:global_step/sec: 298.823\n",
      "INFO:tensorflow:loss = 0.1337131, step = 3601 (0.337 sec)\n",
      "INFO:tensorflow:global_step/sec: 299.516\n",
      "INFO:tensorflow:loss = 0.061144695, step = 3701 (0.332 sec)\n",
      "INFO:tensorflow:global_step/sec: 287.817\n",
      "INFO:tensorflow:loss = 0.009995334, step = 3801 (0.349 sec)\n",
      "INFO:tensorflow:global_step/sec: 293.974\n",
      "INFO:tensorflow:loss = 0.066654675, step = 3901 (0.338 sec)\n",
      "INFO:tensorflow:global_step/sec: 299.348\n",
      "INFO:tensorflow:loss = 0.15371984, step = 4001 (0.334 sec)\n",
      "INFO:tensorflow:global_step/sec: 302.009\n",
      "INFO:tensorflow:loss = 0.02586758, step = 4101 (0.331 sec)\n",
      "INFO:tensorflow:global_step/sec: 300.721\n",
      "INFO:tensorflow:loss = 0.04365059, step = 4201 (0.333 sec)\n",
      "INFO:tensorflow:global_step/sec: 301.93\n",
      "INFO:tensorflow:loss = 0.16036734, step = 4301 (0.331 sec)\n",
      "INFO:tensorflow:global_step/sec: 297.784\n",
      "INFO:tensorflow:loss = 0.10192626, step = 4401 (0.336 sec)\n",
      "INFO:tensorflow:global_step/sec: 273.344\n",
      "INFO:tensorflow:loss = 0.019236283, step = 4501 (0.366 sec)\n",
      "INFO:tensorflow:global_step/sec: 248.547\n",
      "INFO:tensorflow:loss = 0.021219099, step = 4601 (0.403 sec)\n",
      "INFO:tensorflow:global_step/sec: 246.396\n",
      "INFO:tensorflow:loss = 0.017671889, step = 4701 (0.405 sec)\n",
      "INFO:tensorflow:global_step/sec: 280.351\n",
      "INFO:tensorflow:loss = 0.017412864, step = 4801 (0.357 sec)\n",
      "INFO:tensorflow:global_step/sec: 259.078\n",
      "INFO:tensorflow:loss = 0.068133466, step = 4901 (0.386 sec)\n",
      "INFO:tensorflow:global_step/sec: 266.171\n",
      "INFO:tensorflow:loss = 0.07323747, step = 5001 (0.375 sec)\n",
      "INFO:tensorflow:global_step/sec: 266.756\n",
      "INFO:tensorflow:loss = 0.008838276, step = 5101 (0.378 sec)\n",
      "INFO:tensorflow:global_step/sec: 266.921\n",
      "INFO:tensorflow:loss = 0.03335426, step = 5201 (0.371 sec)\n",
      "INFO:tensorflow:global_step/sec: 256.952\n",
      "INFO:tensorflow:loss = 0.056661066, step = 5301 (0.391 sec)\n",
      "INFO:tensorflow:global_step/sec: 280.152\n",
      "INFO:tensorflow:loss = 0.024629531, step = 5401 (0.356 sec)\n",
      "INFO:tensorflow:global_step/sec: 189.979\n",
      "INFO:tensorflow:loss = 0.041085597, step = 5501 (0.525 sec)\n",
      "INFO:tensorflow:global_step/sec: 267.899\n",
      "INFO:tensorflow:loss = 0.07437138, step = 5601 (0.374 sec)\n",
      "INFO:tensorflow:global_step/sec: 201.79\n",
      "INFO:tensorflow:loss = 0.016973153, step = 5701 (0.497 sec)\n",
      "INFO:tensorflow:global_step/sec: 199.896\n",
      "INFO:tensorflow:loss = 0.008276678, step = 5801 (0.499 sec)\n",
      "INFO:tensorflow:global_step/sec: 216.669\n",
      "INFO:tensorflow:loss = 0.07430377, step = 5901 (0.462 sec)\n",
      "INFO:tensorflow:global_step/sec: 278.392\n",
      "INFO:tensorflow:loss = 0.115737244, step = 6001 (0.359 sec)\n",
      "INFO:tensorflow:global_step/sec: 297.408\n",
      "INFO:tensorflow:loss = 0.016467229, step = 6101 (0.336 sec)\n",
      "INFO:tensorflow:global_step/sec: 281.527\n",
      "INFO:tensorflow:loss = 0.018820174, step = 6201 (0.355 sec)\n",
      "INFO:tensorflow:global_step/sec: 298.364\n",
      "INFO:tensorflow:loss = 0.06348258, step = 6301 (0.335 sec)\n",
      "INFO:tensorflow:global_step/sec: 295.493\n",
      "INFO:tensorflow:loss = 0.017664842, step = 6401 (0.338 sec)\n",
      "INFO:tensorflow:global_step/sec: 294.085\n",
      "INFO:tensorflow:loss = 0.00760368, step = 6501 (0.340 sec)\n",
      "INFO:tensorflow:global_step/sec: 273.946\n",
      "INFO:tensorflow:loss = 0.0060405307, step = 6601 (0.365 sec)\n",
      "INFO:tensorflow:global_step/sec: 263.596\n",
      "INFO:tensorflow:loss = 0.025973713, step = 6701 (0.381 sec)\n",
      "INFO:tensorflow:global_step/sec: 248.175\n",
      "INFO:tensorflow:loss = 0.01627058, step = 6801 (0.401 sec)\n",
      "INFO:tensorflow:global_step/sec: 258.594\n",
      "INFO:tensorflow:loss = 0.020195808, step = 6901 (0.389 sec)\n",
      "INFO:tensorflow:global_step/sec: 229.798\n",
      "INFO:tensorflow:loss = 0.022483952, step = 7001 (0.434 sec)\n",
      "INFO:tensorflow:global_step/sec: 285.269\n",
      "INFO:tensorflow:loss = 0.00418192, step = 7101 (0.349 sec)\n",
      "INFO:tensorflow:global_step/sec: 296.072\n",
      "INFO:tensorflow:loss = 0.05816284, step = 7201 (0.338 sec)\n",
      "INFO:tensorflow:global_step/sec: 291.529\n",
      "INFO:tensorflow:loss = 0.0069049657, step = 7301 (0.343 sec)\n",
      "INFO:tensorflow:global_step/sec: 296.255\n",
      "INFO:tensorflow:loss = 0.015144289, step = 7401 (0.338 sec)\n",
      "INFO:tensorflow:global_step/sec: 300.872\n",
      "INFO:tensorflow:loss = 0.0045396797, step = 7501 (0.332 sec)\n",
      "INFO:tensorflow:global_step/sec: 291.744\n",
      "INFO:tensorflow:loss = 0.023980225, step = 7601 (0.344 sec)\n",
      "INFO:tensorflow:global_step/sec: 296.357\n",
      "INFO:tensorflow:loss = 0.016389975, step = 7701 (0.336 sec)\n",
      "INFO:tensorflow:global_step/sec: 298.96\n",
      "INFO:tensorflow:loss = 0.0043765297, step = 7801 (0.336 sec)\n",
      "INFO:tensorflow:global_step/sec: 282.613\n",
      "INFO:tensorflow:loss = 0.009209561, step = 7901 (0.352 sec)\n",
      "INFO:tensorflow:global_step/sec: 282.798\n",
      "INFO:tensorflow:loss = 0.0034172172, step = 8001 (0.354 sec)\n",
      "INFO:tensorflow:global_step/sec: 298.347\n",
      "INFO:tensorflow:loss = 0.021107666, step = 8101 (0.337 sec)\n",
      "INFO:tensorflow:global_step/sec: 294.744\n",
      "INFO:tensorflow:loss = 0.019903902, step = 8201 (0.337 sec)\n",
      "INFO:tensorflow:global_step/sec: 296.286\n",
      "INFO:tensorflow:loss = 0.06365826, step = 8301 (0.338 sec)\n",
      "INFO:tensorflow:global_step/sec: 299.175\n",
      "INFO:tensorflow:loss = 0.011623837, step = 8401 (0.334 sec)\n"
     ]
    },
    {
     "name": "stdout",
     "output_type": "stream",
     "text": [
      "INFO:tensorflow:global_step/sec: 294.869\n",
      "INFO:tensorflow:loss = 0.00995066, step = 8501 (0.348 sec)\n",
      "INFO:tensorflow:global_step/sec: 287.573\n",
      "INFO:tensorflow:loss = 0.0025442454, step = 8601 (0.339 sec)\n",
      "INFO:tensorflow:global_step/sec: 300.055\n",
      "INFO:tensorflow:loss = 0.0027740882, step = 8701 (0.333 sec)\n",
      "INFO:tensorflow:global_step/sec: 297.812\n",
      "INFO:tensorflow:loss = 0.007628777, step = 8801 (0.336 sec)\n",
      "INFO:tensorflow:global_step/sec: 300.622\n",
      "INFO:tensorflow:loss = 0.0028671282, step = 8901 (0.332 sec)\n",
      "INFO:tensorflow:global_step/sec: 297.293\n",
      "INFO:tensorflow:loss = 0.013419476, step = 9001 (0.337 sec)\n",
      "INFO:tensorflow:global_step/sec: 297.233\n",
      "INFO:tensorflow:loss = 0.008937519, step = 9101 (0.336 sec)\n",
      "INFO:tensorflow:global_step/sec: 299.867\n",
      "INFO:tensorflow:loss = 0.013024259, step = 9201 (0.333 sec)\n",
      "INFO:tensorflow:global_step/sec: 298.376\n",
      "INFO:tensorflow:loss = 0.008846345, step = 9301 (0.335 sec)\n",
      "INFO:tensorflow:global_step/sec: 294.001\n",
      "INFO:tensorflow:loss = 0.045122467, step = 9401 (0.340 sec)\n",
      "INFO:tensorflow:global_step/sec: 287.17\n",
      "INFO:tensorflow:loss = 0.0060266475, step = 9501 (0.349 sec)\n",
      "INFO:tensorflow:global_step/sec: 256.285\n",
      "INFO:tensorflow:loss = 0.010808524, step = 9601 (0.391 sec)\n",
      "INFO:tensorflow:global_step/sec: 268.102\n",
      "INFO:tensorflow:loss = 0.010378879, step = 9701 (0.372 sec)\n",
      "INFO:tensorflow:global_step/sec: 288.98\n",
      "INFO:tensorflow:loss = 0.0020546666, step = 9801 (0.346 sec)\n",
      "INFO:tensorflow:global_step/sec: 239.886\n",
      "INFO:tensorflow:loss = 0.01591867, step = 9901 (0.417 sec)\n",
      "INFO:tensorflow:global_step/sec: 251.286\n",
      "INFO:tensorflow:loss = 0.009781287, step = 10001 (0.399 sec)\n",
      "INFO:tensorflow:global_step/sec: 287.366\n",
      "INFO:tensorflow:loss = 0.0053940094, step = 10101 (0.347 sec)\n",
      "INFO:tensorflow:global_step/sec: 261.92\n",
      "INFO:tensorflow:loss = 0.012238619, step = 10201 (0.383 sec)\n",
      "INFO:tensorflow:global_step/sec: 219.867\n",
      "INFO:tensorflow:loss = 0.0043190033, step = 10301 (0.457 sec)\n",
      "INFO:tensorflow:global_step/sec: 207.608\n",
      "INFO:tensorflow:loss = 0.0071514808, step = 10401 (0.479 sec)\n",
      "INFO:tensorflow:global_step/sec: 209.46\n",
      "INFO:tensorflow:loss = 0.0027957023, step = 10501 (0.477 sec)\n",
      "INFO:tensorflow:global_step/sec: 202.158\n",
      "INFO:tensorflow:loss = 0.026452329, step = 10601 (0.495 sec)\n",
      "INFO:tensorflow:global_step/sec: 203.77\n",
      "INFO:tensorflow:loss = 0.034547947, step = 10701 (0.491 sec)\n",
      "INFO:tensorflow:global_step/sec: 212.463\n",
      "INFO:tensorflow:loss = 0.011844781, step = 10801 (0.470 sec)\n",
      "INFO:tensorflow:global_step/sec: 264.294\n",
      "INFO:tensorflow:loss = 0.001975774, step = 10901 (0.379 sec)\n",
      "INFO:tensorflow:global_step/sec: 243.605\n",
      "INFO:tensorflow:loss = 0.026918964, step = 11001 (0.410 sec)\n",
      "INFO:tensorflow:global_step/sec: 278.337\n",
      "INFO:tensorflow:loss = 0.0052600564, step = 11101 (0.359 sec)\n",
      "INFO:tensorflow:global_step/sec: 261.332\n",
      "INFO:tensorflow:loss = 0.0020709254, step = 11201 (0.383 sec)\n",
      "INFO:tensorflow:global_step/sec: 276.837\n",
      "INFO:tensorflow:loss = 0.004251817, step = 11301 (0.361 sec)\n",
      "INFO:tensorflow:global_step/sec: 294.689\n",
      "INFO:tensorflow:loss = 0.0102971615, step = 11401 (0.340 sec)\n",
      "INFO:tensorflow:global_step/sec: 287.281\n",
      "INFO:tensorflow:loss = 0.020511076, step = 11501 (0.348 sec)\n",
      "INFO:tensorflow:global_step/sec: 288.263\n",
      "INFO:tensorflow:loss = 0.0004306172, step = 11601 (0.347 sec)\n",
      "INFO:tensorflow:global_step/sec: 247.999\n",
      "INFO:tensorflow:loss = 0.0047565927, step = 11701 (0.404 sec)\n",
      "INFO:tensorflow:global_step/sec: 279.791\n",
      "INFO:tensorflow:loss = 0.00052475656, step = 11801 (0.358 sec)\n",
      "INFO:tensorflow:global_step/sec: 272.577\n",
      "INFO:tensorflow:loss = 0.006987793, step = 11901 (0.366 sec)\n",
      "INFO:tensorflow:global_step/sec: 301.389\n",
      "INFO:tensorflow:loss = 0.00077487546, step = 12001 (0.332 sec)\n",
      "INFO:tensorflow:global_step/sec: 298.831\n",
      "INFO:tensorflow:loss = 0.0016935671, step = 12101 (0.335 sec)\n",
      "INFO:tensorflow:global_step/sec: 300.629\n",
      "INFO:tensorflow:loss = 0.003928923, step = 12201 (0.333 sec)\n",
      "INFO:tensorflow:global_step/sec: 298.398\n",
      "INFO:tensorflow:loss = 0.0061604045, step = 12301 (0.337 sec)\n",
      "INFO:tensorflow:global_step/sec: 298.478\n",
      "INFO:tensorflow:loss = 0.00028271266, step = 12401 (0.333 sec)\n",
      "INFO:tensorflow:global_step/sec: 296.745\n",
      "INFO:tensorflow:loss = 0.0011080374, step = 12501 (0.337 sec)\n",
      "INFO:tensorflow:global_step/sec: 280.902\n",
      "INFO:tensorflow:loss = 0.0059775687, step = 12601 (0.356 sec)\n",
      "INFO:tensorflow:global_step/sec: 297.643\n",
      "INFO:tensorflow:loss = 0.0052995705, step = 12701 (0.336 sec)\n",
      "INFO:tensorflow:global_step/sec: 252.064\n",
      "INFO:tensorflow:loss = 0.010556136, step = 12801 (0.397 sec)\n",
      "INFO:tensorflow:global_step/sec: 231.2\n",
      "INFO:tensorflow:loss = 0.003490022, step = 12901 (0.432 sec)\n",
      "INFO:tensorflow:global_step/sec: 278.263\n",
      "INFO:tensorflow:loss = 0.0058945334, step = 13001 (0.359 sec)\n",
      "INFO:tensorflow:global_step/sec: 277.734\n",
      "INFO:tensorflow:loss = 0.0028161511, step = 13101 (0.362 sec)\n",
      "INFO:tensorflow:global_step/sec: 279.479\n",
      "INFO:tensorflow:loss = 0.0037967628, step = 13201 (0.358 sec)\n",
      "INFO:tensorflow:global_step/sec: 292.622\n",
      "INFO:tensorflow:loss = 0.0037223331, step = 13301 (0.340 sec)\n",
      "INFO:tensorflow:global_step/sec: 293.337\n",
      "INFO:tensorflow:loss = 0.010611384, step = 13401 (0.341 sec)\n",
      "INFO:tensorflow:global_step/sec: 277.872\n",
      "INFO:tensorflow:loss = 0.004496232, step = 13501 (0.360 sec)\n",
      "INFO:tensorflow:global_step/sec: 266.191\n",
      "INFO:tensorflow:loss = 0.0075001246, step = 13601 (0.376 sec)\n",
      "INFO:tensorflow:global_step/sec: 269.957\n",
      "INFO:tensorflow:loss = 0.002810055, step = 13701 (0.370 sec)\n",
      "INFO:tensorflow:global_step/sec: 253.249\n",
      "INFO:tensorflow:loss = 0.0068984563, step = 13801 (0.395 sec)\n",
      "INFO:tensorflow:global_step/sec: 202.383\n",
      "INFO:tensorflow:loss = 0.004157047, step = 13901 (0.494 sec)\n",
      "INFO:tensorflow:global_step/sec: 278.287\n",
      "INFO:tensorflow:loss = 0.0063888193, step = 14001 (0.359 sec)\n",
      "INFO:tensorflow:global_step/sec: 277.089\n",
      "INFO:tensorflow:loss = 0.007615367, step = 14101 (0.361 sec)\n",
      "INFO:tensorflow:global_step/sec: 225.272\n",
      "INFO:tensorflow:loss = 0.007528244, step = 14201 (0.446 sec)\n",
      "INFO:tensorflow:global_step/sec: 215.188\n",
      "INFO:tensorflow:loss = 0.001688325, step = 14301 (0.464 sec)\n",
      "INFO:tensorflow:global_step/sec: 203.937\n",
      "INFO:tensorflow:loss = 0.0007235809, step = 14401 (0.494 sec)\n",
      "INFO:tensorflow:global_step/sec: 203.281\n",
      "INFO:tensorflow:loss = 0.00091988774, step = 14501 (0.486 sec)\n",
      "INFO:tensorflow:global_step/sec: 230.89\n",
      "INFO:tensorflow:loss = 0.009225152, step = 14601 (0.433 sec)\n",
      "INFO:tensorflow:global_step/sec: 249.37\n",
      "INFO:tensorflow:loss = 0.0014247108, step = 14701 (0.406 sec)\n",
      "INFO:tensorflow:global_step/sec: 264.881\n",
      "INFO:tensorflow:loss = 0.0025479547, step = 14801 (0.372 sec)\n",
      "INFO:tensorflow:global_step/sec: 294.372\n",
      "INFO:tensorflow:loss = 0.0018010936, step = 14901 (0.340 sec)\n",
      "INFO:tensorflow:global_step/sec: 298.398\n",
      "INFO:tensorflow:loss = 0.0006255205, step = 15001 (0.335 sec)\n",
      "INFO:tensorflow:global_step/sec: 294.59\n",
      "INFO:tensorflow:loss = 0.0030421114, step = 15101 (0.340 sec)\n",
      "INFO:tensorflow:global_step/sec: 296.405\n",
      "INFO:tensorflow:loss = 0.0007972959, step = 15201 (0.337 sec)\n",
      "INFO:tensorflow:global_step/sec: 298.716\n",
      "INFO:tensorflow:loss = 0.0030669111, step = 15301 (0.335 sec)\n",
      "INFO:tensorflow:global_step/sec: 294.153\n",
      "INFO:tensorflow:loss = 0.0034442768, step = 15401 (0.340 sec)\n",
      "INFO:tensorflow:global_step/sec: 300.751\n",
      "INFO:tensorflow:loss = 0.0043842434, step = 15501 (0.332 sec)\n",
      "INFO:tensorflow:global_step/sec: 302.233\n",
      "INFO:tensorflow:loss = 0.00491595, step = 15601 (0.331 sec)\n",
      "INFO:tensorflow:global_step/sec: 300.038\n",
      "INFO:tensorflow:loss = 0.014824673, step = 15701 (0.335 sec)\n",
      "INFO:tensorflow:global_step/sec: 295.419\n",
      "INFO:tensorflow:loss = 0.0008556165, step = 15801 (0.337 sec)\n",
      "INFO:tensorflow:global_step/sec: 254.067\n",
      "INFO:tensorflow:loss = 0.00041624307, step = 15901 (0.394 sec)\n",
      "INFO:tensorflow:global_step/sec: 238.421\n",
      "INFO:tensorflow:loss = 0.004729159, step = 16001 (0.419 sec)\n",
      "INFO:tensorflow:global_step/sec: 299.411\n",
      "INFO:tensorflow:loss = 0.004659532, step = 16101 (0.333 sec)\n",
      "INFO:tensorflow:global_step/sec: 298.131\n",
      "INFO:tensorflow:loss = 0.00036455633, step = 16201 (0.336 sec)\n",
      "INFO:tensorflow:global_step/sec: 295.57\n",
      "INFO:tensorflow:loss = 0.002478161, step = 16301 (0.338 sec)\n",
      "INFO:tensorflow:global_step/sec: 298.111\n",
      "INFO:tensorflow:loss = 0.0012179201, step = 16401 (0.335 sec)\n",
      "INFO:tensorflow:global_step/sec: 287.62\n"
     ]
    },
    {
     "name": "stdout",
     "output_type": "stream",
     "text": [
      "INFO:tensorflow:loss = 0.0032252008, step = 16501 (0.348 sec)\n",
      "INFO:tensorflow:global_step/sec: 297.411\n",
      "INFO:tensorflow:loss = 0.003295678, step = 16601 (0.336 sec)\n",
      "INFO:tensorflow:global_step/sec: 297.938\n",
      "INFO:tensorflow:loss = 0.0030975104, step = 16701 (0.336 sec)\n",
      "INFO:tensorflow:global_step/sec: 293.55\n",
      "INFO:tensorflow:loss = 0.0029684352, step = 16801 (0.342 sec)\n",
      "INFO:tensorflow:global_step/sec: 300.366\n",
      "INFO:tensorflow:loss = 0.004122785, step = 16901 (0.332 sec)\n",
      "INFO:tensorflow:global_step/sec: 299.239\n",
      "INFO:tensorflow:loss = 0.004148459, step = 17001 (0.334 sec)\n",
      "INFO:tensorflow:global_step/sec: 298.367\n",
      "INFO:tensorflow:loss = 0.0012772239, step = 17101 (0.335 sec)\n",
      "INFO:tensorflow:global_step/sec: 301.322\n",
      "INFO:tensorflow:loss = 0.0062162075, step = 17201 (0.332 sec)\n",
      "INFO:tensorflow:global_step/sec: 299.713\n",
      "INFO:tensorflow:loss = 0.0016249834, step = 17301 (0.335 sec)\n",
      "INFO:tensorflow:global_step/sec: 287.321\n",
      "INFO:tensorflow:loss = 0.0011312801, step = 17401 (0.346 sec)\n",
      "INFO:tensorflow:global_step/sec: 267.713\n",
      "INFO:tensorflow:loss = 0.00207092, step = 17501 (0.374 sec)\n",
      "INFO:tensorflow:global_step/sec: 272.994\n",
      "INFO:tensorflow:loss = 0.00025871274, step = 17601 (0.368 sec)\n",
      "INFO:tensorflow:global_step/sec: 266.338\n",
      "INFO:tensorflow:loss = 0.0006972531, step = 17701 (0.374 sec)\n",
      "INFO:tensorflow:global_step/sec: 219.152\n",
      "INFO:tensorflow:loss = 0.00045096633, step = 17801 (0.456 sec)\n",
      "INFO:tensorflow:global_step/sec: 299.501\n",
      "INFO:tensorflow:loss = 0.0030484956, step = 17901 (0.334 sec)\n",
      "INFO:tensorflow:global_step/sec: 294.534\n",
      "INFO:tensorflow:loss = 0.00030918504, step = 18001 (0.340 sec)\n",
      "INFO:tensorflow:global_step/sec: 299.37\n",
      "INFO:tensorflow:loss = 0.0010097561, step = 18101 (0.333 sec)\n",
      "INFO:tensorflow:global_step/sec: 299.887\n",
      "INFO:tensorflow:loss = 0.0057744323, step = 18201 (0.334 sec)\n",
      "INFO:tensorflow:global_step/sec: 296.78\n",
      "INFO:tensorflow:loss = 0.014005261, step = 18301 (0.339 sec)\n",
      "INFO:tensorflow:global_step/sec: 296.562\n",
      "INFO:tensorflow:loss = 0.0045319675, step = 18401 (0.335 sec)\n",
      "INFO:tensorflow:global_step/sec: 295.844\n",
      "INFO:tensorflow:loss = 0.007444959, step = 18501 (0.338 sec)\n",
      "INFO:tensorflow:global_step/sec: 298.748\n",
      "INFO:tensorflow:loss = 0.0027948604, step = 18601 (0.334 sec)\n",
      "INFO:tensorflow:global_step/sec: 295.895\n",
      "INFO:tensorflow:loss = 0.0014577811, step = 18701 (0.338 sec)\n",
      "INFO:tensorflow:global_step/sec: 300.575\n",
      "INFO:tensorflow:loss = 0.00324688, step = 18801 (0.333 sec)\n",
      "INFO:tensorflow:global_step/sec: 298.158\n",
      "INFO:tensorflow:loss = 0.0030066033, step = 18901 (0.335 sec)\n",
      "INFO:tensorflow:global_step/sec: 293.628\n",
      "INFO:tensorflow:loss = 0.0013597613, step = 19001 (0.340 sec)\n",
      "INFO:tensorflow:global_step/sec: 297.576\n",
      "INFO:tensorflow:loss = 0.00060238515, step = 19101 (0.336 sec)\n",
      "INFO:tensorflow:global_step/sec: 297.821\n",
      "INFO:tensorflow:loss = 0.00040007653, step = 19201 (0.336 sec)\n",
      "INFO:tensorflow:global_step/sec: 292.617\n",
      "INFO:tensorflow:loss = 0.0092552705, step = 19301 (0.343 sec)\n",
      "INFO:tensorflow:global_step/sec: 289.667\n",
      "INFO:tensorflow:loss = 0.0010919729, step = 19401 (0.344 sec)\n",
      "INFO:tensorflow:global_step/sec: 298.344\n",
      "INFO:tensorflow:loss = 0.003180279, step = 19501 (0.335 sec)\n",
      "INFO:tensorflow:global_step/sec: 298.644\n",
      "INFO:tensorflow:loss = 0.00051366456, step = 19601 (0.335 sec)\n",
      "INFO:tensorflow:global_step/sec: 295.307\n",
      "INFO:tensorflow:loss = 0.00022369881, step = 19701 (0.339 sec)\n",
      "INFO:tensorflow:global_step/sec: 293.978\n",
      "INFO:tensorflow:loss = 0.00045797348, step = 19801 (0.342 sec)\n",
      "INFO:tensorflow:global_step/sec: 300.001\n",
      "INFO:tensorflow:loss = 0.0010659988, step = 19901 (0.333 sec)\n",
      "INFO:tensorflow:global_step/sec: 300.266\n",
      "INFO:tensorflow:loss = 0.002670181, step = 20001 (0.332 sec)\n",
      "INFO:tensorflow:global_step/sec: 297.547\n",
      "INFO:tensorflow:loss = 0.00062812254, step = 20101 (0.336 sec)\n",
      "INFO:tensorflow:global_step/sec: 297.032\n",
      "INFO:tensorflow:loss = 0.002963168, step = 20201 (0.337 sec)\n",
      "INFO:tensorflow:global_step/sec: 294.247\n",
      "INFO:tensorflow:loss = 0.001207596, step = 20301 (0.340 sec)\n",
      "INFO:tensorflow:global_step/sec: 299.611\n",
      "INFO:tensorflow:loss = 0.00012581373, step = 20401 (0.334 sec)\n",
      "INFO:tensorflow:global_step/sec: 300.856\n",
      "INFO:tensorflow:loss = 0.0009907736, step = 20501 (0.332 sec)\n",
      "INFO:tensorflow:global_step/sec: 298.212\n",
      "INFO:tensorflow:loss = 0.0008500379, step = 20601 (0.335 sec)\n",
      "INFO:tensorflow:global_step/sec: 301.187\n",
      "INFO:tensorflow:loss = 0.0010710653, step = 20701 (0.332 sec)\n",
      "INFO:tensorflow:global_step/sec: 300.123\n",
      "INFO:tensorflow:loss = 0.0021661455, step = 20801 (0.333 sec)\n",
      "INFO:tensorflow:global_step/sec: 296.03\n",
      "INFO:tensorflow:loss = 0.0015637424, step = 20901 (0.338 sec)\n",
      "INFO:tensorflow:global_step/sec: 298.557\n",
      "INFO:tensorflow:loss = 0.0021540232, step = 21001 (0.335 sec)\n",
      "INFO:tensorflow:global_step/sec: 299.077\n",
      "INFO:tensorflow:loss = 0.0011245721, step = 21101 (0.335 sec)\n",
      "INFO:tensorflow:global_step/sec: 297.522\n",
      "INFO:tensorflow:loss = 0.005389723, step = 21201 (0.338 sec)\n",
      "INFO:tensorflow:global_step/sec: 298.667\n",
      "INFO:tensorflow:loss = 0.0010536916, step = 21301 (0.333 sec)\n",
      "INFO:tensorflow:global_step/sec: 299.871\n",
      "INFO:tensorflow:loss = 0.0021337061, step = 21401 (0.333 sec)\n",
      "INFO:tensorflow:global_step/sec: 239.808\n",
      "INFO:tensorflow:loss = 0.00049811124, step = 21501 (0.417 sec)\n",
      "INFO:tensorflow:global_step/sec: 239.135\n",
      "INFO:tensorflow:loss = 0.001412808, step = 21601 (0.421 sec)\n",
      "INFO:tensorflow:global_step/sec: 236.642\n",
      "INFO:tensorflow:loss = 0.0010028646, step = 21701 (0.421 sec)\n",
      "INFO:tensorflow:global_step/sec: 250.686\n",
      "INFO:tensorflow:loss = 0.00046864268, step = 21801 (0.400 sec)\n",
      "INFO:tensorflow:global_step/sec: 234.841\n",
      "INFO:tensorflow:loss = 0.00094393553, step = 21901 (0.425 sec)\n",
      "INFO:tensorflow:global_step/sec: 294\n",
      "INFO:tensorflow:loss = 0.00024937745, step = 22001 (0.340 sec)\n",
      "INFO:tensorflow:global_step/sec: 297.014\n",
      "INFO:tensorflow:loss = 0.000119497345, step = 22101 (0.337 sec)\n",
      "INFO:tensorflow:global_step/sec: 300.004\n",
      "INFO:tensorflow:loss = 0.0015132886, step = 22201 (0.333 sec)\n",
      "INFO:tensorflow:global_step/sec: 298.672\n",
      "INFO:tensorflow:loss = 0.0023640383, step = 22301 (0.335 sec)\n",
      "INFO:tensorflow:global_step/sec: 300.152\n",
      "INFO:tensorflow:loss = 0.0026106283, step = 22401 (0.333 sec)\n",
      "INFO:tensorflow:global_step/sec: 276.119\n",
      "INFO:tensorflow:loss = 0.0016270339, step = 22501 (0.363 sec)\n",
      "INFO:tensorflow:global_step/sec: 240.626\n",
      "INFO:tensorflow:loss = 0.00332112, step = 22601 (0.415 sec)\n",
      "INFO:tensorflow:global_step/sec: 297.322\n",
      "INFO:tensorflow:loss = 0.00087221334, step = 22701 (0.336 sec)\n",
      "INFO:tensorflow:global_step/sec: 239.403\n",
      "INFO:tensorflow:loss = 0.00035150215, step = 22801 (0.418 sec)\n",
      "INFO:tensorflow:global_step/sec: 291.577\n",
      "INFO:tensorflow:loss = 0.0032267005, step = 22901 (0.343 sec)\n",
      "INFO:tensorflow:global_step/sec: 237.776\n",
      "INFO:tensorflow:loss = 0.00035577026, step = 23001 (0.420 sec)\n",
      "INFO:tensorflow:global_step/sec: 258.311\n",
      "INFO:tensorflow:loss = 0.003184392, step = 23101 (0.390 sec)\n",
      "INFO:tensorflow:global_step/sec: 257.725\n",
      "INFO:tensorflow:loss = 0.002195191, step = 23201 (0.385 sec)\n",
      "INFO:tensorflow:global_step/sec: 298.464\n",
      "INFO:tensorflow:loss = 0.0017297779, step = 23301 (0.335 sec)\n",
      "INFO:tensorflow:global_step/sec: 272.553\n",
      "INFO:tensorflow:loss = 0.0011910443, step = 23401 (0.368 sec)\n",
      "INFO:tensorflow:global_step/sec: 272.921\n",
      "INFO:tensorflow:loss = 0.00059599074, step = 23501 (0.366 sec)\n",
      "INFO:tensorflow:global_step/sec: 299.071\n",
      "INFO:tensorflow:loss = 0.0005623229, step = 23601 (0.335 sec)\n",
      "INFO:tensorflow:global_step/sec: 269.412\n",
      "INFO:tensorflow:loss = 0.0002176647, step = 23701 (0.373 sec)\n",
      "INFO:tensorflow:global_step/sec: 272.706\n",
      "INFO:tensorflow:loss = 0.0013941397, step = 23801 (0.365 sec)\n",
      "INFO:tensorflow:global_step/sec: 297.074\n",
      "INFO:tensorflow:loss = 0.0023379652, step = 23901 (0.336 sec)\n",
      "INFO:tensorflow:global_step/sec: 301.159\n",
      "INFO:tensorflow:loss = 0.00063876837, step = 24001 (0.332 sec)\n",
      "INFO:tensorflow:global_step/sec: 302.271\n",
      "INFO:tensorflow:loss = 0.0010848884, step = 24101 (0.331 sec)\n",
      "INFO:tensorflow:global_step/sec: 298.209\n",
      "INFO:tensorflow:loss = 0.0023200053, step = 24201 (0.335 sec)\n",
      "INFO:tensorflow:global_step/sec: 298.817\n",
      "INFO:tensorflow:loss = 0.00017863806, step = 24301 (0.335 sec)\n",
      "INFO:tensorflow:global_step/sec: 299.952\n",
      "INFO:tensorflow:loss = 0.0019071564, step = 24401 (0.333 sec)\n"
     ]
    },
    {
     "name": "stdout",
     "output_type": "stream",
     "text": [
      "INFO:tensorflow:global_step/sec: 296.109\n",
      "INFO:tensorflow:loss = 0.0009263355, step = 24501 (0.338 sec)\n",
      "INFO:tensorflow:global_step/sec: 299.529\n",
      "INFO:tensorflow:loss = 0.0004665117, step = 24601 (0.334 sec)\n",
      "INFO:tensorflow:global_step/sec: 299.315\n",
      "INFO:tensorflow:loss = 0.0010223058, step = 24701 (0.336 sec)\n",
      "INFO:tensorflow:global_step/sec: 296.274\n",
      "INFO:tensorflow:loss = 0.0015965268, step = 24801 (0.336 sec)\n",
      "INFO:tensorflow:global_step/sec: 300.512\n",
      "INFO:tensorflow:loss = 0.0014037909, step = 24901 (0.332 sec)\n",
      "INFO:tensorflow:global_step/sec: 277.142\n",
      "INFO:tensorflow:loss = 0.00038465814, step = 25001 (0.361 sec)\n",
      "INFO:tensorflow:global_step/sec: 245.375\n",
      "INFO:tensorflow:loss = 0.00148876, step = 25101 (0.408 sec)\n",
      "INFO:tensorflow:global_step/sec: 246.795\n",
      "INFO:tensorflow:loss = 0.001706969, step = 25201 (0.405 sec)\n",
      "INFO:tensorflow:global_step/sec: 246.796\n",
      "INFO:tensorflow:loss = 0.0002088668, step = 25301 (0.405 sec)\n",
      "INFO:tensorflow:global_step/sec: 270.366\n",
      "INFO:tensorflow:loss = 0.00069230585, step = 25401 (0.370 sec)\n",
      "INFO:tensorflow:global_step/sec: 258.721\n",
      "INFO:tensorflow:loss = 0.00081159786, step = 25501 (0.387 sec)\n",
      "INFO:tensorflow:global_step/sec: 260.714\n",
      "INFO:tensorflow:loss = 0.001518178, step = 25601 (0.385 sec)\n",
      "INFO:tensorflow:global_step/sec: 269.505\n",
      "INFO:tensorflow:loss = 0.00067512353, step = 25701 (0.370 sec)\n",
      "INFO:tensorflow:global_step/sec: 268.789\n",
      "INFO:tensorflow:loss = 0.0011455764, step = 25801 (0.372 sec)\n",
      "INFO:tensorflow:global_step/sec: 276.215\n",
      "INFO:tensorflow:loss = 0.001988813, step = 25901 (0.362 sec)\n",
      "INFO:tensorflow:global_step/sec: 267.046\n",
      "INFO:tensorflow:loss = 0.00012484626, step = 26001 (0.374 sec)\n",
      "INFO:tensorflow:global_step/sec: 221.935\n",
      "INFO:tensorflow:loss = 0.00092572276, step = 26101 (0.453 sec)\n",
      "INFO:tensorflow:global_step/sec: 216.849\n",
      "INFO:tensorflow:loss = 0.0007245273, step = 26201 (0.459 sec)\n",
      "INFO:tensorflow:global_step/sec: 178.22\n",
      "INFO:tensorflow:loss = 0.00087913574, step = 26301 (0.561 sec)\n",
      "INFO:tensorflow:global_step/sec: 267.468\n",
      "INFO:tensorflow:loss = 0.0017803105, step = 26401 (0.374 sec)\n",
      "INFO:tensorflow:global_step/sec: 239.94\n",
      "INFO:tensorflow:loss = 0.0006986805, step = 26501 (0.418 sec)\n",
      "INFO:tensorflow:global_step/sec: 210.285\n",
      "INFO:tensorflow:loss = 0.000556555, step = 26601 (0.475 sec)\n",
      "INFO:tensorflow:global_step/sec: 180.301\n",
      "INFO:tensorflow:loss = 2.2956785e-05, step = 26701 (0.556 sec)\n",
      "INFO:tensorflow:global_step/sec: 154.476\n",
      "INFO:tensorflow:loss = 0.00038556158, step = 26801 (0.646 sec)\n",
      "INFO:tensorflow:global_step/sec: 215.05\n",
      "INFO:tensorflow:loss = 0.0006206866, step = 26901 (0.464 sec)\n",
      "INFO:tensorflow:global_step/sec: 281.51\n",
      "INFO:tensorflow:loss = 0.0008915128, step = 27001 (0.355 sec)\n",
      "INFO:tensorflow:global_step/sec: 264.356\n",
      "INFO:tensorflow:loss = 0.0006274639, step = 27101 (0.381 sec)\n",
      "INFO:tensorflow:global_step/sec: 235.944\n",
      "INFO:tensorflow:loss = 0.000642098, step = 27201 (0.421 sec)\n",
      "INFO:tensorflow:global_step/sec: 256.045\n",
      "INFO:tensorflow:loss = 0.001379643, step = 27301 (0.392 sec)\n",
      "INFO:tensorflow:global_step/sec: 277.256\n",
      "INFO:tensorflow:loss = 0.00019571558, step = 27401 (0.359 sec)\n",
      "INFO:tensorflow:global_step/sec: 275.819\n",
      "INFO:tensorflow:loss = 0.0013986959, step = 27501 (0.362 sec)\n",
      "INFO:tensorflow:global_step/sec: 291.559\n",
      "INFO:tensorflow:loss = 0.0013853993, step = 27601 (0.343 sec)\n",
      "INFO:tensorflow:global_step/sec: 263.664\n",
      "INFO:tensorflow:loss = 0.00027698174, step = 27701 (0.379 sec)\n",
      "INFO:tensorflow:global_step/sec: 227.319\n",
      "INFO:tensorflow:loss = 0.00044471957, step = 27801 (0.444 sec)\n",
      "INFO:tensorflow:global_step/sec: 222.765\n",
      "INFO:tensorflow:loss = 0.000423164, step = 27901 (0.447 sec)\n",
      "INFO:tensorflow:global_step/sec: 260.871\n",
      "INFO:tensorflow:loss = 0.0017061224, step = 28001 (0.383 sec)\n",
      "INFO:tensorflow:global_step/sec: 232.359\n",
      "INFO:tensorflow:loss = 0.00051113707, step = 28101 (0.434 sec)\n",
      "INFO:tensorflow:global_step/sec: 253.583\n",
      "INFO:tensorflow:loss = 0.0005572037, step = 28201 (0.389 sec)\n",
      "INFO:tensorflow:global_step/sec: 287.787\n",
      "INFO:tensorflow:loss = 0.0009328302, step = 28301 (0.348 sec)\n",
      "INFO:tensorflow:global_step/sec: 272.232\n",
      "INFO:tensorflow:loss = 0.0010086797, step = 28401 (0.367 sec)\n",
      "INFO:tensorflow:global_step/sec: 270.026\n",
      "INFO:tensorflow:loss = 0.00041312605, step = 28501 (0.370 sec)\n",
      "INFO:tensorflow:global_step/sec: 265.519\n",
      "INFO:tensorflow:loss = 0.0005140955, step = 28601 (0.378 sec)\n",
      "INFO:tensorflow:global_step/sec: 269.219\n",
      "INFO:tensorflow:loss = 0.0012855044, step = 28701 (0.370 sec)\n",
      "INFO:tensorflow:global_step/sec: 274.98\n",
      "INFO:tensorflow:loss = 0.0012038519, step = 28801 (0.364 sec)\n",
      "INFO:tensorflow:global_step/sec: 252.629\n",
      "INFO:tensorflow:loss = 0.00018884435, step = 28901 (0.395 sec)\n",
      "INFO:tensorflow:global_step/sec: 243.318\n",
      "INFO:tensorflow:loss = 0.0017198009, step = 29001 (0.414 sec)\n",
      "INFO:tensorflow:global_step/sec: 185.39\n",
      "INFO:tensorflow:loss = 0.0010611642, step = 29101 (0.536 sec)\n",
      "INFO:tensorflow:global_step/sec: 239.874\n",
      "INFO:tensorflow:loss = 0.0018546889, step = 29201 (0.417 sec)\n",
      "INFO:tensorflow:global_step/sec: 245.285\n",
      "INFO:tensorflow:loss = 0.0021565463, step = 29301 (0.407 sec)\n",
      "INFO:tensorflow:global_step/sec: 273.334\n",
      "INFO:tensorflow:loss = 0.0013775927, step = 29401 (0.366 sec)\n",
      "INFO:tensorflow:global_step/sec: 241.408\n",
      "INFO:tensorflow:loss = 0.0014006108, step = 29501 (0.414 sec)\n",
      "INFO:tensorflow:global_step/sec: 252.569\n",
      "INFO:tensorflow:loss = 0.00025731922, step = 29601 (0.397 sec)\n",
      "INFO:tensorflow:global_step/sec: 194.619\n",
      "INFO:tensorflow:loss = 0.00021638919, step = 29701 (0.513 sec)\n",
      "INFO:tensorflow:global_step/sec: 283.723\n",
      "INFO:tensorflow:loss = 0.00037615412, step = 29801 (0.352 sec)\n",
      "INFO:tensorflow:global_step/sec: 279.178\n",
      "INFO:tensorflow:loss = 0.0010889225, step = 29901 (0.359 sec)\n",
      "INFO:tensorflow:global_step/sec: 260.553\n",
      "INFO:tensorflow:loss = 0.00013950023, step = 30001 (0.383 sec)\n",
      "INFO:tensorflow:global_step/sec: 290.85\n",
      "INFO:tensorflow:loss = 0.0007686445, step = 30101 (0.344 sec)\n",
      "INFO:tensorflow:global_step/sec: 278.965\n",
      "INFO:tensorflow:loss = 0.00046538762, step = 30201 (0.359 sec)\n",
      "INFO:tensorflow:global_step/sec: 256.673\n",
      "INFO:tensorflow:loss = 0.0007088698, step = 30301 (0.390 sec)\n",
      "INFO:tensorflow:global_step/sec: 195.069\n",
      "INFO:tensorflow:loss = 0.0015349995, step = 30401 (0.512 sec)\n",
      "INFO:tensorflow:global_step/sec: 238.122\n",
      "INFO:tensorflow:loss = 0.0007713556, step = 30501 (0.421 sec)\n",
      "INFO:tensorflow:global_step/sec: 161.673\n",
      "INFO:tensorflow:loss = 0.001321699, step = 30601 (0.618 sec)\n",
      "INFO:tensorflow:global_step/sec: 215.419\n",
      "INFO:tensorflow:loss = 0.0016249835, step = 30701 (0.463 sec)\n",
      "INFO:tensorflow:global_step/sec: 267.424\n",
      "INFO:tensorflow:loss = 0.0011996934, step = 30801 (0.376 sec)\n",
      "INFO:tensorflow:global_step/sec: 259.859\n",
      "INFO:tensorflow:loss = 0.00086750416, step = 30901 (0.383 sec)\n",
      "INFO:tensorflow:global_step/sec: 247.939\n",
      "INFO:tensorflow:loss = 0.0012225806, step = 31001 (0.404 sec)\n",
      "INFO:tensorflow:global_step/sec: 243.863\n",
      "INFO:tensorflow:loss = 0.0012375922, step = 31101 (0.410 sec)\n",
      "INFO:tensorflow:global_step/sec: 200.305\n",
      "INFO:tensorflow:loss = 0.0005373628, step = 31201 (0.499 sec)\n",
      "INFO:tensorflow:global_step/sec: 172.353\n",
      "INFO:tensorflow:loss = 0.00059078314, step = 31301 (0.586 sec)\n",
      "INFO:tensorflow:global_step/sec: 155.126\n",
      "INFO:tensorflow:loss = 0.00070234406, step = 31401 (0.649 sec)\n",
      "INFO:tensorflow:global_step/sec: 160.449\n",
      "INFO:tensorflow:loss = 0.0004895373, step = 31501 (0.616 sec)\n",
      "INFO:tensorflow:global_step/sec: 136.949\n",
      "INFO:tensorflow:loss = 0.00015375087, step = 31601 (0.729 sec)\n",
      "INFO:tensorflow:global_step/sec: 144.137\n",
      "INFO:tensorflow:loss = 0.0005781956, step = 31701 (0.696 sec)\n",
      "INFO:tensorflow:global_step/sec: 173.721\n",
      "INFO:tensorflow:loss = 0.000173699, step = 31801 (0.579 sec)\n",
      "INFO:tensorflow:global_step/sec: 156.257\n",
      "INFO:tensorflow:loss = 0.0006675744, step = 31901 (0.634 sec)\n",
      "INFO:tensorflow:global_step/sec: 214.957\n",
      "INFO:tensorflow:loss = 0.00025353712, step = 32001 (0.465 sec)\n",
      "INFO:tensorflow:global_step/sec: 214.261\n",
      "INFO:tensorflow:loss = 0.0004716718, step = 32101 (0.466 sec)\n",
      "INFO:tensorflow:global_step/sec: 233.127\n",
      "INFO:tensorflow:loss = 0.0012465206, step = 32201 (0.429 sec)\n",
      "INFO:tensorflow:global_step/sec: 274.983\n",
      "INFO:tensorflow:loss = 0.0005740083, step = 32301 (0.364 sec)\n",
      "INFO:tensorflow:global_step/sec: 227.612\n",
      "INFO:tensorflow:loss = 0.00022763973, step = 32401 (0.439 sec)\n"
     ]
    },
    {
     "name": "stdout",
     "output_type": "stream",
     "text": [
      "INFO:tensorflow:global_step/sec: 258.595\n",
      "INFO:tensorflow:loss = 0.00040557486, step = 32501 (0.388 sec)\n",
      "INFO:tensorflow:global_step/sec: 266.059\n",
      "INFO:tensorflow:loss = 0.0001366075, step = 32601 (0.374 sec)\n",
      "INFO:tensorflow:global_step/sec: 289.262\n",
      "INFO:tensorflow:loss = 0.0010750627, step = 32701 (0.346 sec)\n",
      "INFO:tensorflow:global_step/sec: 279.848\n",
      "INFO:tensorflow:loss = 0.0009075151, step = 32801 (0.358 sec)\n",
      "INFO:tensorflow:global_step/sec: 275.755\n",
      "INFO:tensorflow:loss = 0.000757748, step = 32901 (0.362 sec)\n",
      "INFO:tensorflow:global_step/sec: 283.92\n",
      "INFO:tensorflow:loss = 0.00060016656, step = 33001 (0.352 sec)\n",
      "INFO:tensorflow:global_step/sec: 209.393\n",
      "INFO:tensorflow:loss = 0.0024116903, step = 33101 (0.479 sec)\n",
      "INFO:tensorflow:global_step/sec: 158.89\n",
      "INFO:tensorflow:loss = 0.0008336779, step = 33201 (0.629 sec)\n",
      "INFO:tensorflow:global_step/sec: 178.672\n",
      "INFO:tensorflow:loss = 0.0001552428, step = 33301 (0.562 sec)\n",
      "INFO:tensorflow:global_step/sec: 257.752\n",
      "INFO:tensorflow:loss = 0.0009849702, step = 33401 (0.385 sec)\n",
      "INFO:tensorflow:global_step/sec: 287.188\n",
      "INFO:tensorflow:loss = 0.0002684261, step = 33501 (0.348 sec)\n",
      "INFO:tensorflow:global_step/sec: 276.133\n",
      "INFO:tensorflow:loss = 0.0009688213, step = 33601 (0.366 sec)\n",
      "INFO:tensorflow:global_step/sec: 246.575\n",
      "INFO:tensorflow:loss = 0.00076971424, step = 33701 (0.401 sec)\n",
      "INFO:tensorflow:global_step/sec: 258.059\n",
      "INFO:tensorflow:loss = 0.00097446056, step = 33801 (0.388 sec)\n",
      "INFO:tensorflow:global_step/sec: 265.108\n",
      "INFO:tensorflow:loss = 0.0010132964, step = 33901 (0.377 sec)\n",
      "INFO:tensorflow:global_step/sec: 259.121\n",
      "INFO:tensorflow:loss = 0.0009348704, step = 34001 (0.386 sec)\n",
      "INFO:tensorflow:global_step/sec: 257.455\n",
      "INFO:tensorflow:loss = 0.0008771008, step = 34101 (0.388 sec)\n",
      "INFO:tensorflow:global_step/sec: 289.385\n",
      "INFO:tensorflow:loss = 0.0013849713, step = 34201 (0.346 sec)\n",
      "INFO:tensorflow:global_step/sec: 265.064\n",
      "INFO:tensorflow:loss = 0.00020217095, step = 34301 (0.377 sec)\n",
      "INFO:tensorflow:global_step/sec: 215.17\n",
      "INFO:tensorflow:loss = 0.0005532393, step = 34401 (0.468 sec)\n",
      "INFO:tensorflow:global_step/sec: 245.531\n",
      "INFO:tensorflow:loss = 0.00079488166, step = 34501 (0.404 sec)\n",
      "INFO:tensorflow:global_step/sec: 210.415\n",
      "INFO:tensorflow:loss = 0.0005457703, step = 34601 (0.477 sec)\n",
      "INFO:tensorflow:global_step/sec: 226.311\n",
      "INFO:tensorflow:loss = 0.0012121955, step = 34701 (0.447 sec)\n",
      "INFO:tensorflow:global_step/sec: 164.873\n",
      "INFO:tensorflow:loss = 0.0005814673, step = 34801 (0.600 sec)\n",
      "INFO:tensorflow:global_step/sec: 155.123\n",
      "INFO:tensorflow:loss = 0.0004871445, step = 34901 (0.648 sec)\n",
      "INFO:tensorflow:global_step/sec: 165.869\n",
      "INFO:tensorflow:loss = 0.00053118874, step = 35001 (0.598 sec)\n",
      "INFO:tensorflow:global_step/sec: 166.149\n",
      "INFO:tensorflow:loss = 0.00096044684, step = 35101 (0.605 sec)\n",
      "INFO:tensorflow:global_step/sec: 243.139\n",
      "INFO:tensorflow:loss = 0.00018957714, step = 35201 (0.408 sec)\n",
      "INFO:tensorflow:global_step/sec: 227.661\n",
      "INFO:tensorflow:loss = 0.00016166564, step = 35301 (0.444 sec)\n",
      "INFO:tensorflow:global_step/sec: 191.758\n",
      "INFO:tensorflow:loss = 0.0010196981, step = 35401 (0.517 sec)\n",
      "INFO:tensorflow:global_step/sec: 186.574\n",
      "INFO:tensorflow:loss = 0.0002188006, step = 35501 (0.537 sec)\n",
      "INFO:tensorflow:global_step/sec: 230.624\n",
      "INFO:tensorflow:loss = 0.00015656542, step = 35601 (0.432 sec)\n",
      "INFO:tensorflow:global_step/sec: 197.318\n",
      "INFO:tensorflow:loss = 0.0006385972, step = 35701 (0.507 sec)\n",
      "INFO:tensorflow:global_step/sec: 184.119\n",
      "INFO:tensorflow:loss = 0.0007670754, step = 35801 (0.543 sec)\n",
      "INFO:tensorflow:global_step/sec: 184.307\n",
      "INFO:tensorflow:loss = 0.000697372, step = 35901 (0.545 sec)\n",
      "INFO:tensorflow:global_step/sec: 188.334\n",
      "INFO:tensorflow:loss = 0.00027802624, step = 36001 (0.528 sec)\n",
      "INFO:tensorflow:global_step/sec: 188.223\n",
      "INFO:tensorflow:loss = 0.0013846537, step = 36101 (0.533 sec)\n",
      "INFO:tensorflow:global_step/sec: 219.85\n",
      "INFO:tensorflow:loss = 0.00076971174, step = 36201 (0.453 sec)\n",
      "INFO:tensorflow:global_step/sec: 231.365\n",
      "INFO:tensorflow:loss = 0.00027087476, step = 36301 (0.434 sec)\n",
      "INFO:tensorflow:global_step/sec: 206.685\n",
      "INFO:tensorflow:loss = 0.000819541, step = 36401 (0.484 sec)\n",
      "INFO:tensorflow:global_step/sec: 206.51\n",
      "INFO:tensorflow:loss = 0.00025822606, step = 36501 (0.484 sec)\n",
      "INFO:tensorflow:global_step/sec: 195.215\n",
      "INFO:tensorflow:loss = 0.00028020996, step = 36601 (0.513 sec)\n",
      "INFO:tensorflow:global_step/sec: 167.353\n",
      "INFO:tensorflow:loss = 0.0004395702, step = 36701 (0.596 sec)\n",
      "INFO:tensorflow:global_step/sec: 157.364\n",
      "INFO:tensorflow:loss = 0.0008433318, step = 36801 (0.637 sec)\n",
      "INFO:tensorflow:global_step/sec: 184.448\n",
      "INFO:tensorflow:loss = 0.0005190549, step = 36901 (0.546 sec)\n",
      "INFO:tensorflow:global_step/sec: 181.55\n",
      "INFO:tensorflow:loss = 0.0007231627, step = 37001 (0.545 sec)\n",
      "INFO:tensorflow:global_step/sec: 201.791\n",
      "INFO:tensorflow:loss = 0.00017658935, step = 37101 (0.494 sec)\n",
      "INFO:tensorflow:global_step/sec: 256.41\n",
      "INFO:tensorflow:loss = 0.00026365495, step = 37201 (0.392 sec)\n",
      "INFO:tensorflow:global_step/sec: 277.884\n",
      "INFO:tensorflow:loss = 0.0007111792, step = 37301 (0.358 sec)\n",
      "INFO:tensorflow:global_step/sec: 256.811\n",
      "INFO:tensorflow:loss = 0.0002193544, step = 37401 (0.390 sec)\n",
      "INFO:tensorflow:global_step/sec: 244.664\n",
      "INFO:tensorflow:loss = 0.00041815065, step = 37501 (0.408 sec)\n",
      "INFO:tensorflow:global_step/sec: 253.507\n",
      "INFO:tensorflow:loss = 0.00047277022, step = 37601 (0.394 sec)\n",
      "INFO:tensorflow:global_step/sec: 249.606\n",
      "INFO:tensorflow:loss = 7.772471e-05, step = 37701 (0.401 sec)\n",
      "INFO:tensorflow:global_step/sec: 285.867\n",
      "INFO:tensorflow:loss = 0.0005545573, step = 37801 (0.353 sec)\n",
      "INFO:tensorflow:global_step/sec: 287.077\n",
      "INFO:tensorflow:loss = 0.0012180527, step = 37901 (0.345 sec)\n",
      "INFO:tensorflow:global_step/sec: 296.457\n",
      "INFO:tensorflow:loss = 0.00036674575, step = 38001 (0.337 sec)\n",
      "INFO:tensorflow:global_step/sec: 291.991\n",
      "INFO:tensorflow:loss = 0.00086830417, step = 38101 (0.343 sec)\n",
      "INFO:tensorflow:global_step/sec: 280.137\n",
      "INFO:tensorflow:loss = 0.0006823085, step = 38201 (0.357 sec)\n",
      "INFO:tensorflow:global_step/sec: 258.539\n",
      "INFO:tensorflow:loss = 6.158616e-05, step = 38301 (0.388 sec)\n",
      "INFO:tensorflow:global_step/sec: 277.785\n",
      "INFO:tensorflow:loss = 0.00021606669, step = 38401 (0.362 sec)\n",
      "INFO:tensorflow:global_step/sec: 250.966\n",
      "INFO:tensorflow:loss = 0.0003809525, step = 38501 (0.396 sec)\n",
      "INFO:tensorflow:global_step/sec: 253.567\n",
      "INFO:tensorflow:loss = 0.0010649818, step = 38601 (0.394 sec)\n",
      "INFO:tensorflow:global_step/sec: 202.63\n",
      "INFO:tensorflow:loss = 0.0006171233, step = 38701 (0.494 sec)\n",
      "INFO:tensorflow:global_step/sec: 219.527\n",
      "INFO:tensorflow:loss = 0.00046086463, step = 38801 (0.455 sec)\n",
      "INFO:tensorflow:global_step/sec: 243.063\n",
      "INFO:tensorflow:loss = 0.0015697241, step = 38901 (0.412 sec)\n",
      "INFO:tensorflow:global_step/sec: 234.189\n",
      "INFO:tensorflow:loss = 0.00020767468, step = 39001 (0.427 sec)\n",
      "INFO:tensorflow:global_step/sec: 258.935\n",
      "INFO:tensorflow:loss = 0.0010459994, step = 39101 (0.386 sec)\n",
      "INFO:tensorflow:global_step/sec: 222.738\n",
      "INFO:tensorflow:loss = 0.00028967232, step = 39201 (0.450 sec)\n",
      "INFO:tensorflow:global_step/sec: 246.324\n",
      "INFO:tensorflow:loss = 0.00032506615, step = 39301 (0.405 sec)\n",
      "INFO:tensorflow:global_step/sec: 271.787\n",
      "INFO:tensorflow:loss = 0.00050891266, step = 39401 (0.368 sec)\n",
      "INFO:tensorflow:global_step/sec: 264.041\n",
      "INFO:tensorflow:loss = 0.00014738261, step = 39501 (0.379 sec)\n",
      "INFO:tensorflow:global_step/sec: 251.137\n",
      "INFO:tensorflow:loss = 0.00055565324, step = 39601 (0.398 sec)\n",
      "INFO:tensorflow:global_step/sec: 237.893\n",
      "INFO:tensorflow:loss = 0.00014831759, step = 39701 (0.421 sec)\n",
      "INFO:tensorflow:global_step/sec: 237.344\n",
      "INFO:tensorflow:loss = 0.0012455039, step = 39801 (0.421 sec)\n",
      "INFO:tensorflow:global_step/sec: 269.99\n",
      "INFO:tensorflow:loss = 0.001227999, step = 39901 (0.370 sec)\n",
      "INFO:tensorflow:Saving checkpoints for 40000 into /tmp/tmpkewqz6hn/model.ckpt.\n",
      "INFO:tensorflow:Loss for final step: 0.00043976796.\n"
     ]
    },
    {
     "data": {
      "text/plain": [
       "DNNClassifier(params={'activation_fn': <function relu at 0x7f5af1ec3ae8>, 'hidden_units': [300, 100], 'feature_columns': (_RealValuedColumn(column_name='', dimension=784, default_value=None, dtype=tf.float32, normalizer=None),), 'dropout': None, 'embedding_lr_multipliers': None, 'head': <tensorflow.contrib.learn.python.learn.estimators.head._MultiClassHead object at 0x7f5a9d667a58>, 'optimizer': None, 'gradient_clip_norm': None, 'input_layer_min_slice_size': None})"
      ]
     },
     "execution_count": 18,
     "metadata": {},
     "output_type": "execute_result"
    }
   ],
   "source": [
    "import tensorflow as tf\n",
    "\n",
    "feature_columns = tf.contrib.learn.infer_real_valued_columns_from_input(X_train)\n",
    "dnn_clf = tf.contrib.learn.DNNClassifier(hidden_units=[300, 100], n_classes=10,\n",
    "                                         feature_columns=feature_columns)\n",
    "dnn_clf.fit(x=X_train, y=y_train, batch_size=50, steps=40000)"
   ]
  },
  {
   "cell_type": "code",
   "execution_count": 19,
   "metadata": {
    "colab": {
     "base_uri": "https://localhost:8080/",
     "height": 50
    },
    "colab_type": "code",
    "id": "M3iNAirFPo0u",
    "outputId": "52a907e6-4518-441a-f12d-1439e4bd98d3"
   },
   "outputs": [
    {
     "data": {
      "text/plain": [
       "(55000, 784)"
      ]
     },
     "metadata": {},
     "output_type": "display_data"
    },
    {
     "data": {
      "text/plain": [
       "''"
      ]
     },
     "metadata": {},
     "output_type": "display_data"
    }
   ],
   "source": [
    "#plt.imshow(X_train[0])\n",
    "display(X_train.shape)\n",
    "display(feature_columns[0][0])"
   ]
  },
  {
   "cell_type": "code",
   "execution_count": 20,
   "metadata": {
    "colab": {
     "base_uri": "https://localhost:8080/",
     "height": 339
    },
    "colab_type": "code",
    "id": "s0yofTb8Qlsn",
    "outputId": "a3604334-61a1-4327-b738-ec2a837cbd0e"
   },
   "outputs": [
    {
     "name": "stdout",
     "output_type": "stream",
     "text": [
      "WARNING:tensorflow:From /home/johan/anaconda2/envs/tensorflow_py3/lib/python3.5/site-packages/tensorflow/python/util/deprecation.py:553: calling DNNClassifier.predict (from tensorflow.contrib.learn.python.learn.estimators.dnn) with outputs=None is deprecated and will be removed after 2017-03-01.\n",
      "Instructions for updating:\n",
      "Please switch to predict_classes, or set `outputs` argument.\n",
      "WARNING:tensorflow:From /home/johan/anaconda2/envs/tensorflow_py3/lib/python3.5/site-packages/tensorflow/contrib/learn/python/learn/estimators/dnn.py:463: calling BaseEstimator.predict (from tensorflow.contrib.learn.python.learn.estimators.estimator) with x is deprecated and will be removed after 2016-12-01.\n",
      "Instructions for updating:\n",
      "Estimator is decoupled from Scikit Learn interface by moving into\n",
      "separate class SKCompat. Arguments x, y and batch_size are only\n",
      "available in the SKCompat class, Estimator will only accept input_fn.\n",
      "Example conversion:\n",
      "  est = Estimator(...) -> est = SKCompat(Estimator(...))\n",
      "INFO:tensorflow:Graph was finalized.\n",
      "INFO:tensorflow:Restoring parameters from /tmp/tmpkewqz6hn/model.ckpt-40000\n",
      "INFO:tensorflow:Running local_init_op.\n",
      "INFO:tensorflow:Done running local_init_op.\n"
     ]
    },
    {
     "data": {
      "text/plain": [
       "0.9835"
      ]
     },
     "execution_count": 20,
     "metadata": {},
     "output_type": "execute_result"
    }
   ],
   "source": [
    "# RUnning on the test set:\n",
    "from sklearn.metrics import accuracy_score\n",
    "y_pred = list(dnn_clf.predict(X_test))\n",
    "accuracy = accuracy_score(y_test, y_pred)\n",
    "accuracy"
   ]
  },
  {
   "cell_type": "markdown",
   "metadata": {
    "colab_type": "text",
    "id": "j2_6YFmkWxob"
   },
   "source": [
    "# Training a DNN (Plain TensorFlow)"
   ]
  },
  {
   "cell_type": "code",
   "execution_count": 23,
   "metadata": {
    "colab": {
     "base_uri": "https://localhost:8080/",
     "height": 128
    },
    "colab_type": "code",
    "id": "r4RDBWqmUChe",
    "outputId": "8630cfa9-37e2-4813-e0dc-50eed416b116"
   },
   "outputs": [],
   "source": [
    "import tensorflow as tf\n",
    "\n",
    "def neuron_layer(X, n_neurons, name, activation=None):\n",
    "    with tf.name_scope(name):\n",
    "        n_inputs = int(X.get_shape()[1])\n",
    "        #f.nn.sparse_softmax_cross_entropy_with_log\n",
    "        stddev = 1 / np.sqrt(n_inputs)\n",
    "        init = tf.truncated_normal((n_inputs, n_neurons), stddev=stddev)\n",
    "        W = tf.Variable(init, name=\"weights\")\n",
    "        b = tf.Variable(tf.zeros([n_neurons]), name=\"biases\")\n",
    "        Z = tf.matmul(X, W) + b\n",
    "        if activation==\"relu\":\n",
    "            return tf.nn.relu(Z)\n",
    "        else:\n",
    "            return Z"
   ]
  },
  {
   "cell_type": "code",
   "execution_count": 24,
   "metadata": {
    "colab": {},
    "colab_type": "code",
    "id": "3ULnCwbiXBnr"
   },
   "outputs": [],
   "source": [
    "tf.reset_default_graph()\n",
    "\n",
    "n_inputs = 28*28  # MNIST\n",
    "n_hidden1 = 300\n",
    "n_hidden2 = 100\n",
    "n_outputs = 10\n",
    "learning_rate = 0.01\n",
    "\n",
    "X = tf.placeholder(tf.float32, shape=(None, n_inputs), name=\"X\")\n",
    "y = tf.placeholder(tf.int64, shape=(None), name=\"y\")\n",
    "\n",
    "with tf.name_scope(\"dnn\"):\n",
    "    hidden1 = neuron_layer(X, n_hidden1, \"hidden1\", activation=\"relu\")\n",
    "    hidden2 = neuron_layer(hidden1, n_hidden2, \"hidden2\", activation=\"relu\")\n",
    "    logits = neuron_layer(hidden2, n_outputs, \"output\")\n",
    "\n",
    "with tf.name_scope(\"loss\"):\n",
    "    xentropy = tf.nn.sparse_softmax_cross_entropy_with_logits(labels=y, logits=logits)\n",
    "    loss = tf.reduce_mean(xentropy, name=\"loss\")\n",
    "\n",
    "with tf.name_scope(\"train\"):\n",
    "    optimizer = tf.train.GradientDescentOptimizer(learning_rate)\n",
    "    training_op = optimizer.minimize(loss)\n",
    "\n",
    "with tf.name_scope(\"eval\"):\n",
    "    correct = tf.nn.in_top_k(logits, y, 1)\n",
    "    accuracy = tf.reduce_mean(tf.cast(correct, tf.float32))\n",
    "    \n",
    "init = tf.global_variables_initializer()\n",
    "saver = tf.train.Saver()"
   ]
  },
  {
   "cell_type": "code",
   "execution_count": 25,
   "metadata": {
    "colab": {},
    "colab_type": "code",
    "id": "Mstgi8f2Xkqd"
   },
   "outputs": [],
   "source": [
    "n_epochs = 20\n",
    "batch_size = 50\n",
    "\n",
    "with tf.Session() as sess:\n",
    "    init.run()\n",
    "    for epoch in range(n_epochs):\n",
    "        for iteration in range(mnist.train.num_examples // batch_size):\n",
    "            X_batch, y_batch = mnist.train.next_batch(batch_size)\n",
    "            #display(X_batch)\n",
    "            sess.run(training_op, feed_dict={X: X_batch, y: y_batch})\n",
    "        acc_train = accuracy.eval(feed_dict={X: X_batch, y: y_batch})\n",
    "        acc_test = accuracy.eval(feed_dict={X: mnist.test.images, y: mnist.test.labels})\n",
    "        #print(epoch, \"Train accuracy:\", acc_train, \"Test accuracy:\", acc_test)\n",
    "\n",
    "    save_path = saver.save(sess, \"./my_model_final.ckpt\")"
   ]
  },
  {
   "cell_type": "code",
   "execution_count": 29,
   "metadata": {
    "colab": {
     "base_uri": "https://localhost:8080/",
     "height": 424
    },
    "colab_type": "code",
    "id": "X3DMH2gIjitW",
    "outputId": "35dd00d0-92de-4794-eb10-822e6a138954"
   },
   "outputs": [
    {
     "ename": "TypeError",
     "evalue": "Using a `tf.Tensor` as a Python `bool` is not allowed. Use `if t is not None:` instead of `if t:` to test if a tensor is defined, and use TensorFlow ops such as tf.cond to execute subgraphs conditioned on the value of a tensor.",
     "output_type": "error",
     "traceback": [
      "\u001b[0;31m---------------------------------------------------------------------------\u001b[0m",
      "\u001b[0;31mTypeError\u001b[0m                                 Traceback (most recent call last)",
      "\u001b[0;32m<ipython-input-29-7338d28b0a3a>\u001b[0m in \u001b[0;36m<module>\u001b[0;34m()\u001b[0m\n\u001b[1;32m     19\u001b[0m         \u001b[0msess\u001b[0m\u001b[0;34m.\u001b[0m\u001b[0mrun\u001b[0m\u001b[0;34m(\u001b[0m\u001b[0mtf\u001b[0m\u001b[0;34m.\u001b[0m\u001b[0mglobal_variables_initializer\u001b[0m\u001b[0;34m(\u001b[0m\u001b[0;34m)\u001b[0m\u001b[0;34m)\u001b[0m\u001b[0;34m\u001b[0m\u001b[0m\n\u001b[1;32m     20\u001b[0m         \u001b[0;32mfor\u001b[0m \u001b[0miteration\u001b[0m \u001b[0;32min\u001b[0m \u001b[0mrange\u001b[0m\u001b[0;34m(\u001b[0m\u001b[0mmnist\u001b[0m\u001b[0;34m.\u001b[0m\u001b[0mtrain\u001b[0m\u001b[0;34m.\u001b[0m\u001b[0mnum_examples\u001b[0m \u001b[0;34m//\u001b[0m \u001b[0mbatch_size\u001b[0m\u001b[0;34m)\u001b[0m\u001b[0;34m:\u001b[0m\u001b[0;34m\u001b[0m\u001b[0m\n\u001b[0;32m---> 21\u001b[0;31m             \u001b[0mX_batch\u001b[0m\u001b[0;34m,\u001b[0m \u001b[0my_batch\u001b[0m \u001b[0;34m=\u001b[0m \u001b[0msess\u001b[0m\u001b[0;34m.\u001b[0m\u001b[0mrun\u001b[0m\u001b[0;34m(\u001b[0m\u001b[0mX\u001b[0m\u001b[0;34m,\u001b[0m\u001b[0my\u001b[0m\u001b[0;34m)\u001b[0m\u001b[0;34m\u001b[0m\u001b[0m\n\u001b[0m\u001b[1;32m     22\u001b[0m             \u001b[0;31m#X_batch, y_batch = mnist.train.next_batch(batch_size)\u001b[0m\u001b[0;34m\u001b[0m\u001b[0;34m\u001b[0m\u001b[0m\n\u001b[1;32m     23\u001b[0m             \u001b[0msess\u001b[0m\u001b[0;34m.\u001b[0m\u001b[0mrun\u001b[0m\u001b[0;34m(\u001b[0m\u001b[0mtraining_op\u001b[0m\u001b[0;34m,\u001b[0m \u001b[0mfeed_dict\u001b[0m\u001b[0;34m=\u001b[0m\u001b[0;34m{\u001b[0m\u001b[0mX\u001b[0m\u001b[0;34m:\u001b[0m \u001b[0mX_batch\u001b[0m\u001b[0;34m,\u001b[0m \u001b[0my\u001b[0m\u001b[0;34m:\u001b[0m \u001b[0my_batch\u001b[0m\u001b[0;34m}\u001b[0m\u001b[0;34m)\u001b[0m\u001b[0;34m\u001b[0m\u001b[0m\n",
      "\u001b[0;32m~/anaconda2/envs/tensorflow_py3/lib/python3.5/site-packages/tensorflow/python/client/session.py\u001b[0m in \u001b[0;36mrun\u001b[0;34m(self, fetches, feed_dict, options, run_metadata)\u001b[0m\n\u001b[1;32m    885\u001b[0m     \u001b[0;32mtry\u001b[0m\u001b[0;34m:\u001b[0m\u001b[0;34m\u001b[0m\u001b[0m\n\u001b[1;32m    886\u001b[0m       result = self._run(None, fetches, feed_dict, options_ptr,\n\u001b[0;32m--> 887\u001b[0;31m                          run_metadata_ptr)\n\u001b[0m\u001b[1;32m    888\u001b[0m       \u001b[0;32mif\u001b[0m \u001b[0mrun_metadata\u001b[0m\u001b[0;34m:\u001b[0m\u001b[0;34m\u001b[0m\u001b[0m\n\u001b[1;32m    889\u001b[0m         \u001b[0mproto_data\u001b[0m \u001b[0;34m=\u001b[0m \u001b[0mtf_session\u001b[0m\u001b[0;34m.\u001b[0m\u001b[0mTF_GetBuffer\u001b[0m\u001b[0;34m(\u001b[0m\u001b[0mrun_metadata_ptr\u001b[0m\u001b[0;34m)\u001b[0m\u001b[0;34m\u001b[0m\u001b[0m\n",
      "\u001b[0;32m~/anaconda2/envs/tensorflow_py3/lib/python3.5/site-packages/tensorflow/python/client/session.py\u001b[0m in \u001b[0;36m_run\u001b[0;34m(self, handle, fetches, feed_dict, options, run_metadata)\u001b[0m\n\u001b[1;32m   1042\u001b[0m     \u001b[0;31m# Validate and process feed_dict.\u001b[0m\u001b[0;34m\u001b[0m\u001b[0;34m\u001b[0m\u001b[0m\n\u001b[1;32m   1043\u001b[0m     \u001b[0mfeed_handles\u001b[0m \u001b[0;34m=\u001b[0m \u001b[0;34m{\u001b[0m\u001b[0;34m}\u001b[0m\u001b[0;34m\u001b[0m\u001b[0m\n\u001b[0;32m-> 1044\u001b[0;31m     \u001b[0;32mif\u001b[0m \u001b[0mfeed_dict\u001b[0m\u001b[0;34m:\u001b[0m\u001b[0;34m\u001b[0m\u001b[0m\n\u001b[0m\u001b[1;32m   1045\u001b[0m       \u001b[0mfeed_dict\u001b[0m \u001b[0;34m=\u001b[0m \u001b[0mnest\u001b[0m\u001b[0;34m.\u001b[0m\u001b[0mflatten_dict_items\u001b[0m\u001b[0;34m(\u001b[0m\u001b[0mfeed_dict\u001b[0m\u001b[0;34m)\u001b[0m\u001b[0;34m\u001b[0m\u001b[0m\n\u001b[1;32m   1046\u001b[0m       \u001b[0;32mfor\u001b[0m \u001b[0mfeed\u001b[0m\u001b[0;34m,\u001b[0m \u001b[0mfeed_val\u001b[0m \u001b[0;32min\u001b[0m \u001b[0mfeed_dict\u001b[0m\u001b[0;34m.\u001b[0m\u001b[0mitems\u001b[0m\u001b[0;34m(\u001b[0m\u001b[0;34m)\u001b[0m\u001b[0;34m:\u001b[0m\u001b[0;34m\u001b[0m\u001b[0m\n",
      "\u001b[0;32m~/anaconda2/envs/tensorflow_py3/lib/python3.5/site-packages/tensorflow/python/framework/ops.py\u001b[0m in \u001b[0;36m__bool__\u001b[0;34m(self)\u001b[0m\n\u001b[1;32m    667\u001b[0m       \u001b[0;31m`\u001b[0m\u001b[0mTypeError\u001b[0m\u001b[0;31m`\u001b[0m\u001b[0;34m.\u001b[0m\u001b[0;34m\u001b[0m\u001b[0m\n\u001b[1;32m    668\u001b[0m     \"\"\"\n\u001b[0;32m--> 669\u001b[0;31m     raise TypeError(\"Using a `tf.Tensor` as a Python `bool` is not allowed. \"\n\u001b[0m\u001b[1;32m    670\u001b[0m                     \u001b[0;34m\"Use `if t is not None:` instead of `if t:` to test if a \"\u001b[0m\u001b[0;34m\u001b[0m\u001b[0m\n\u001b[1;32m    671\u001b[0m                     \u001b[0;34m\"tensor is defined, and use TensorFlow ops such as \"\u001b[0m\u001b[0;34m\u001b[0m\u001b[0m\n",
      "\u001b[0;31mTypeError\u001b[0m: Using a `tf.Tensor` as a Python `bool` is not allowed. Use `if t is not None:` instead of `if t:` to test if a tensor is defined, and use TensorFlow ops such as tf.cond to execute subgraphs conditioned on the value of a tensor."
     ]
    }
   ],
   "source": [
    "n_epochs = 20\n",
    "batch_size = 50\n",
    "#Dtraining = tf.data.Dataset.from_tensor_slices((X_train,y_train))\n",
    "#Dtraining = Dtraining.batch(batch_size)\n",
    "#iterator = dataset.make_initializable_iterator()\n",
    "\n",
    "\n",
    "dataset = tf.data.Dataset.from_tensor_slices((X_train, y_train))\n",
    "# Generate the complete Dataset required in the pipeline\n",
    "dataset = dataset.repeat(n_epochs ).batch(batch_size)\n",
    "iterator = dataset.make_one_shot_iterator()\n",
    "\n",
    "X,y = iterator.get_next()\n",
    "\n",
    "with tf.Session() as sess:\n",
    "    init.run()\n",
    "    for epoch in range(n_epochs):\n",
    "        #sess.run(iterator.initializer)\n",
    "        sess.run(tf.global_variables_initializer())\n",
    "        for iteration in range(mnist.train.num_examples // batch_size):\n",
    "            X_batch, y_batch = sess.run(X,y)\n",
    "            #X_batch, y_batch = mnist.train.next_batch(batch_size)\n",
    "            sess.run(training_op, feed_dict={X: X_batch, y: y_batch})\n",
    "            acc_train = accuracy.eval(feed_dict={X: X_batch, y: y_batch})\n",
    "            acc_test = accuracy.eval(feed_dict={X: mnist.test.images, y: mnist.test.labels})\n",
    "            print(epoch, \"Train accuracy:\", acc_train, \"Test accuracy:\", acc_test)\n",
    "\n",
    "    save_path = saver.save(sess, \"./my_model_final.ckpt\")"
   ]
  },
  {
   "cell_type": "code",
   "execution_count": 0,
   "metadata": {
    "colab": {},
    "colab_type": "code",
    "id": "bc2k0KhKXmk9"
   },
   "outputs": [],
   "source": [
    "with tf.Session() as sess:\n",
    "    saver.restore(sess, save_path) #\"my_model_final.ckpt\")\n",
    "    X_new_scaled = mnist.test.images[:20]\n",
    "    Z = logits.eval(feed_dict={X: X_new_scaled})\n",
    "    print(np.argmax(Z, axis=1))\n",
    "    print(mnist.test.labels[:20])"
   ]
  }
 ],
 "metadata": {
  "colab": {
   "name": "SI5-Deep_learning_1.ipynb",
   "provenance": [],
   "version": "0.3.2"
  },
  "kernelspec": {
   "display_name": "Python 3",
   "language": "python",
   "name": "python3"
  },
  "language_info": {
   "codemirror_mode": {
    "name": "ipython",
    "version": 3
   },
   "file_extension": ".py",
   "mimetype": "text/x-python",
   "name": "python",
   "nbconvert_exporter": "python",
   "pygments_lexer": "ipython3",
   "version": "3.5.2"
  },
  "varInspector": {
   "cols": {
    "lenName": 16,
    "lenType": 16,
    "lenVar": 40
   },
   "kernels_config": {
    "python": {
     "delete_cmd_postfix": "",
     "delete_cmd_prefix": "del ",
     "library": "var_list.py",
     "varRefreshCmd": "print(var_dic_list())"
    },
    "r": {
     "delete_cmd_postfix": ") ",
     "delete_cmd_prefix": "rm(",
     "library": "var_list.r",
     "varRefreshCmd": "cat(var_dic_list()) "
    }
   },
   "types_to_exclude": [
    "module",
    "function",
    "builtin_function_or_method",
    "instance",
    "_Feature"
   ],
   "window_display": false
  }
 },
 "nbformat": 4,
 "nbformat_minor": 1
}
