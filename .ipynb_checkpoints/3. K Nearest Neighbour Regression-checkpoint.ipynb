{
 "cells": [
  {
   "cell_type": "code",
   "execution_count": 1,
   "metadata": {},
   "outputs": [],
   "source": [
    "import numpy as np\n",
    "import pandas as pd\n",
    "import math\n",
    "from sklearn.model_selection import train_test_split\n",
    "import sklearn.neighbors\n",
    "from sklearn.neighbors import KNeighborsClassifier\n",
    "from sklearn.neighbors import KNeighborsRegressor\n",
    "from sklearn import metrics\n",
    "from sklearn.preprocessing import scale\n",
    "from collections import Counter"
   ]
  },
  {
   "cell_type": "code",
   "execution_count": 2,
   "metadata": {},
   "outputs": [],
   "source": [
    "# Predict the output of the numeric variables based on K nearest neighbours\n",
    "# Output is the mean of the K nearest neighbours\n",
    "#loc gets rows (or columns) with particular labels from the index.\n",
    "#iloc gets rows (or columns) at particular positions in the index (so it only takes integers).\n",
    "def predictOutputNumeric(X_train,Y_train,X_test,K):\n",
    "    neighbours=[]\n",
    "    responses=[]\n",
    "    for i in range(len(X_test)):\n",
    "        neighbours.append(distNeighbours(X_train,Y_train,X_test.iloc[i,:],K))\n",
    "    for i in neighbours:\n",
    "        mean=0\n",
    "        for j in i:\n",
    "            mean+=j[-1]\n",
    "        mean=mean/K\n",
    "        responses.append(mean)\n",
    "    return responses"
   ]
  },
  {
   "cell_type": "code",
   "execution_count": 3,
   "metadata": {},
   "outputs": [],
   "source": [
    "# Function to return the list of distances of the test records from train records\n",
    "def distNeighbours(X_train,Y_train,X_test,K):\n",
    "    distance=[]\n",
    "    for i in range(len(X_train)):\n",
    "        eDistance=0\n",
    "        for j in range(len(X_train.columns)):   \n",
    "                eDistance+=round(np.sqrt(pow((X_train.iloc[i,j]-X_test[j]),2)),2)\n",
    "        distance.append((eDistance,i,Y_train.iloc[i]))\n",
    "        distance=sorted(distance, key=lambda x: x[0])[0:K]\n",
    "    return distance"
   ]
  },
  {
   "cell_type": "code",
   "execution_count": 4,
   "metadata": {},
   "outputs": [],
   "source": [
    "# Accuarcy of the numerical predictions\n",
    "def getAccuracyNumeric(actual,predicted):\n",
    "    error=0\n",
    "    for i in range(len(predicted)):\n",
    "        error+=pow((actual[i]-predicted[i]),2)\n",
    "    error=error/len(predicted)-1\n",
    "    return 100-error"
   ]
  },
  {
   "cell_type": "markdown",
   "metadata": {},
   "source": [
    "##  K Nearest Neighbour Regression\n"
   ]
  },
  {
   "cell_type": "code",
   "execution_count": 5,
   "metadata": {},
   "outputs": [
    {
     "data": {
      "text/html": [
       "<div>\n",
       "<style scoped>\n",
       "    .dataframe tbody tr th:only-of-type {\n",
       "        vertical-align: middle;\n",
       "    }\n",
       "\n",
       "    .dataframe tbody tr th {\n",
       "        vertical-align: top;\n",
       "    }\n",
       "\n",
       "    .dataframe thead th {\n",
       "        text-align: right;\n",
       "    }\n",
       "</style>\n",
       "<table border=\"1\" class=\"dataframe\">\n",
       "  <thead>\n",
       "    <tr style=\"text-align: right;\">\n",
       "      <th></th>\n",
       "      <th>GPA</th>\n",
       "      <th>Miles from Home</th>\n",
       "      <th>College</th>\n",
       "      <th>Accommodations</th>\n",
       "      <th>Years Off</th>\n",
       "      <th>Part-Time Work Hours</th>\n",
       "      <th>Attends Office Hours</th>\n",
       "      <th>High School GPA</th>\n",
       "    </tr>\n",
       "  </thead>\n",
       "  <tbody>\n",
       "    <tr>\n",
       "      <th>0</th>\n",
       "      <td>0.73</td>\n",
       "      <td>253</td>\n",
       "      <td>Social Sciences</td>\n",
       "      <td>Dorm</td>\n",
       "      <td>4</td>\n",
       "      <td>35</td>\n",
       "      <td>Sometimes</td>\n",
       "      <td>3.23</td>\n",
       "    </tr>\n",
       "    <tr>\n",
       "      <th>1</th>\n",
       "      <td>1.60</td>\n",
       "      <td>143</td>\n",
       "      <td>Social Sciences</td>\n",
       "      <td>Dorm</td>\n",
       "      <td>5</td>\n",
       "      <td>30</td>\n",
       "      <td>Never</td>\n",
       "      <td>2.35</td>\n",
       "    </tr>\n",
       "    <tr>\n",
       "      <th>2</th>\n",
       "      <td>2.17</td>\n",
       "      <td>171</td>\n",
       "      <td>Social Sciences</td>\n",
       "      <td>Dorm</td>\n",
       "      <td>0</td>\n",
       "      <td>25</td>\n",
       "      <td>Never</td>\n",
       "      <td>3.95</td>\n",
       "    </tr>\n",
       "    <tr>\n",
       "      <th>3</th>\n",
       "      <td>1.02</td>\n",
       "      <td>332</td>\n",
       "      <td>Sciences</td>\n",
       "      <td>Off-campus</td>\n",
       "      <td>5</td>\n",
       "      <td>30</td>\n",
       "      <td>Sometimes</td>\n",
       "      <td>3.44</td>\n",
       "    </tr>\n",
       "    <tr>\n",
       "      <th>4</th>\n",
       "      <td>3.14</td>\n",
       "      <td>112</td>\n",
       "      <td>Business</td>\n",
       "      <td>Dorm</td>\n",
       "      <td>0</td>\n",
       "      <td>25</td>\n",
       "      <td>Sometimes</td>\n",
       "      <td>3.20</td>\n",
       "    </tr>\n",
       "  </tbody>\n",
       "</table>\n",
       "</div>"
      ],
      "text/plain": [
       "    GPA  Miles from Home          College Accommodations  Years Off  \\\n",
       "0  0.73              253  Social Sciences           Dorm          4   \n",
       "1  1.60              143  Social Sciences           Dorm          5   \n",
       "2  2.17              171  Social Sciences           Dorm          0   \n",
       "3  1.02              332         Sciences     Off-campus          5   \n",
       "4  3.14              112         Business           Dorm          0   \n",
       "\n",
       "   Part-Time Work Hours Attends Office Hours  High School GPA  \n",
       "0                    35            Sometimes             3.23  \n",
       "1                    30                Never             2.35  \n",
       "2                    25                Never             3.95  \n",
       "3                    30            Sometimes             3.44  \n",
       "4                    25            Sometimes             3.20  "
      ]
     },
     "execution_count": 5,
     "metadata": {},
     "output_type": "execute_result"
    }
   ],
   "source": [
    "# This is for trying out regression using KNN\n",
    "df=pd.read_csv('/home/johan/repos/GitHub/Introduction-to-Machine-Learning/Datasets/Freshmen.csv')\n",
    "df.head()"
   ]
  },
  {
   "cell_type": "code",
   "execution_count": 6,
   "metadata": {},
   "outputs": [
    {
     "name": "stdout",
     "output_type": "stream",
     "text": [
      "0    Social Sciences\n",
      "1    Social Sciences\n",
      "2    Social Sciences\n",
      "Name: College, dtype: object <class 'pandas.core.series.Series'>\n",
      "--------------------\n",
      "0    Sometimes\n",
      "1        Never\n",
      "2        Never\n",
      "Name: Attends Office Hours, dtype: object <class 'pandas.core.series.Series'>\n"
     ]
    }
   ],
   "source": [
    "print(df.College[0:3],type(df.College))\n",
    "print('--------------------')\n",
    "print(df['Attends Office Hours'][0:3],type(df['Attends Office Hours'][0:3]))"
   ]
  },
  {
   "cell_type": "code",
   "execution_count": 7,
   "metadata": {},
   "outputs": [
    {
     "name": "stdout",
     "output_type": "stream",
     "text": [
      "0    Social Sciences\n",
      "1    Social Sciences\n",
      "2    Social Sciences\n",
      "Name: College, dtype: category\n",
      "Categories (5, object): [Business, Engineering, Liberal Arts, Sciences, Social Sciences] <class 'pandas.core.series.Series'>\n",
      "--------------------\n",
      "0    Sometimes\n",
      "1        Never\n",
      "2        Never\n",
      "Name: Attends Office Hours, dtype: category\n",
      "Categories (3, object): [Never, Regularly, Sometimes] <class 'pandas.core.series.Series'>\n"
     ]
    }
   ],
   "source": [
    "# Change the data types of the categorical variables accordingly\n",
    "df.Accommodations = df.Accommodations.astype('category')\n",
    "df['Attends Office Hours'] = df['Attends Office Hours'].astype('category')\n",
    "df.College = df.College.astype('category')\n",
    "\n",
    "print(df.College[0:3],type(df.College))\n",
    "print('--------------------')\n",
    "print(df['Attends Office Hours'][0:3],type(df['Attends Office Hours'][0:3]))"
   ]
  },
  {
   "cell_type": "code",
   "execution_count": 8,
   "metadata": {},
   "outputs": [
    {
     "data": {
      "text/html": [
       "<div>\n",
       "<style scoped>\n",
       "    .dataframe tbody tr th:only-of-type {\n",
       "        vertical-align: middle;\n",
       "    }\n",
       "\n",
       "    .dataframe tbody tr th {\n",
       "        vertical-align: top;\n",
       "    }\n",
       "\n",
       "    .dataframe thead th {\n",
       "        text-align: right;\n",
       "    }\n",
       "</style>\n",
       "<table border=\"1\" class=\"dataframe\">\n",
       "  <thead>\n",
       "    <tr style=\"text-align: right;\">\n",
       "      <th></th>\n",
       "      <th>GPA</th>\n",
       "      <th>Miles from Home</th>\n",
       "      <th>Years Off</th>\n",
       "      <th>Part-Time Work Hours</th>\n",
       "      <th>High School GPA</th>\n",
       "      <th>College_Engineering</th>\n",
       "      <th>College_Liberal Arts</th>\n",
       "      <th>College_Sciences</th>\n",
       "      <th>College_Social Sciences</th>\n",
       "      <th>Accommodations_Off-campus</th>\n",
       "      <th>Accommodations_Other</th>\n",
       "      <th>Attends Office Hours_Regularly</th>\n",
       "      <th>Attends Office Hours_Sometimes</th>\n",
       "    </tr>\n",
       "  </thead>\n",
       "  <tbody>\n",
       "    <tr>\n",
       "      <th>0</th>\n",
       "      <td>0.73</td>\n",
       "      <td>253</td>\n",
       "      <td>4</td>\n",
       "      <td>35</td>\n",
       "      <td>3.23</td>\n",
       "      <td>0</td>\n",
       "      <td>0</td>\n",
       "      <td>0</td>\n",
       "      <td>1</td>\n",
       "      <td>0</td>\n",
       "      <td>0</td>\n",
       "      <td>0</td>\n",
       "      <td>1</td>\n",
       "    </tr>\n",
       "    <tr>\n",
       "      <th>1</th>\n",
       "      <td>1.60</td>\n",
       "      <td>143</td>\n",
       "      <td>5</td>\n",
       "      <td>30</td>\n",
       "      <td>2.35</td>\n",
       "      <td>0</td>\n",
       "      <td>0</td>\n",
       "      <td>0</td>\n",
       "      <td>1</td>\n",
       "      <td>0</td>\n",
       "      <td>0</td>\n",
       "      <td>0</td>\n",
       "      <td>0</td>\n",
       "    </tr>\n",
       "    <tr>\n",
       "      <th>2</th>\n",
       "      <td>2.17</td>\n",
       "      <td>171</td>\n",
       "      <td>0</td>\n",
       "      <td>25</td>\n",
       "      <td>3.95</td>\n",
       "      <td>0</td>\n",
       "      <td>0</td>\n",
       "      <td>0</td>\n",
       "      <td>1</td>\n",
       "      <td>0</td>\n",
       "      <td>0</td>\n",
       "      <td>0</td>\n",
       "      <td>0</td>\n",
       "    </tr>\n",
       "    <tr>\n",
       "      <th>3</th>\n",
       "      <td>1.02</td>\n",
       "      <td>332</td>\n",
       "      <td>5</td>\n",
       "      <td>30</td>\n",
       "      <td>3.44</td>\n",
       "      <td>0</td>\n",
       "      <td>0</td>\n",
       "      <td>1</td>\n",
       "      <td>0</td>\n",
       "      <td>1</td>\n",
       "      <td>0</td>\n",
       "      <td>0</td>\n",
       "      <td>1</td>\n",
       "    </tr>\n",
       "    <tr>\n",
       "      <th>4</th>\n",
       "      <td>3.14</td>\n",
       "      <td>112</td>\n",
       "      <td>0</td>\n",
       "      <td>25</td>\n",
       "      <td>3.20</td>\n",
       "      <td>0</td>\n",
       "      <td>0</td>\n",
       "      <td>0</td>\n",
       "      <td>0</td>\n",
       "      <td>0</td>\n",
       "      <td>0</td>\n",
       "      <td>0</td>\n",
       "      <td>1</td>\n",
       "    </tr>\n",
       "  </tbody>\n",
       "</table>\n",
       "</div>"
      ],
      "text/plain": [
       "    GPA  Miles from Home  Years Off  Part-Time Work Hours  High School GPA  \\\n",
       "0  0.73              253          4                    35             3.23   \n",
       "1  1.60              143          5                    30             2.35   \n",
       "2  2.17              171          0                    25             3.95   \n",
       "3  1.02              332          5                    30             3.44   \n",
       "4  3.14              112          0                    25             3.20   \n",
       "\n",
       "   College_Engineering  College_Liberal Arts  College_Sciences  \\\n",
       "0                    0                     0                 0   \n",
       "1                    0                     0                 0   \n",
       "2                    0                     0                 0   \n",
       "3                    0                     0                 1   \n",
       "4                    0                     0                 0   \n",
       "\n",
       "   College_Social Sciences  Accommodations_Off-campus  Accommodations_Other  \\\n",
       "0                        1                          0                     0   \n",
       "1                        1                          0                     0   \n",
       "2                        1                          0                     0   \n",
       "3                        0                          1                     0   \n",
       "4                        0                          0                     0   \n",
       "\n",
       "   Attends Office Hours_Regularly  Attends Office Hours_Sometimes  \n",
       "0                               0                               1  \n",
       "1                               0                               0  \n",
       "2                               0                               0  \n",
       "3                               0                               1  \n",
       "4                               0                               1  "
      ]
     },
     "execution_count": 8,
     "metadata": {},
     "output_type": "execute_result"
    }
   ],
   "source": [
    "# Generate dummy values of the categorical variables and drop one (i.e. n-1 dummies for n categories)\n",
    "# Some machine learning techniques require you to drop one dimension from the representation so as\n",
    "#to avoid dependency among the variables. Use \"drop_first=True\" to achieve that.\n",
    "df_dummies = pd.get_dummies(df,drop_first=True)\n",
    "# Display top 5 records\n",
    "df_dummies.head()"
   ]
  },
  {
   "cell_type": "code",
   "execution_count": 9,
   "metadata": {},
   "outputs": [
    {
     "name": "stdout",
     "output_type": "stream",
     "text": [
      "X_train (100, 12)\n",
      "Y_train (100,)\n",
      "X_train_divided (70, 12)\n",
      "Y_train_divided (70,)\n",
      "X_train.index Int64Index([27, 17,  9, 69, 37, 76, 13, 64,  0,  8, 21, 87, 24, 75, 40, 28, 58,\n",
      "            63, 54, 47, 65, 93, 85, 36, 15, 49,  1, 80, 55, 68, 53, 30, 50, 89,\n",
      "            25, 52, 48, 32, 26, 79,  3, 74, 92, 10, 98, 94, 23, 19, 16, 22, 11,\n",
      "            12, 44, 31, 77, 33, 35, 45, 42, 14, 83, 61, 67, 57, 73, 18, 66, 88,\n",
      "             7, 20],\n",
      "           dtype='int64')\n",
      "X_test.index Int64Index([56, 90, 95, 82, 60, 71,  6, 81,  2, 70, 96, 62, 59, 86, 41, 39,  4,\n",
      "            34, 99, 72, 78, 97, 29, 84, 38, 43, 46,  5, 91, 51],\n",
      "           dtype='int64')\n"
     ]
    }
   ],
   "source": [
    "# Specifying the X and Y\n",
    "X_train = df_dummies.iloc[:,1:]\n",
    "print('X_train',X_train.shape)\n",
    "Y_train = df_dummies.GPA\n",
    "print('Y_train',Y_train.shape)\n",
    "# Splitting data into 70:30 train:test ratio\n",
    "X_train,X_test,Y_train,Y_test = train_test_split(X_train,Y_train,test_size=0.3,random_state=33)\n",
    "print('X_train_divided',X_train.shape)\n",
    "print('Y_train_divided',Y_train.shape)\n",
    "print('X_train.index',X_train.index)\n",
    "print('X_test.index',X_test.index)"
   ]
  },
  {
   "cell_type": "code",
   "execution_count": 10,
   "metadata": {},
   "outputs": [
    {
     "name": "stdout",
     "output_type": "stream",
     "text": [
      "X_train.index RangeIndex(start=0, stop=70, step=1)\n",
      "X_test.index RangeIndex(start=0, stop=30, step=1)\n"
     ]
    }
   ],
   "source": [
    "# Changing the index of the records to sequential\n",
    "X_train.index = range(len(X_train))\n",
    "Y_train.index = range(len(X_train))\n",
    "X_test.index = range(len(X_test))\n",
    "Y_test.index = range(len(Y_test))\n",
    "print('X_train.index',X_train.index)\n",
    "print('X_test.index',X_test.index)"
   ]
  },
  {
   "cell_type": "code",
   "execution_count": 11,
   "metadata": {},
   "outputs": [
    {
     "name": "stdout",
     "output_type": "stream",
     "text": [
      "Accuracy from the code: 99.94\n",
      "Accuracy from the model 99.88\n"
     ]
    }
   ],
   "source": [
    "# Predict GPA\n",
    "output=predictOutputNumeric(X_train,Y_train,X_test,3)\n",
    "print('Accuracy from the code: {:^0.2f}'.format(getAccuracyNumeric(Y_test,output),2))\n",
    "\n",
    "model=KNeighborsRegressor(n_neighbors=3,p=2)\n",
    "model.fit(X_train,Y_train)\n",
    "print('Accuracy from the model {:^0.2f}'.format(metrics.mean_squared_error(Y_test,model.predict(X_test))*100))\n"
   ]
  },
  {
   "cell_type": "code",
   "execution_count": 12,
   "metadata": {},
   "outputs": [
    {
     "data": {
      "text/plain": [
       "array([ True,  True,  True,  True,  True,  True, False,  True, False,\n",
       "        True,  True,  True,  True,  True, False,  True,  True,  True,\n",
       "       False,  True,  True, False,  True, False,  True,  True,  True,\n",
       "        True, False, False])"
      ]
     },
     "execution_count": 12,
     "metadata": {},
     "output_type": "execute_result"
    }
   ],
   "source": [
    "# Check whether both the outputs are same or not\n",
    "# They are not same - Need to find why?\n",
    "output==model.predict(X_test)"
   ]
  }
 ],
 "metadata": {
  "kernelspec": {
   "display_name": "Python 3",
   "language": "python",
   "name": "python3"
  },
  "language_info": {
   "codemirror_mode": {
    "name": "ipython",
    "version": 3
   },
   "file_extension": ".py",
   "mimetype": "text/x-python",
   "name": "python",
   "nbconvert_exporter": "python",
   "pygments_lexer": "ipython3",
   "version": "3.5.2"
  },
  "varInspector": {
   "cols": {
    "lenName": 16,
    "lenType": 16,
    "lenVar": 40
   },
   "kernels_config": {
    "python": {
     "delete_cmd_postfix": "",
     "delete_cmd_prefix": "del ",
     "library": "var_list.py",
     "varRefreshCmd": "print(var_dic_list())"
    },
    "r": {
     "delete_cmd_postfix": ") ",
     "delete_cmd_prefix": "rm(",
     "library": "var_list.r",
     "varRefreshCmd": "cat(var_dic_list()) "
    }
   },
   "types_to_exclude": [
    "module",
    "function",
    "builtin_function_or_method",
    "instance",
    "_Feature"
   ],
   "window_display": false
  }
 },
 "nbformat": 4,
 "nbformat_minor": 2
}
