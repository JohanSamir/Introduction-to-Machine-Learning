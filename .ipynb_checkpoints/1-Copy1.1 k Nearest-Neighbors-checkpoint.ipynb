{
 "cells": [
  {
   "cell_type": "code",
   "execution_count": null,
   "metadata": {},
   "outputs": [],
   "source": [
    "import pickle\n",
    "import numpy as np\n",
    "from collections import Counter\n",
    "from sklearn.neighbors import KNeighborsClassifier\n",
    "\n",
    "def unpickle(file):\n",
    "    # unpickles cifar10 dataset\n",
    "    with open(file, 'rb') as fo:\n",
    "        dic = pickle.load(fo, encoding='bytes')\n",
    "    return dic\n",
    "\n",
    "def getCIFAR10(direc, filename, batches):\n",
    "    # Converts the data in batches to a full training set\n",
    "    for j in range(1, batches+1):\n",
    "        file = direc + filename + str(j)\n",
    "        dic = unpickle(file)\n",
    "        if j == 1:\n",
    "            X_train = dic[b'data']\n",
    "            y_train = dic[b'labels']\n",
    "        else:\n",
    "            temp_X = dic[b'data']\n",
    "            temp_y = dic[b'labels']\n",
    "            X_train = np.concatenate((X_train, temp_X))\n",
    "            y_train = np.concatenate((y_train, temp_y))\n",
    "    return X_train, y_train\n",
    "\n",
    "if __name__ == '__main__':\n",
    "    direc = '/home/johan/repos/GitHub/Introduction-to-Machine-Learning/cifar-10-batches-py/'\n",
    "    test_file = 'test_batch'\n",
    "    filename = 'data_batch_'\n",
    "    X_train, y_train = getCIFAR10(direc, filename, 5)\n",
    "    data_test = unpickle(direc + test_file)\n",
    "    X_test = data_test[b'data']\n",
    "    y_test = data_test[b'labels']\n",
    "    # Call kNN\n",
    "    k = int(input(\"Enter the value of k for k-Nearest Neighbor Classifier: \"))\n",
    "    print(\"Computation under process\")\n",
    "    print(\"Please Wait...\")\n",
    "    knn = KNeighborsClassifier(n_neighbors=k)\n",
    "    knn.fit(X_train, y_train)\n",
    "    Yte_predict = knn.predict(X_test)\n",
    "    print(\"Prediction complete\")\n",
    "print('The accuracy of classifier on test data: {:.2f}' .format((knn.score(X_test, y_test)*100)))"
   ]
  },
  {
   "cell_type": "code",
   "execution_count": null,
   "metadata": {},
   "outputs": [],
   "source": []
  }
 ],
 "metadata": {
  "kernelspec": {
   "display_name": "Python 3",
   "language": "python",
   "name": "python3"
  },
  "language_info": {
   "codemirror_mode": {
    "name": "ipython",
    "version": 3
   },
   "file_extension": ".py",
   "mimetype": "text/x-python",
   "name": "python",
   "nbconvert_exporter": "python",
   "pygments_lexer": "ipython3",
   "version": "3.5.2"
  },
  "varInspector": {
   "cols": {
    "lenName": 16,
    "lenType": 16,
    "lenVar": 40
   },
   "kernels_config": {
    "python": {
     "delete_cmd_postfix": "",
     "delete_cmd_prefix": "del ",
     "library": "var_list.py",
     "varRefreshCmd": "print(var_dic_list())"
    },
    "r": {
     "delete_cmd_postfix": ") ",
     "delete_cmd_prefix": "rm(",
     "library": "var_list.r",
     "varRefreshCmd": "cat(var_dic_list()) "
    }
   },
   "types_to_exclude": [
    "module",
    "function",
    "builtin_function_or_method",
    "instance",
    "_Feature"
   ],
   "window_display": false
  }
 },
 "nbformat": 4,
 "nbformat_minor": 2
}
