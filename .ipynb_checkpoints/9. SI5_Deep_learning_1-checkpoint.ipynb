{
 "cells": [
  {
   "cell_type": "code",
   "execution_count": 1,
   "metadata": {
    "colab": {},
    "colab_type": "code",
    "id": "NF-4iXpJcxyp"
   },
   "outputs": [],
   "source": [
    "import tensorflow as tf\n",
    "import numpy as np\n",
    "from matplotlib import pyplot as plt"
   ]
  },
  {
   "cell_type": "code",
   "execution_count": 2,
   "metadata": {
    "colab": {
     "base_uri": "https://localhost:8080/",
     "height": 34
    },
    "colab_type": "code",
    "id": "pY5eA_oYdDhp",
    "outputId": "7a68871e-0ab2-4413-9bbd-ad3d93c10fd6"
   },
   "outputs": [
    {
     "data": {
      "text/plain": [
       "<tf.Tensor 'add_1:0' shape=() dtype=int32>"
      ]
     },
     "metadata": {},
     "output_type": "display_data"
    }
   ],
   "source": [
    "tf.reset_default_graph()\n",
    "\n",
    "x = tf.Variable(3, name=\"x\")\n",
    "y = tf.Variable(4, name=\"y\")\n",
    "f = x*x*y + y + 2\n",
    "\n",
    "display(f)"
   ]
  },
  {
   "cell_type": "code",
   "execution_count": 3,
   "metadata": {
    "colab": {
     "base_uri": "https://localhost:8080/",
     "height": 34
    },
    "colab_type": "code",
    "id": "eLqvy2U1mNen",
    "outputId": "539f9d90-474d-4ba0-d69a-9d332d10d5a6"
   },
   "outputs": [
    {
     "name": "stdout",
     "output_type": "stream",
     "text": [
      "42\n"
     ]
    }
   ],
   "source": [
    "sess = tf.Session()\n",
    "sess.run(x.initializer)\n",
    "sess.run(y.initializer)\n",
    "print(sess.run(f))\n",
    "sess.close()"
   ]
  },
  {
   "cell_type": "code",
   "execution_count": 4,
   "metadata": {
    "colab": {
     "base_uri": "https://localhost:8080/",
     "height": 34
    },
    "colab_type": "code",
    "id": "8agQyOzIm3Jl",
    "outputId": "7dd8c193-09b9-4cbb-9950-41a43d9ed2bb"
   },
   "outputs": [
    {
     "data": {
      "text/plain": [
       "42"
      ]
     },
     "execution_count": 4,
     "metadata": {},
     "output_type": "execute_result"
    }
   ],
   "source": [
    "with tf.Session() as sess:\n",
    "    x.initializer.run()\n",
    "    y.initializer.run()\n",
    "    result = f.eval()\n",
    "\n",
    "result"
   ]
  },
  {
   "cell_type": "code",
   "execution_count": 5,
   "metadata": {
    "colab": {
     "base_uri": "https://localhost:8080/",
     "height": 34
    },
    "colab_type": "code",
    "id": "TOCXy3yunZNp",
    "outputId": "fcbb4497-3a00-4a46-d2cd-30fecce5c947"
   },
   "outputs": [
    {
     "data": {
      "text/plain": [
       "42"
      ]
     },
     "execution_count": 5,
     "metadata": {},
     "output_type": "execute_result"
    }
   ],
   "source": [
    "init = tf.global_variables_initializer()\n",
    "\n",
    "with tf.Session():\n",
    "    init.run()\n",
    "    result = f.eval()\n",
    "\n",
    "result"
   ]
  },
  {
   "cell_type": "code",
   "execution_count": 6,
   "metadata": {
    "colab": {
     "base_uri": "https://localhost:8080/",
     "height": 34
    },
    "colab_type": "code",
    "id": "KGbdB6Jnnso3",
    "outputId": "bc8e1178-c8a2-42c4-e53e-1eb0e9cd973b"
   },
   "outputs": [
    {
     "data": {
      "text/plain": [
       "42"
      ]
     },
     "execution_count": 6,
     "metadata": {},
     "output_type": "execute_result"
    }
   ],
   "source": [
    "init = tf.global_variables_initializer()\n",
    "\n",
    "sess = tf.InteractiveSession()\n",
    "init.run()\n",
    "result = f.eval()\n",
    "sess.close()\n",
    "\n",
    "result"
   ]
  },
  {
   "cell_type": "markdown",
   "metadata": {
    "colab_type": "text",
    "id": "U5Xny88Dordq"
   },
   "source": [
    "# Managing graphs"
   ]
  },
  {
   "cell_type": "code",
   "execution_count": 7,
   "metadata": {
    "colab": {
     "base_uri": "https://localhost:8080/",
     "height": 34
    },
    "colab_type": "code",
    "id": "D9wm4g_Hn7A8",
    "outputId": "bbed3991-2cb7-457f-fb17-78f2bb774412"
   },
   "outputs": [
    {
     "data": {
      "text/plain": [
       "True"
      ]
     },
     "execution_count": 7,
     "metadata": {},
     "output_type": "execute_result"
    }
   ],
   "source": [
    "tf.reset_default_graph()\n",
    "\n",
    "x1 = tf.Variable(1)\n",
    "x1.graph is tf.get_default_graph()"
   ]
  },
  {
   "cell_type": "code",
   "execution_count": 8,
   "metadata": {
    "colab": {
     "base_uri": "https://localhost:8080/",
     "height": 34
    },
    "colab_type": "code",
    "id": "s5n4PWIBpFls",
    "outputId": "f65dc43b-2cb2-4de3-9820-784c549e48c5"
   },
   "outputs": [
    {
     "data": {
      "text/plain": [
       "False"
      ]
     },
     "execution_count": 8,
     "metadata": {},
     "output_type": "execute_result"
    }
   ],
   "source": [
    "graph = tf.Graph()\n",
    "with graph.as_default():\n",
    "    x2 = tf.Variable(2)\n",
    "\n",
    "x2.graph is tf.get_default_graph()"
   ]
  },
  {
   "cell_type": "code",
   "execution_count": 9,
   "metadata": {
    "colab": {
     "base_uri": "https://localhost:8080/",
     "height": 34
    },
    "colab_type": "code",
    "id": "EuNGa2bRpZjr",
    "outputId": "b5e428d8-a026-4a88-f489-c36b66868ae5"
   },
   "outputs": [
    {
     "data": {
      "text/plain": [
       "True"
      ]
     },
     "execution_count": 9,
     "metadata": {},
     "output_type": "execute_result"
    }
   ],
   "source": [
    "x2.graph is graph"
   ]
  },
  {
   "cell_type": "code",
   "execution_count": 10,
   "metadata": {
    "colab": {
     "base_uri": "https://localhost:8080/",
     "height": 50
    },
    "colab_type": "code",
    "id": "7NopMr91plQ-",
    "outputId": "94219e79-d257-4f7a-b94d-cf98a4b72776"
   },
   "outputs": [
    {
     "name": "stdout",
     "output_type": "stream",
     "text": [
      "10\n",
      "15\n"
     ]
    }
   ],
   "source": [
    "w = tf.constant(3)\n",
    "x = w + 2\n",
    "y = x + 5\n",
    "z = x * 3\n",
    "\n",
    "with tf.Session() as sess:\n",
    "    print(y.eval())  # 10\n",
    "    print(z.eval())  # 15"
   ]
  },
  {
   "cell_type": "code",
   "execution_count": 11,
   "metadata": {
    "colab": {
     "base_uri": "https://localhost:8080/",
     "height": 50
    },
    "colab_type": "code",
    "id": "deTsTSavqED4",
    "outputId": "0df52706-96e5-41cf-95f7-5d8f2b6a9a3d"
   },
   "outputs": [
    {
     "name": "stdout",
     "output_type": "stream",
     "text": [
      "10\n",
      "15\n"
     ]
    }
   ],
   "source": [
    "with tf.Session() as sess:\n",
    "    y_val, z_val = sess.run([y, z])\n",
    "    print(y_val)  # 10\n",
    "    print(z_val)  # 15"
   ]
  },
  {
   "cell_type": "markdown",
   "metadata": {
    "colab_type": "text",
    "id": "Wecoe4rtrN4P"
   },
   "source": [
    "# Linear Regression with TensorFlow"
   ]
  },
  {
   "cell_type": "code",
   "execution_count": 12,
   "metadata": {
    "colab": {},
    "colab_type": "code",
    "id": "1SXD8j-QqLjz"
   },
   "outputs": [
    {
     "name": "stderr",
     "output_type": "stream",
     "text": [
      "Downloading Cal. housing from https://ndownloader.figshare.com/files/5976036 to /home/johan/scikit_learn_data\n"
     ]
    }
   ],
   "source": [
    "from sklearn.datasets import fetch_california_housing\n",
    "\n",
    "housing = fetch_california_housing()\n",
    "m, n = housing.data.shape\n",
    "housing_data_plus_bias = np.c_[np.ones((m, 1)), housing.data]"
   ]
  },
  {
   "cell_type": "code",
   "execution_count": 13,
   "metadata": {
    "colab": {
     "base_uri": "https://localhost:8080/",
     "height": 202
    },
    "colab_type": "code",
    "id": "vTJPDbntrY-9",
    "outputId": "bf4d8ddc-69bc-474a-a04a-54134a1d08d1"
   },
   "outputs": [
    {
     "name": "stdout",
     "output_type": "stream",
     "text": [
      "[[-3.69419202e+01]\n",
      " [ 4.36693293e-01]\n",
      " [ 9.43577803e-03]\n",
      " [-1.07322041e-01]\n",
      " [ 6.45065694e-01]\n",
      " [-3.97638942e-06]\n",
      " [-3.78654265e-03]\n",
      " [-4.21314378e-01]\n",
      " [-4.34513755e-01]]\n"
     ]
    }
   ],
   "source": [
    "tf.reset_default_graph()\n",
    "#display(housing.target.shape)\n",
    "X = tf.constant(housing_data_plus_bias, dtype=tf.float64, name=\"X\")\n",
    "y = tf.constant(housing.target.reshape(-1, 1), dtype=tf.float64, name=\"y\")\n",
    "#display(y.shape)\n",
    "XT = tf.transpose(X)\n",
    "theta = tf.matmul(tf.matmul(tf.matrix_inverse(tf.matmul(XT, X)), XT), y)\n",
    "\n",
    "with tf.Session() as sess:\n",
    "    result = theta.eval()\n",
    "\n",
    "print(result)"
   ]
  },
  {
   "cell_type": "markdown",
   "metadata": {
    "colab_type": "text",
    "id": "BoM9GDzrAmQj"
   },
   "source": [
    "# Perceptron"
   ]
  },
  {
   "cell_type": "code",
   "execution_count": 14,
   "metadata": {
    "colab": {},
    "colab_type": "code",
    "id": "LvKurgfkvuwF"
   },
   "outputs": [],
   "source": [
    "from sklearn.datasets import load_iris\n",
    "iris = load_iris()\n",
    "X = iris.data[:, (2, 3)]  # petal length, petal width\n",
    "y = (iris.target == 0).astype(np.int)"
   ]
  },
  {
   "cell_type": "code",
   "execution_count": 15,
   "metadata": {
    "colab": {
     "base_uri": "https://localhost:8080/",
     "height": 87
    },
    "colab_type": "code",
    "id": "BBx_jt3pAj6f",
    "outputId": "c0fc2710-6303-4f89-f408-417ae566250c"
   },
   "outputs": [
    {
     "name": "stderr",
     "output_type": "stream",
     "text": [
      "/home/johan/.local/lib/python3.5/site-packages/sklearn/linear_model/stochastic_gradient.py:128: FutureWarning: max_iter and tol parameters have been added in <class 'sklearn.linear_model.perceptron.Perceptron'> in 0.19. If both are left unset, they default to max_iter=5 and tol=None. If tol is not None, max_iter defaults to max_iter=1000. From 0.21, default max_iter will be 1000, and default tol will be 1e-3.\n",
      "  \"and default tol will be 1e-3.\" % type(self), FutureWarning)\n"
     ]
    },
    {
     "data": {
      "text/plain": [
       "array([1])"
      ]
     },
     "execution_count": 15,
     "metadata": {},
     "output_type": "execute_result"
    }
   ],
   "source": [
    "from sklearn.linear_model import Perceptron\n",
    "\n",
    "per_clf = Perceptron(random_state=42)\n",
    "per_clf.fit(X, y)\n",
    "\n",
    "y_pred = per_clf.predict([[2, 0.5]])\n",
    "y_pred"
   ]
  },
  {
   "cell_type": "code",
   "execution_count": 16,
   "metadata": {
    "colab": {
     "base_uri": "https://localhost:8080/",
     "height": 341
    },
    "colab_type": "code",
    "id": "BbRYUkSJA1m2",
    "outputId": "5b800638-36f3-4533-b060-ee52d5d98066"
   },
   "outputs": [
    {
     "data": {
      "image/png": "[encoded data removed]",
      "text/plain": [
       "<matplotlib.figure.Figure at 0x7f5aa6b9d5c0>"
      ]
     },
     "metadata": {},
     "output_type": "display_data"
    }
   ],
   "source": [
    "a = -per_clf.coef_[0][0] / per_clf.coef_[0][1]\n",
    "b = -per_clf.intercept_ / per_clf.coef_[0][1]\n",
    "\n",
    "axes = [0, 5, 0, 2]\n",
    "\n",
    "x0, x1 = np.meshgrid(\n",
    "        np.linspace(axes[0], axes[1], 500).reshape(-1, 1),\n",
    "        np.linspace(axes[2], axes[3], 200).reshape(-1, 1),\n",
    "    )\n",
    "X_new = np.c_[x0.ravel(), x1.ravel()]\n",
    "y_predict = per_clf.predict(X_new)\n",
    "zz = y_predict.reshape(x0.shape)\n",
    "\n",
    "plt.figure(figsize=(10, 4))\n",
    "plt.plot(X[y==0, 0], X[y==0, 1], \"bs\", label=\"Not Iris-Setosa\")\n",
    "plt.plot(X[y==1, 0], X[y==1, 1], \"yo\", label=\"Iris-Setosa\")\n",
    "\n",
    "plt.plot([axes[0], axes[1]], [a * axes[0] + b, a * axes[1] + b], \"k-\", linewidth=3)\n",
    "from matplotlib.colors import ListedColormap\n",
    "custom_cmap = ListedColormap(['#9898ff', '#fafab0'])\n",
    "\n",
    "plt.contourf(x0, x1, zz, cmap=custom_cmap, linewidth=5)\n",
    "plt.xlabel(\"Petal length\", fontsize=14)\n",
    "plt.ylabel(\"Petal width\", fontsize=14)\n",
    "plt.legend(loc=\"lower right\", fontsize=14)\n",
    "plt.axis(axes)\n",
    "\n",
    "#save_fig(\"perceptron_iris_plot\")\n",
    "plt.show()"
   ]
  },
  {
   "cell_type": "markdown",
   "metadata": {
    "colab_type": "text",
    "id": "i4vtofHRPPTP"
   },
   "source": [
    "# Tf.learn"
   ]
  },
  {
   "cell_type": "code",
   "execution_count": null,
   "metadata": {
    "colab": {
     "base_uri": "https://localhost:8080/",
     "height": 296
    },
    "colab_type": "code",
    "id": "PBqvQqjgA4HO",
    "outputId": "dca9be06-475d-46c9-84ef-6e59d2dbdcab"
   },
   "outputs": [
    {
     "name": "stdout",
     "output_type": "stream",
     "text": [
      "WARNING:tensorflow:From <ipython-input-17-45ede417710e>:2: read_data_sets (from tensorflow.contrib.learn.python.learn.datasets.mnist) is deprecated and will be removed in a future version.\n",
      "Instructions for updating:\n",
      "Please use alternatives such as official/mnist/dataset.py from tensorflow/models.\n",
      "WARNING:tensorflow:From /home/johan/anaconda2/envs/tensorflow_py3/lib/python3.5/site-packages/tensorflow/contrib/learn/python/learn/datasets/mnist.py:260: maybe_download (from tensorflow.contrib.learn.python.learn.datasets.base) is deprecated and will be removed in a future version.\n",
      "Instructions for updating:\n",
      "Please write your own downloading logic.\n",
      "WARNING:tensorflow:From /home/johan/anaconda2/envs/tensorflow_py3/lib/python3.5/site-packages/tensorflow/contrib/learn/python/learn/datasets/base.py:252: _internal_retry.<locals>.wrap.<locals>.wrapped_fn (from tensorflow.contrib.learn.python.learn.datasets.base) is deprecated and will be removed in a future version.\n",
      "Instructions for updating:\n",
      "Please use urllib or similar directly.\n"
     ]
    }
   ],
   "source": [
    "from tensorflow.examples.tutorials.mnist import input_data\n",
    "mnist = input_data.read_data_sets(\"/tmp/data/\")\n",
    "X_train = mnist.train.images\n",
    "X_test = mnist.test.images\n",
    "y_train = mnist.train.labels.astype(\"int\")\n",
    "y_test = mnist.test.labels.astype(\"int\")"
   ]
  },
  {
   "cell_type": "code",
   "execution_count": 0,
   "metadata": {
    "colab": {
     "base_uri": "https://localhost:8080/",
     "height": 14854
    },
    "colab_type": "code",
    "id": "c-hoD0HBPSmA",
    "outputId": "d8eeebba-fa78-40c8-a4c7-1cba0fd8962c"
   },
   "outputs": [
    {
     "name": "stdout",
     "output_type": "stream",
     "text": [
      "WARNING:tensorflow:From <ipython-input-3-bb2d21f9b37e>:3: infer_real_valued_columns_from_input (from tensorflow.contrib.learn.python.learn.estimators.estimator) is deprecated and will be removed in a future version.\n",
      "Instructions for updating:\n",
      "Please specify feature columns explicitly.\n",
      "WARNING:tensorflow:From /usr/local/lib/python3.6/dist-packages/tensorflow/contrib/learn/python/learn/estimators/estimator.py:143: setup_train_data_feeder (from tensorflow.contrib.learn.python.learn.learn_io.data_feeder) is deprecated and will be removed in a future version.\n",
      "Instructions for updating:\n",
      "Please use tensorflow/transform or tf.data.\n",
      "WARNING:tensorflow:From /usr/local/lib/python3.6/dist-packages/tensorflow/contrib/learn/python/learn/learn_io/data_feeder.py:96: extract_dask_data (from tensorflow.contrib.learn.python.learn.learn_io.dask_io) is deprecated and will be removed in a future version.\n",
      "Instructions for updating:\n",
      "Please feed input to tf.data to support dask.\n",
      "WARNING:tensorflow:From /usr/local/lib/python3.6/dist-packages/tensorflow/contrib/learn/python/learn/learn_io/data_feeder.py:100: extract_pandas_data (from tensorflow.contrib.learn.python.learn.learn_io.pandas_io) is deprecated and will be removed in a future version.\n",
      "Instructions for updating:\n",
      "Please access pandas data directly.\n",
      "WARNING:tensorflow:From /usr/local/lib/python3.6/dist-packages/tensorflow/contrib/learn/python/learn/learn_io/data_feeder.py:159: DataFeeder.__init__ (from tensorflow.contrib.learn.python.learn.learn_io.data_feeder) is deprecated and will be removed in a future version.\n",
      "Instructions for updating:\n",
      "Please use tensorflow/transform or tf.data.\n",
      "WARNING:tensorflow:From /usr/local/lib/python3.6/dist-packages/tensorflow/contrib/learn/python/learn/learn_io/data_feeder.py:340: check_array (from tensorflow.contrib.learn.python.learn.learn_io.data_feeder) is deprecated and will be removed in a future version.\n",
      "Instructions for updating:\n",
      "Please convert numpy dtypes explicitly.\n",
      "WARNING:tensorflow:From /usr/local/lib/python3.6/dist-packages/tensorflow/contrib/learn/python/learn/estimators/estimator.py:183: infer_real_valued_columns_from_input_fn (from tensorflow.contrib.learn.python.learn.estimators.estimator) is deprecated and will be removed in a future version.\n",
      "Instructions for updating:\n",
      "Please specify feature columns explicitly.\n",
      "WARNING:tensorflow:From /usr/local/lib/python3.6/dist-packages/tensorflow/contrib/learn/python/learn/estimators/dnn.py:378: multi_class_head (from tensorflow.contrib.learn.python.learn.estimators.head) is deprecated and will be removed in a future version.\n",
      "Instructions for updating:\n",
      "Please switch to tf.contrib.estimator.*_head.\n",
      "WARNING:tensorflow:From /usr/local/lib/python3.6/dist-packages/tensorflow/contrib/learn/python/learn/estimators/estimator.py:1179: BaseEstimator.__init__ (from tensorflow.contrib.learn.python.learn.estimators.estimator) is deprecated and will be removed in a future version.\n",
      "Instructions for updating:\n",
      "Please replace uses of any Estimator from tf.contrib.learn with an Estimator from tf.estimator.*\n",
      "WARNING:tensorflow:From /usr/local/lib/python3.6/dist-packages/tensorflow/contrib/learn/python/learn/estimators/estimator.py:427: RunConfig.__init__ (from tensorflow.contrib.learn.python.learn.estimators.run_config) is deprecated and will be removed in a future version.\n",
      "Instructions for updating:\n",
      "When switching to tf.estimator.Estimator, use tf.estimator.RunConfig instead.\n",
      "INFO:tensorflow:Using default config.\n",
      "WARNING:tensorflow:Using temporary folder as model directory: /tmp/tmp4rcp091x\n",
      "INFO:tensorflow:Using config: {'_task_type': None, '_task_id': 0, '_cluster_spec': <tensorflow.python.training.server_lib.ClusterSpec object at 0x7f62fb438208>, '_master': '', '_num_ps_replicas': 0, '_num_worker_replicas': 0, '_environment': 'local', '_is_chief': True, '_evaluation_master': '', '_train_distribute': None, '_eval_distribute': None, '_device_fn': None, '_tf_config': gpu_options {\n",
      "  per_process_gpu_memory_fraction: 1.0\n",
      "}\n",
      ", '_tf_random_seed': None, '_save_summary_steps': 100, '_save_checkpoints_secs': 600, '_log_step_count_steps': 100, '_protocol': None, '_session_config': None, '_save_checkpoints_steps': None, '_keep_checkpoint_max': 5, '_keep_checkpoint_every_n_hours': 10000, '_model_dir': '/tmp/tmp4rcp091x'}\n",
      "WARNING:tensorflow:From <ipython-input-3-bb2d21f9b37e>:6: calling BaseEstimator.fit (from tensorflow.contrib.learn.python.learn.estimators.estimator) with x is deprecated and will be removed after 2016-12-01.\n",
      "Instructions for updating:\n",
      "Estimator is decoupled from Scikit Learn interface by moving into\n",
      "separate class SKCompat. Arguments x, y and batch_size are only\n",
      "available in the SKCompat class, Estimator will only accept input_fn.\n",
      "Example conversion:\n",
      "  est = Estimator(...) -> est = SKCompat(Estimator(...))\n",
      "WARNING:tensorflow:From <ipython-input-3-bb2d21f9b37e>:6: calling BaseEstimator.fit (from tensorflow.contrib.learn.python.learn.estimators.estimator) with y is deprecated and will be removed after 2016-12-01.\n",
      "Instructions for updating:\n",
      "Estimator is decoupled from Scikit Learn interface by moving into\n",
      "separate class SKCompat. Arguments x, y and batch_size are only\n",
      "available in the SKCompat class, Estimator will only accept input_fn.\n",
      "Example conversion:\n",
      "  est = Estimator(...) -> est = SKCompat(Estimator(...))\n",
      "WARNING:tensorflow:From <ipython-input-3-bb2d21f9b37e>:6: calling BaseEstimator.fit (from tensorflow.contrib.learn.python.learn.estimators.estimator) with batch_size is deprecated and will be removed after 2016-12-01.\n",
      "Instructions for updating:\n",
      "Estimator is decoupled from Scikit Learn interface by moving into\n",
      "separate class SKCompat. Arguments x, y and batch_size are only\n",
      "available in the SKCompat class, Estimator will only accept input_fn.\n",
      "Example conversion:\n",
      "  est = Estimator(...) -> est = SKCompat(Estimator(...))\n",
      "WARNING:tensorflow:From /usr/local/lib/python3.6/dist-packages/tensorflow/contrib/learn/python/learn/estimators/estimator.py:508: SKCompat.__init__ (from tensorflow.contrib.learn.python.learn.estimators.estimator) is deprecated and will be removed in a future version.\n",
      "Instructions for updating:\n",
      "Please switch to the Estimator interface.\n",
      "WARNING:tensorflow:From /usr/local/lib/python3.6/dist-packages/tensorflow/contrib/learn/python/learn/learn_io/data_feeder.py:98: extract_dask_labels (from tensorflow.contrib.learn.python.learn.learn_io.dask_io) is deprecated and will be removed in a future version.\n",
      "Instructions for updating:\n",
      "Please feed input to tf.data to support dask.\n",
      "WARNING:tensorflow:From /usr/local/lib/python3.6/dist-packages/tensorflow/contrib/learn/python/learn/learn_io/data_feeder.py:102: extract_pandas_labels (from tensorflow.contrib.learn.python.learn.learn_io.pandas_io) is deprecated and will be removed in a future version.\n",
      "Instructions for updating:\n",
      "Please access pandas data directly.\n",
      "WARNING:tensorflow:From /usr/local/lib/python3.6/dist-packages/tensorflow/python/framework/op_def_library.py:263: colocate_with (from tensorflow.python.framework.ops) is deprecated and will be removed in a future version.\n",
      "Instructions for updating:\n",
      "Colocations handled automatically by placer.\n",
      "WARNING:tensorflow:From /usr/local/lib/python3.6/dist-packages/tensorflow/contrib/layers/python/layers/feature_column.py:1874: to_float (from tensorflow.python.ops.math_ops) is deprecated and will be removed in a future version.\n",
      "Instructions for updating:\n",
      "Use tf.cast instead.\n",
      "WARNING:tensorflow:From /usr/local/lib/python3.6/dist-packages/tensorflow/contrib/learn/python/learn/estimators/head.py:677: ModelFnOps.__new__ (from tensorflow.contrib.learn.python.learn.estimators.model_fn) is deprecated and will be removed in a future version.\n",
      "Instructions for updating:\n",
      "When switching to tf.estimator.Estimator, use tf.estimator.EstimatorSpec. You can use the `estimator_spec` method to create an equivalent one.\n",
      "INFO:tensorflow:Create CheckpointSaverHook.\n",
      "INFO:tensorflow:Graph was finalized.\n",
      "INFO:tensorflow:Running local_init_op.\n",
      "INFO:tensorflow:Done running local_init_op.\n",
      "INFO:tensorflow:Saving checkpoints for 0 into /tmp/tmp4rcp091x/model.ckpt.\n",
      "INFO:tensorflow:loss = 2.307036, step = 1\n",
      "INFO:tensorflow:global_step/sec: 288.745\n",
      "INFO:tensorflow:loss = 0.32647896, step = 101 (0.349 sec)\n",
      "INFO:tensorflow:global_step/sec: 306.483\n",
      "INFO:tensorflow:loss = 0.2726434, step = 201 (0.326 sec)\n",
      "INFO:tensorflow:global_step/sec: 304.951\n",
      "INFO:tensorflow:loss = 0.3395357, step = 301 (0.327 sec)\n",
      "INFO:tensorflow:global_step/sec: 311.936\n",
      "INFO:tensorflow:loss = 0.2353132, step = 401 (0.324 sec)\n",
      "INFO:tensorflow:global_step/sec: 310.957\n",
      "INFO:tensorflow:loss = 0.27268556, step = 501 (0.318 sec)\n",
      "INFO:tensorflow:global_step/sec: 314.673\n",
      "INFO:tensorflow:loss = 0.08293464, step = 601 (0.320 sec)\n",
      "INFO:tensorflow:global_step/sec: 303.483\n",
      "INFO:tensorflow:loss = 0.14929876, step = 701 (0.327 sec)\n",
      "INFO:tensorflow:global_step/sec: 304.601\n",
      "INFO:tensorflow:loss = 0.22216523, step = 801 (0.329 sec)\n",
      "INFO:tensorflow:global_step/sec: 310.572\n",
      "INFO:tensorflow:loss = 0.108348206, step = 901 (0.322 sec)\n",
      "INFO:tensorflow:global_step/sec: 308.016\n",
      "INFO:tensorflow:loss = 0.1524969, step = 1001 (0.325 sec)\n",
      "INFO:tensorflow:global_step/sec: 303.855\n",
      "INFO:tensorflow:loss = 0.18618374, step = 1101 (0.329 sec)\n",
      "INFO:tensorflow:global_step/sec: 313.614\n",
      "INFO:tensorflow:loss = 0.1162173, step = 1201 (0.319 sec)\n",
      "INFO:tensorflow:global_step/sec: 303.901\n",
      "INFO:tensorflow:loss = 0.1679799, step = 1301 (0.329 sec)\n",
      "INFO:tensorflow:global_step/sec: 313.961\n",
      "INFO:tensorflow:loss = 0.071416505, step = 1401 (0.321 sec)\n",
      "INFO:tensorflow:global_step/sec: 305.519\n",
      "INFO:tensorflow:loss = 0.112356946, step = 1501 (0.325 sec)\n",
      "INFO:tensorflow:global_step/sec: 300.189\n",
      "INFO:tensorflow:loss = 0.11357093, step = 1601 (0.334 sec)\n",
      "INFO:tensorflow:global_step/sec: 314.628\n",
      "INFO:tensorflow:loss = 0.044438396, step = 1701 (0.316 sec)\n",
      "INFO:tensorflow:global_step/sec: 307.685\n",
      "INFO:tensorflow:loss = 0.14384323, step = 1801 (0.325 sec)\n",
      "INFO:tensorflow:global_step/sec: 305.778\n",
      "INFO:tensorflow:loss = 0.06832389, step = 1901 (0.327 sec)\n",
      "INFO:tensorflow:global_step/sec: 312.739\n",
      "INFO:tensorflow:loss = 0.06500034, step = 2001 (0.320 sec)\n",
      "INFO:tensorflow:global_step/sec: 309.023\n",
      "INFO:tensorflow:loss = 0.017615754, step = 2101 (0.324 sec)\n",
      "INFO:tensorflow:global_step/sec: 313.831\n",
      "INFO:tensorflow:loss = 0.027201645, step = 2201 (0.319 sec)\n",
      "INFO:tensorflow:global_step/sec: 310.496\n",
      "INFO:tensorflow:loss = 0.040008754, step = 2301 (0.323 sec)\n",
      "INFO:tensorflow:global_step/sec: 313.987\n",
      "INFO:tensorflow:loss = 0.070982784, step = 2401 (0.318 sec)\n",
      "INFO:tensorflow:global_step/sec: 315.044\n",
      "INFO:tensorflow:loss = 0.08174878, step = 2501 (0.319 sec)\n",
      "INFO:tensorflow:global_step/sec: 289.541\n",
      "INFO:tensorflow:loss = 0.050243985, step = 2601 (0.345 sec)\n",
      "INFO:tensorflow:global_step/sec: 307.237\n",
      "INFO:tensorflow:loss = 0.011237733, step = 2701 (0.325 sec)\n",
      "INFO:tensorflow:global_step/sec: 296.986\n",
      "INFO:tensorflow:loss = 0.055208117, step = 2801 (0.336 sec)\n",
      "INFO:tensorflow:global_step/sec: 298.725\n",
      "INFO:tensorflow:loss = 0.087570965, step = 2901 (0.335 sec)\n",
      "INFO:tensorflow:global_step/sec: 301.936\n",
      "INFO:tensorflow:loss = 0.024649328, step = 3001 (0.331 sec)\n",
      "INFO:tensorflow:global_step/sec: 314.022\n",
      "INFO:tensorflow:loss = 0.050908856, step = 3101 (0.319 sec)\n",
      "INFO:tensorflow:global_step/sec: 311.118\n",
      "INFO:tensorflow:loss = 0.009699767, step = 3201 (0.323 sec)\n",
      "INFO:tensorflow:global_step/sec: 313.971\n",
      "INFO:tensorflow:loss = 0.019848753, step = 3301 (0.317 sec)\n",
      "INFO:tensorflow:global_step/sec: 315.815\n",
      "INFO:tensorflow:loss = 0.19358055, step = 3401 (0.317 sec)\n",
      "INFO:tensorflow:global_step/sec: 317.489\n",
      "INFO:tensorflow:loss = 0.10070511, step = 3501 (0.315 sec)\n",
      "INFO:tensorflow:global_step/sec: 319.412\n",
      "INFO:tensorflow:loss = 0.15181328, step = 3601 (0.313 sec)\n",
      "INFO:tensorflow:global_step/sec: 316.568\n",
      "INFO:tensorflow:loss = 0.039049204, step = 3701 (0.316 sec)\n",
      "INFO:tensorflow:global_step/sec: 318.024\n",
      "INFO:tensorflow:loss = 0.008643363, step = 3801 (0.314 sec)\n",
      "INFO:tensorflow:global_step/sec: 314.551\n",
      "INFO:tensorflow:loss = 0.12256839, step = 3901 (0.318 sec)\n",
      "INFO:tensorflow:global_step/sec: 317.875\n",
      "INFO:tensorflow:loss = 0.1487277, step = 4001 (0.316 sec)\n",
      "INFO:tensorflow:global_step/sec: 310.551\n",
      "INFO:tensorflow:loss = 0.020394558, step = 4101 (0.325 sec)\n",
      "INFO:tensorflow:global_step/sec: 313.79\n",
      "INFO:tensorflow:loss = 0.053325232, step = 4201 (0.315 sec)\n",
      "INFO:tensorflow:global_step/sec: 317.17\n",
      "INFO:tensorflow:loss = 0.2276688, step = 4301 (0.315 sec)\n",
      "INFO:tensorflow:global_step/sec: 311.399\n",
      "INFO:tensorflow:loss = 0.07801302, step = 4401 (0.321 sec)\n",
      "INFO:tensorflow:global_step/sec: 312.358\n",
      "INFO:tensorflow:loss = 0.0154302325, step = 4501 (0.321 sec)\n",
      "INFO:tensorflow:global_step/sec: 317.48\n",
      "INFO:tensorflow:loss = 0.015901165, step = 4601 (0.315 sec)\n",
      "INFO:tensorflow:global_step/sec: 308.309\n",
      "INFO:tensorflow:loss = 0.010705694, step = 4701 (0.324 sec)\n",
      "INFO:tensorflow:global_step/sec: 317.388\n",
      "INFO:tensorflow:loss = 0.022268122, step = 4801 (0.314 sec)\n",
      "INFO:tensorflow:global_step/sec: 307.65\n",
      "INFO:tensorflow:loss = 0.0649283, step = 4901 (0.325 sec)\n",
      "INFO:tensorflow:global_step/sec: 321.644\n",
      "INFO:tensorflow:loss = 0.09889299, step = 5001 (0.311 sec)\n",
      "INFO:tensorflow:global_step/sec: 317.868\n",
      "INFO:tensorflow:loss = 0.012314401, step = 5101 (0.315 sec)\n",
      "INFO:tensorflow:global_step/sec: 314.565\n",
      "INFO:tensorflow:loss = 0.021437023, step = 5201 (0.320 sec)\n",
      "INFO:tensorflow:global_step/sec: 316.75\n",
      "INFO:tensorflow:loss = 0.04100933, step = 5301 (0.314 sec)\n",
      "INFO:tensorflow:global_step/sec: 320.406\n",
      "INFO:tensorflow:loss = 0.06311739, step = 5401 (0.312 sec)\n",
      "INFO:tensorflow:global_step/sec: 317.736\n",
      "INFO:tensorflow:loss = 0.02306679, step = 5501 (0.315 sec)\n",
      "INFO:tensorflow:global_step/sec: 314.332\n",
      "INFO:tensorflow:loss = 0.07648493, step = 5601 (0.318 sec)\n",
      "INFO:tensorflow:global_step/sec: 320.463\n",
      "INFO:tensorflow:loss = 0.022190714, step = 5701 (0.312 sec)\n",
      "INFO:tensorflow:global_step/sec: 311.514\n",
      "INFO:tensorflow:loss = 0.006265793, step = 5801 (0.325 sec)\n",
      "INFO:tensorflow:global_step/sec: 294.581\n",
      "INFO:tensorflow:loss = 0.06749518, step = 5901 (0.335 sec)\n",
      "INFO:tensorflow:global_step/sec: 316.345\n",
      "INFO:tensorflow:loss = 0.10081427, step = 6001 (0.316 sec)\n",
      "INFO:tensorflow:global_step/sec: 322.066\n",
      "INFO:tensorflow:loss = 0.011772777, step = 6101 (0.310 sec)\n",
      "INFO:tensorflow:global_step/sec: 316.455\n",
      "INFO:tensorflow:loss = 0.02115234, step = 6201 (0.316 sec)\n",
      "INFO:tensorflow:global_step/sec: 314.519\n",
      "INFO:tensorflow:loss = 0.06058048, step = 6301 (0.318 sec)\n",
      "INFO:tensorflow:global_step/sec: 320.488\n",
      "INFO:tensorflow:loss = 0.030997558, step = 6401 (0.312 sec)\n",
      "INFO:tensorflow:global_step/sec: 315.344\n",
      "INFO:tensorflow:loss = 0.008725323, step = 6501 (0.317 sec)\n",
      "INFO:tensorflow:global_step/sec: 311.598\n",
      "INFO:tensorflow:loss = 0.0077097844, step = 6601 (0.321 sec)\n",
      "INFO:tensorflow:global_step/sec: 316.545\n",
      "INFO:tensorflow:loss = 0.01723631, step = 6701 (0.319 sec)\n",
      "INFO:tensorflow:global_step/sec: 317.154\n",
      "INFO:tensorflow:loss = 0.01673789, step = 6801 (0.314 sec)\n",
      "INFO:tensorflow:global_step/sec: 311.463\n",
      "INFO:tensorflow:loss = 0.015381007, step = 6901 (0.321 sec)\n",
      "INFO:tensorflow:global_step/sec: 319.035\n",
      "INFO:tensorflow:loss = 0.017509587, step = 7001 (0.312 sec)\n",
      "INFO:tensorflow:global_step/sec: 320.33\n",
      "INFO:tensorflow:loss = 0.0024765711, step = 7101 (0.312 sec)\n",
      "INFO:tensorflow:global_step/sec: 317.427\n",
      "INFO:tensorflow:loss = 0.06885245, step = 7201 (0.315 sec)\n",
      "INFO:tensorflow:global_step/sec: 319.232\n",
      "INFO:tensorflow:loss = 0.0052983235, step = 7301 (0.316 sec)\n",
      "INFO:tensorflow:global_step/sec: 317.67\n",
      "INFO:tensorflow:loss = 0.0221282, step = 7401 (0.312 sec)\n",
      "INFO:tensorflow:global_step/sec: 313.225\n",
      "INFO:tensorflow:loss = 0.0043629324, step = 7501 (0.320 sec)\n",
      "INFO:tensorflow:global_step/sec: 317.108\n",
      "INFO:tensorflow:loss = 0.007954763, step = 7601 (0.315 sec)\n",
      "INFO:tensorflow:global_step/sec: 314.631\n",
      "INFO:tensorflow:loss = 0.017350625, step = 7701 (0.318 sec)\n",
      "INFO:tensorflow:global_step/sec: 267.445\n",
      "INFO:tensorflow:loss = 0.005410021, step = 7801 (0.374 sec)\n",
      "INFO:tensorflow:global_step/sec: 266.008\n",
      "INFO:tensorflow:loss = 0.017938765, step = 7901 (0.375 sec)\n",
      "INFO:tensorflow:global_step/sec: 269.806\n",
      "INFO:tensorflow:loss = 0.0020938513, step = 8001 (0.371 sec)\n",
      "INFO:tensorflow:global_step/sec: 278.701\n",
      "INFO:tensorflow:loss = 0.018010423, step = 8101 (0.358 sec)\n",
      "INFO:tensorflow:global_step/sec: 259.419\n",
      "INFO:tensorflow:loss = 0.02670666, step = 8201 (0.385 sec)\n",
      "INFO:tensorflow:global_step/sec: 270.267\n",
      "INFO:tensorflow:loss = 0.08490256, step = 8301 (0.375 sec)\n",
      "INFO:tensorflow:global_step/sec: 271.251\n",
      "INFO:tensorflow:loss = 0.014428974, step = 8401 (0.364 sec)\n",
      "INFO:tensorflow:global_step/sec: 269.809\n",
      "INFO:tensorflow:loss = 0.0077483263, step = 8501 (0.370 sec)\n",
      "INFO:tensorflow:global_step/sec: 276.28\n",
      "INFO:tensorflow:loss = 0.005642778, step = 8601 (0.362 sec)\n",
      "INFO:tensorflow:global_step/sec: 279.159\n",
      "INFO:tensorflow:loss = 0.0040843585, step = 8701 (0.359 sec)\n",
      "INFO:tensorflow:global_step/sec: 268.379\n",
      "INFO:tensorflow:loss = 0.012378339, step = 8801 (0.372 sec)\n",
      "INFO:tensorflow:global_step/sec: 270.14\n",
      "INFO:tensorflow:loss = 0.0035891768, step = 8901 (0.370 sec)\n",
      "INFO:tensorflow:global_step/sec: 288.64\n",
      "INFO:tensorflow:loss = 0.00897856, step = 9001 (0.347 sec)\n",
      "INFO:tensorflow:global_step/sec: 288.86\n",
      "INFO:tensorflow:loss = 0.008247681, step = 9101 (0.350 sec)\n",
      "INFO:tensorflow:global_step/sec: 275.871\n",
      "INFO:tensorflow:loss = 0.0039183963, step = 9201 (0.361 sec)\n",
      "INFO:tensorflow:global_step/sec: 280.898\n",
      "INFO:tensorflow:loss = 0.007942669, step = 9301 (0.354 sec)\n",
      "INFO:tensorflow:global_step/sec: 281.173\n",
      "INFO:tensorflow:loss = 0.048722133, step = 9401 (0.356 sec)\n",
      "INFO:tensorflow:global_step/sec: 276.067\n",
      "INFO:tensorflow:loss = 0.017322144, step = 9501 (0.361 sec)\n",
      "INFO:tensorflow:global_step/sec: 267.648\n",
      "INFO:tensorflow:loss = 0.005144352, step = 9601 (0.374 sec)\n",
      "INFO:tensorflow:global_step/sec: 271.722\n",
      "INFO:tensorflow:loss = 0.005723338, step = 9701 (0.368 sec)\n",
      "INFO:tensorflow:global_step/sec: 281.219\n",
      "INFO:tensorflow:loss = 0.0021085476, step = 9801 (0.356 sec)\n",
      "INFO:tensorflow:global_step/sec: 268.254\n",
      "INFO:tensorflow:loss = 0.008844384, step = 9901 (0.373 sec)\n",
      "INFO:tensorflow:global_step/sec: 277.938\n",
      "INFO:tensorflow:loss = 0.018708803, step = 10001 (0.359 sec)\n",
      "INFO:tensorflow:global_step/sec: 295.743\n",
      "INFO:tensorflow:loss = 0.011376512, step = 10101 (0.338 sec)\n",
      "INFO:tensorflow:global_step/sec: 281.483\n",
      "INFO:tensorflow:loss = 0.0048720296, step = 10201 (0.355 sec)\n",
      "INFO:tensorflow:global_step/sec: 273.819\n",
      "INFO:tensorflow:loss = 0.0046039163, step = 10301 (0.368 sec)\n",
      "INFO:tensorflow:global_step/sec: 265.631\n",
      "INFO:tensorflow:loss = 0.009419521, step = 10401 (0.374 sec)\n",
      "INFO:tensorflow:global_step/sec: 264.849\n",
      "INFO:tensorflow:loss = 0.0042007808, step = 10501 (0.378 sec)\n",
      "INFO:tensorflow:global_step/sec: 275.958\n",
      "INFO:tensorflow:loss = 0.0077904267, step = 10601 (0.362 sec)\n",
      "INFO:tensorflow:global_step/sec: 264.617\n",
      "INFO:tensorflow:loss = 0.011403578, step = 10701 (0.378 sec)\n",
      "INFO:tensorflow:global_step/sec: 281.984\n",
      "INFO:tensorflow:loss = 0.0073942854, step = 10801 (0.355 sec)\n",
      "INFO:tensorflow:global_step/sec: 273.063\n",
      "INFO:tensorflow:loss = 0.0025067294, step = 10901 (0.366 sec)\n",
      "INFO:tensorflow:global_step/sec: 284.484\n",
      "INFO:tensorflow:loss = 0.021399211, step = 11001 (0.351 sec)\n",
      "INFO:tensorflow:global_step/sec: 272.57\n",
      "INFO:tensorflow:loss = 0.0064338185, step = 11101 (0.367 sec)\n",
      "INFO:tensorflow:global_step/sec: 266.319\n",
      "INFO:tensorflow:loss = 0.0012922338, step = 11201 (0.376 sec)\n",
      "INFO:tensorflow:global_step/sec: 283.228\n",
      "INFO:tensorflow:loss = 0.00901085, step = 11301 (0.353 sec)\n",
      "INFO:tensorflow:global_step/sec: 293.589\n",
      "INFO:tensorflow:loss = 0.0060629416, step = 11401 (0.340 sec)\n",
      "INFO:tensorflow:global_step/sec: 268.367\n",
      "INFO:tensorflow:loss = 0.014362707, step = 11501 (0.373 sec)\n",
      "INFO:tensorflow:global_step/sec: 276.76\n",
      "INFO:tensorflow:loss = 0.0012939865, step = 11601 (0.361 sec)\n",
      "INFO:tensorflow:global_step/sec: 264.97\n",
      "INFO:tensorflow:loss = 0.0024681205, step = 11701 (0.378 sec)\n",
      "INFO:tensorflow:global_step/sec: 270.647\n",
      "INFO:tensorflow:loss = 0.0002255679, step = 11801 (0.368 sec)\n",
      "INFO:tensorflow:global_step/sec: 275.023\n",
      "INFO:tensorflow:loss = 0.0066989465, step = 11901 (0.364 sec)\n",
      "INFO:tensorflow:global_step/sec: 277.13\n",
      "INFO:tensorflow:loss = 0.0001922645, step = 12001 (0.361 sec)\n",
      "INFO:tensorflow:global_step/sec: 265.328\n",
      "INFO:tensorflow:loss = 0.00265248, step = 12101 (0.377 sec)\n",
      "INFO:tensorflow:global_step/sec: 266.441\n",
      "INFO:tensorflow:loss = 0.01846732, step = 12201 (0.375 sec)\n",
      "INFO:tensorflow:global_step/sec: 278.498\n",
      "INFO:tensorflow:loss = 0.005247714, step = 12301 (0.362 sec)\n",
      "INFO:tensorflow:global_step/sec: 279.792\n",
      "INFO:tensorflow:loss = 0.0005272048, step = 12401 (0.356 sec)\n",
      "INFO:tensorflow:global_step/sec: 263.817\n",
      "INFO:tensorflow:loss = 0.0038463771, step = 12501 (0.377 sec)\n",
      "INFO:tensorflow:global_step/sec: 268.415\n",
      "INFO:tensorflow:loss = 0.000813625, step = 12601 (0.374 sec)\n",
      "INFO:tensorflow:global_step/sec: 278.481\n",
      "INFO:tensorflow:loss = 0.0065946085, step = 12701 (0.358 sec)\n",
      "INFO:tensorflow:global_step/sec: 283.542\n",
      "INFO:tensorflow:loss = 0.01773972, step = 12801 (0.353 sec)\n",
      "INFO:tensorflow:global_step/sec: 287.333\n",
      "INFO:tensorflow:loss = 0.00594902, step = 12901 (0.348 sec)\n",
      "INFO:tensorflow:global_step/sec: 273.271\n",
      "INFO:tensorflow:loss = 0.0065433835, step = 13001 (0.368 sec)\n",
      "INFO:tensorflow:global_step/sec: 262.057\n",
      "INFO:tensorflow:loss = 0.005527384, step = 13101 (0.379 sec)\n",
      "INFO:tensorflow:global_step/sec: 281.047\n",
      "INFO:tensorflow:loss = 0.0060216915, step = 13201 (0.355 sec)\n",
      "INFO:tensorflow:global_step/sec: 282.888\n",
      "INFO:tensorflow:loss = 0.004286239, step = 13301 (0.354 sec)\n",
      "INFO:tensorflow:global_step/sec: 282.443\n",
      "INFO:tensorflow:loss = 0.011716621, step = 13401 (0.354 sec)\n",
      "INFO:tensorflow:global_step/sec: 287.14\n",
      "INFO:tensorflow:loss = 0.008130631, step = 13501 (0.350 sec)\n",
      "INFO:tensorflow:global_step/sec: 301.777\n",
      "INFO:tensorflow:loss = 0.005519682, step = 13601 (0.331 sec)\n",
      "INFO:tensorflow:global_step/sec: 290.651\n",
      "INFO:tensorflow:loss = 0.0058010938, step = 13701 (0.344 sec)\n",
      "INFO:tensorflow:global_step/sec: 295.733\n",
      "INFO:tensorflow:loss = 0.0050499076, step = 13801 (0.337 sec)\n",
      "INFO:tensorflow:global_step/sec: 282.542\n",
      "INFO:tensorflow:loss = 0.004169777, step = 13901 (0.354 sec)\n",
      "INFO:tensorflow:global_step/sec: 295.29\n",
      "INFO:tensorflow:loss = 0.0022511538, step = 14001 (0.339 sec)\n",
      "INFO:tensorflow:global_step/sec: 280.503\n",
      "INFO:tensorflow:loss = 0.005296035, step = 14101 (0.360 sec)\n",
      "INFO:tensorflow:global_step/sec: 273.995\n",
      "INFO:tensorflow:loss = 0.008275056, step = 14201 (0.362 sec)\n",
      "INFO:tensorflow:global_step/sec: 286.127\n",
      "INFO:tensorflow:loss = 0.0014018636, step = 14301 (0.352 sec)\n",
      "INFO:tensorflow:global_step/sec: 275.619\n",
      "INFO:tensorflow:loss = 0.000508027, step = 14401 (0.363 sec)\n",
      "INFO:tensorflow:global_step/sec: 279.242\n",
      "INFO:tensorflow:loss = 0.00041841678, step = 14501 (0.356 sec)\n",
      "INFO:tensorflow:global_step/sec: 259.3\n",
      "INFO:tensorflow:loss = 0.0026359146, step = 14601 (0.387 sec)\n",
      "INFO:tensorflow:global_step/sec: 286.481\n",
      "INFO:tensorflow:loss = 0.0016026709, step = 14701 (0.346 sec)\n",
      "INFO:tensorflow:global_step/sec: 283.862\n",
      "INFO:tensorflow:loss = 0.0014483957, step = 14801 (0.353 sec)\n",
      "INFO:tensorflow:global_step/sec: 283.661\n",
      "INFO:tensorflow:loss = 0.0021481453, step = 14901 (0.354 sec)\n",
      "INFO:tensorflow:global_step/sec: 295.029\n",
      "INFO:tensorflow:loss = 0.0011500645, step = 15001 (0.336 sec)\n",
      "INFO:tensorflow:global_step/sec: 295.724\n",
      "INFO:tensorflow:loss = 0.0022910207, step = 15101 (0.342 sec)\n",
      "INFO:tensorflow:global_step/sec: 274.011\n",
      "INFO:tensorflow:loss = 0.0021326018, step = 15201 (0.361 sec)\n",
      "INFO:tensorflow:global_step/sec: 287.434\n",
      "INFO:tensorflow:loss = 0.0030415636, step = 15301 (0.348 sec)\n",
      "INFO:tensorflow:global_step/sec: 291.954\n",
      "INFO:tensorflow:loss = 0.0021387767, step = 15401 (0.344 sec)\n",
      "INFO:tensorflow:global_step/sec: 292.325\n",
      "INFO:tensorflow:loss = 0.0061901878, step = 15501 (0.341 sec)\n",
      "INFO:tensorflow:global_step/sec: 291.285\n",
      "INFO:tensorflow:loss = 0.003591599, step = 15601 (0.343 sec)\n",
      "INFO:tensorflow:global_step/sec: 301.545\n",
      "INFO:tensorflow:loss = 0.008125725, step = 15701 (0.333 sec)\n",
      "INFO:tensorflow:global_step/sec: 304.623\n",
      "INFO:tensorflow:loss = 0.0010501593, step = 15801 (0.328 sec)\n",
      "INFO:tensorflow:global_step/sec: 290.447\n",
      "INFO:tensorflow:loss = 0.00037677138, step = 15901 (0.344 sec)\n",
      "INFO:tensorflow:global_step/sec: 293.453\n",
      "INFO:tensorflow:loss = 0.0068769627, step = 16001 (0.342 sec)\n",
      "INFO:tensorflow:global_step/sec: 293.091\n",
      "INFO:tensorflow:loss = 0.0027466435, step = 16101 (0.340 sec)\n",
      "INFO:tensorflow:global_step/sec: 274.015\n",
      "INFO:tensorflow:loss = 0.00017310098, step = 16201 (0.364 sec)\n",
      "INFO:tensorflow:global_step/sec: 301.35\n",
      "INFO:tensorflow:loss = 0.0035393238, step = 16301 (0.332 sec)\n",
      "INFO:tensorflow:global_step/sec: 289.422\n",
      "INFO:tensorflow:loss = 0.0010062752, step = 16401 (0.347 sec)\n",
      "INFO:tensorflow:global_step/sec: 282.9\n",
      "INFO:tensorflow:loss = 0.0032611657, step = 16501 (0.356 sec)\n",
      "INFO:tensorflow:global_step/sec: 279.618\n",
      "INFO:tensorflow:loss = 0.0021561768, step = 16601 (0.353 sec)\n",
      "INFO:tensorflow:global_step/sec: 288.057\n",
      "INFO:tensorflow:loss = 0.001752382, step = 16701 (0.347 sec)\n",
      "INFO:tensorflow:global_step/sec: 279.779\n",
      "INFO:tensorflow:loss = 0.002061304, step = 16801 (0.358 sec)\n",
      "INFO:tensorflow:global_step/sec: 271.196\n",
      "INFO:tensorflow:loss = 0.0020635861, step = 16901 (0.369 sec)\n",
      "INFO:tensorflow:global_step/sec: 275.85\n",
      "INFO:tensorflow:loss = 0.0040383954, step = 17001 (0.363 sec)\n",
      "INFO:tensorflow:global_step/sec: 302.75\n",
      "INFO:tensorflow:loss = 0.0017227408, step = 17101 (0.330 sec)\n",
      "INFO:tensorflow:global_step/sec: 279.125\n",
      "INFO:tensorflow:loss = 0.00371411, step = 17201 (0.358 sec)\n",
      "INFO:tensorflow:global_step/sec: 273.604\n",
      "INFO:tensorflow:loss = 0.0010917872, step = 17301 (0.368 sec)\n",
      "INFO:tensorflow:global_step/sec: 289.068\n",
      "INFO:tensorflow:loss = 0.0012165264, step = 17401 (0.346 sec)\n",
      "INFO:tensorflow:global_step/sec: 281.514\n",
      "INFO:tensorflow:loss = 0.0006143351, step = 17501 (0.354 sec)\n",
      "INFO:tensorflow:global_step/sec: 259.123\n",
      "INFO:tensorflow:loss = 0.00037813422, step = 17601 (0.385 sec)\n",
      "INFO:tensorflow:global_step/sec: 293.825\n",
      "INFO:tensorflow:loss = 0.0005251235, step = 17701 (0.341 sec)\n",
      "INFO:tensorflow:global_step/sec: 266.295\n",
      "INFO:tensorflow:loss = 0.00041038732, step = 17801 (0.378 sec)\n",
      "INFO:tensorflow:global_step/sec: 260.836\n",
      "INFO:tensorflow:loss = 0.0033667155, step = 17901 (0.381 sec)\n",
      "INFO:tensorflow:global_step/sec: 282.656\n",
      "INFO:tensorflow:loss = 0.00074857933, step = 18001 (0.356 sec)\n",
      "INFO:tensorflow:global_step/sec: 265.791\n",
      "INFO:tensorflow:loss = 0.0003646238, step = 18101 (0.375 sec)\n",
      "INFO:tensorflow:global_step/sec: 285.841\n",
      "INFO:tensorflow:loss = 0.0043815663, step = 18201 (0.349 sec)\n",
      "INFO:tensorflow:global_step/sec: 289.198\n",
      "INFO:tensorflow:loss = 0.008794373, step = 18301 (0.346 sec)\n",
      "INFO:tensorflow:global_step/sec: 291.847\n",
      "INFO:tensorflow:loss = 0.0022205105, step = 18401 (0.343 sec)\n",
      "INFO:tensorflow:global_step/sec: 299.457\n",
      "INFO:tensorflow:loss = 0.0029106063, step = 18501 (0.334 sec)\n",
      "INFO:tensorflow:global_step/sec: 294.712\n",
      "INFO:tensorflow:loss = 0.0027685121, step = 18601 (0.339 sec)\n",
      "INFO:tensorflow:global_step/sec: 268.222\n",
      "INFO:tensorflow:loss = 0.0019408299, step = 18701 (0.373 sec)\n",
      "INFO:tensorflow:global_step/sec: 274.356\n",
      "INFO:tensorflow:loss = 0.0017206747, step = 18801 (0.365 sec)\n",
      "INFO:tensorflow:global_step/sec: 294.356\n",
      "INFO:tensorflow:loss = 0.0028089858, step = 18901 (0.343 sec)\n",
      "INFO:tensorflow:global_step/sec: 268.989\n",
      "INFO:tensorflow:loss = 0.0012010267, step = 19001 (0.368 sec)\n",
      "INFO:tensorflow:global_step/sec: 279.884\n",
      "INFO:tensorflow:loss = 0.0008289063, step = 19101 (0.357 sec)\n",
      "INFO:tensorflow:global_step/sec: 293.542\n",
      "INFO:tensorflow:loss = 0.00091147254, step = 19201 (0.340 sec)\n",
      "INFO:tensorflow:global_step/sec: 291.21\n",
      "INFO:tensorflow:loss = 0.007517496, step = 19301 (0.345 sec)\n",
      "INFO:tensorflow:global_step/sec: 272.812\n",
      "INFO:tensorflow:loss = 0.00043313162, step = 19401 (0.369 sec)\n",
      "INFO:tensorflow:global_step/sec: 286.359\n",
      "INFO:tensorflow:loss = 0.00202869, step = 19501 (0.345 sec)\n",
      "INFO:tensorflow:global_step/sec: 288.704\n",
      "INFO:tensorflow:loss = 0.0003227586, step = 19601 (0.346 sec)\n",
      "INFO:tensorflow:global_step/sec: 275.63\n",
      "INFO:tensorflow:loss = 8.4263615e-05, step = 19701 (0.363 sec)\n",
      "INFO:tensorflow:global_step/sec: 285.223\n",
      "INFO:tensorflow:loss = 0.00031864335, step = 19801 (0.351 sec)\n",
      "INFO:tensorflow:global_step/sec: 296.842\n",
      "INFO:tensorflow:loss = 0.001611819, step = 19901 (0.338 sec)\n",
      "INFO:tensorflow:global_step/sec: 301.877\n",
      "INFO:tensorflow:loss = 0.004060381, step = 20001 (0.331 sec)\n",
      "INFO:tensorflow:global_step/sec: 277.317\n",
      "INFO:tensorflow:loss = 0.0008902385, step = 20101 (0.362 sec)\n",
      "INFO:tensorflow:global_step/sec: 275.529\n",
      "INFO:tensorflow:loss = 0.0031210703, step = 20201 (0.363 sec)\n",
      "INFO:tensorflow:global_step/sec: 287.819\n",
      "INFO:tensorflow:loss = 0.0010954193, step = 20301 (0.347 sec)\n",
      "INFO:tensorflow:global_step/sec: 296.054\n",
      "INFO:tensorflow:loss = 0.00016192766, step = 20401 (0.338 sec)\n",
      "INFO:tensorflow:global_step/sec: 269.016\n",
      "INFO:tensorflow:loss = 0.0006419626, step = 20501 (0.371 sec)\n",
      "INFO:tensorflow:global_step/sec: 301.996\n",
      "INFO:tensorflow:loss = 0.0012826058, step = 20601 (0.332 sec)\n",
      "INFO:tensorflow:global_step/sec: 297.09\n",
      "INFO:tensorflow:loss = 0.00088943186, step = 20701 (0.336 sec)\n",
      "INFO:tensorflow:global_step/sec: 293.41\n",
      "INFO:tensorflow:loss = 0.0009765958, step = 20801 (0.341 sec)\n",
      "INFO:tensorflow:global_step/sec: 280.771\n",
      "INFO:tensorflow:loss = 0.0007220378, step = 20901 (0.356 sec)\n",
      "INFO:tensorflow:global_step/sec: 281.73\n",
      "INFO:tensorflow:loss = 0.0011629023, step = 21001 (0.356 sec)\n",
      "INFO:tensorflow:global_step/sec: 272.662\n",
      "INFO:tensorflow:loss = 0.0007942676, step = 21101 (0.366 sec)\n",
      "INFO:tensorflow:global_step/sec: 280.649\n",
      "INFO:tensorflow:loss = 0.003793132, step = 21201 (0.356 sec)\n",
      "INFO:tensorflow:global_step/sec: 283.149\n",
      "INFO:tensorflow:loss = 0.0007054199, step = 21301 (0.354 sec)\n",
      "INFO:tensorflow:global_step/sec: 291.465\n",
      "INFO:tensorflow:loss = 0.0010156868, step = 21401 (0.343 sec)\n",
      "INFO:tensorflow:global_step/sec: 283.778\n",
      "INFO:tensorflow:loss = 0.00023965776, step = 21501 (0.351 sec)\n",
      "INFO:tensorflow:global_step/sec: 277.885\n",
      "INFO:tensorflow:loss = 0.0010909055, step = 21601 (0.360 sec)\n",
      "INFO:tensorflow:global_step/sec: 297.7\n",
      "INFO:tensorflow:loss = 0.001243122, step = 21701 (0.336 sec)\n",
      "INFO:tensorflow:global_step/sec: 297.77\n",
      "INFO:tensorflow:loss = 0.00037346222, step = 21801 (0.336 sec)\n",
      "INFO:tensorflow:global_step/sec: 296.822\n",
      "INFO:tensorflow:loss = 0.0011439084, step = 21901 (0.337 sec)\n",
      "INFO:tensorflow:global_step/sec: 304.834\n",
      "INFO:tensorflow:loss = 1.8700071e-05, step = 22001 (0.328 sec)\n",
      "INFO:tensorflow:global_step/sec: 282.586\n",
      "INFO:tensorflow:loss = 0.00028076797, step = 22101 (0.353 sec)\n",
      "INFO:tensorflow:global_step/sec: 296.644\n",
      "INFO:tensorflow:loss = 0.0012259552, step = 22201 (0.337 sec)\n",
      "INFO:tensorflow:global_step/sec: 285.7\n",
      "INFO:tensorflow:loss = 0.0013803005, step = 22301 (0.350 sec)\n",
      "INFO:tensorflow:global_step/sec: 283.008\n",
      "INFO:tensorflow:loss = 0.0022228563, step = 22401 (0.353 sec)\n",
      "INFO:tensorflow:global_step/sec: 287.511\n",
      "INFO:tensorflow:loss = 0.0017449424, step = 22501 (0.349 sec)\n",
      "INFO:tensorflow:global_step/sec: 273.661\n",
      "INFO:tensorflow:loss = 0.0024580113, step = 22601 (0.364 sec)\n",
      "INFO:tensorflow:global_step/sec: 290.998\n",
      "INFO:tensorflow:loss = 0.0012237894, step = 22701 (0.344 sec)\n",
      "INFO:tensorflow:global_step/sec: 281.838\n",
      "INFO:tensorflow:loss = 0.000649063, step = 22801 (0.356 sec)\n",
      "INFO:tensorflow:global_step/sec: 297.097\n",
      "INFO:tensorflow:loss = 0.0014647058, step = 22901 (0.336 sec)\n",
      "INFO:tensorflow:global_step/sec: 299.009\n",
      "INFO:tensorflow:loss = 0.00073800585, step = 23001 (0.335 sec)\n",
      "INFO:tensorflow:global_step/sec: 292.041\n",
      "INFO:tensorflow:loss = 0.0036601117, step = 23101 (0.341 sec)\n",
      "INFO:tensorflow:global_step/sec: 298.678\n",
      "INFO:tensorflow:loss = 0.0018304314, step = 23201 (0.336 sec)\n",
      "INFO:tensorflow:global_step/sec: 287.691\n",
      "INFO:tensorflow:loss = 0.0021171484, step = 23301 (0.347 sec)\n",
      "INFO:tensorflow:global_step/sec: 256.257\n",
      "INFO:tensorflow:loss = 0.0005587348, step = 23401 (0.390 sec)\n",
      "INFO:tensorflow:global_step/sec: 292.141\n",
      "INFO:tensorflow:loss = 0.00066691404, step = 23501 (0.343 sec)\n",
      "INFO:tensorflow:global_step/sec: 287.459\n",
      "INFO:tensorflow:loss = 0.0010423154, step = 23601 (0.348 sec)\n",
      "INFO:tensorflow:global_step/sec: 288.039\n",
      "INFO:tensorflow:loss = 0.0004286135, step = 23701 (0.346 sec)\n",
      "INFO:tensorflow:global_step/sec: 281.904\n",
      "INFO:tensorflow:loss = 0.0014039141, step = 23801 (0.354 sec)\n",
      "INFO:tensorflow:global_step/sec: 284.631\n",
      "INFO:tensorflow:loss = 0.0020771178, step = 23901 (0.352 sec)\n",
      "INFO:tensorflow:global_step/sec: 269.755\n",
      "INFO:tensorflow:loss = 0.0008684332, step = 24001 (0.371 sec)\n",
      "INFO:tensorflow:global_step/sec: 285.761\n",
      "INFO:tensorflow:loss = 0.00046478625, step = 24101 (0.350 sec)\n",
      "INFO:tensorflow:global_step/sec: 273.707\n",
      "INFO:tensorflow:loss = 0.0033466457, step = 24201 (0.366 sec)\n",
      "INFO:tensorflow:global_step/sec: 265.28\n",
      "INFO:tensorflow:loss = 0.00019160804, step = 24301 (0.376 sec)\n",
      "INFO:tensorflow:global_step/sec: 288.601\n",
      "INFO:tensorflow:loss = 0.0024412102, step = 24401 (0.347 sec)\n",
      "INFO:tensorflow:global_step/sec: 289.533\n",
      "INFO:tensorflow:loss = 0.0008908261, step = 24501 (0.346 sec)\n",
      "INFO:tensorflow:global_step/sec: 288.624\n",
      "INFO:tensorflow:loss = 0.0005166024, step = 24601 (0.346 sec)\n",
      "INFO:tensorflow:global_step/sec: 252.85\n",
      "INFO:tensorflow:loss = 0.00046175235, step = 24701 (0.397 sec)\n",
      "INFO:tensorflow:global_step/sec: 295.781\n",
      "INFO:tensorflow:loss = 0.0016515511, step = 24801 (0.336 sec)\n",
      "INFO:tensorflow:global_step/sec: 290.793\n",
      "INFO:tensorflow:loss = 0.0023048655, step = 24901 (0.344 sec)\n",
      "INFO:tensorflow:global_step/sec: 282.094\n",
      "INFO:tensorflow:loss = 0.0002263616, step = 25001 (0.355 sec)\n",
      "INFO:tensorflow:global_step/sec: 304.237\n",
      "INFO:tensorflow:loss = 0.0010330849, step = 25101 (0.329 sec)\n",
      "INFO:tensorflow:global_step/sec: 294.531\n",
      "INFO:tensorflow:loss = 0.0016782251, step = 25201 (0.339 sec)\n",
      "INFO:tensorflow:global_step/sec: 289.138\n",
      "INFO:tensorflow:loss = 0.0002655384, step = 25301 (0.351 sec)\n",
      "INFO:tensorflow:global_step/sec: 299.549\n",
      "INFO:tensorflow:loss = 0.0011080024, step = 25401 (0.331 sec)\n",
      "INFO:tensorflow:global_step/sec: 300.323\n",
      "INFO:tensorflow:loss = 0.00089923554, step = 25501 (0.331 sec)\n",
      "INFO:tensorflow:global_step/sec: 293.709\n",
      "INFO:tensorflow:loss = 0.0010467169, step = 25601 (0.341 sec)\n",
      "INFO:tensorflow:global_step/sec: 282.576\n",
      "INFO:tensorflow:loss = 0.00037717682, step = 25701 (0.353 sec)\n",
      "INFO:tensorflow:global_step/sec: 285.38\n",
      "INFO:tensorflow:loss = 0.00078538194, step = 25801 (0.350 sec)\n",
      "INFO:tensorflow:global_step/sec: 294.932\n",
      "INFO:tensorflow:loss = 0.0016394767, step = 25901 (0.339 sec)\n",
      "INFO:tensorflow:global_step/sec: 287.864\n",
      "INFO:tensorflow:loss = 7.856176e-05, step = 26001 (0.350 sec)\n",
      "INFO:tensorflow:global_step/sec: 293.275\n",
      "INFO:tensorflow:loss = 0.0012675985, step = 26101 (0.341 sec)\n",
      "INFO:tensorflow:global_step/sec: 303.587\n",
      "INFO:tensorflow:loss = 0.00048074362, step = 26201 (0.326 sec)\n",
      "INFO:tensorflow:global_step/sec: 302.517\n",
      "INFO:tensorflow:loss = 0.0012803515, step = 26301 (0.331 sec)\n",
      "INFO:tensorflow:global_step/sec: 284.846\n",
      "INFO:tensorflow:loss = 0.0015300367, step = 26401 (0.351 sec)\n",
      "INFO:tensorflow:global_step/sec: 279.786\n",
      "INFO:tensorflow:loss = 0.00072593545, step = 26501 (0.357 sec)\n",
      "INFO:tensorflow:global_step/sec: 299.696\n",
      "INFO:tensorflow:loss = 0.00028051925, step = 26601 (0.335 sec)\n",
      "INFO:tensorflow:global_step/sec: 300.234\n",
      "INFO:tensorflow:loss = 1.2026838e-05, step = 26701 (0.333 sec)\n",
      "INFO:tensorflow:global_step/sec: 298.65\n",
      "INFO:tensorflow:loss = 0.0006511601, step = 26801 (0.334 sec)\n",
      "INFO:tensorflow:global_step/sec: 289.805\n",
      "INFO:tensorflow:loss = 0.001251145, step = 26901 (0.346 sec)\n",
      "INFO:tensorflow:global_step/sec: 303.299\n",
      "INFO:tensorflow:loss = 0.0006639354, step = 27001 (0.333 sec)\n",
      "INFO:tensorflow:global_step/sec: 295.903\n",
      "INFO:tensorflow:loss = 0.0006635359, step = 27101 (0.334 sec)\n",
      "INFO:tensorflow:global_step/sec: 295.095\n",
      "INFO:tensorflow:loss = 0.000521179, step = 27201 (0.339 sec)\n",
      "INFO:tensorflow:global_step/sec: 297.427\n",
      "INFO:tensorflow:loss = 0.0011835722, step = 27301 (0.336 sec)\n",
      "INFO:tensorflow:global_step/sec: 289.441\n",
      "INFO:tensorflow:loss = 0.00016009042, step = 27401 (0.346 sec)\n",
      "INFO:tensorflow:global_step/sec: 288.449\n",
      "INFO:tensorflow:loss = 0.0014564357, step = 27501 (0.346 sec)\n",
      "INFO:tensorflow:global_step/sec: 304.44\n",
      "INFO:tensorflow:loss = 0.0016212473, step = 27601 (0.330 sec)\n",
      "INFO:tensorflow:global_step/sec: 285.379\n",
      "INFO:tensorflow:loss = 0.00037610493, step = 27701 (0.352 sec)\n",
      "INFO:tensorflow:global_step/sec: 303.862\n",
      "INFO:tensorflow:loss = 0.00016258027, step = 27801 (0.327 sec)\n",
      "INFO:tensorflow:global_step/sec: 290.093\n",
      "INFO:tensorflow:loss = 0.00046954674, step = 27901 (0.345 sec)\n",
      "INFO:tensorflow:global_step/sec: 299.099\n",
      "INFO:tensorflow:loss = 0.0014493965, step = 28001 (0.337 sec)\n",
      "INFO:tensorflow:global_step/sec: 298.98\n",
      "INFO:tensorflow:loss = 0.0006007763, step = 28101 (0.332 sec)\n",
      "INFO:tensorflow:global_step/sec: 295.639\n",
      "INFO:tensorflow:loss = 0.0014114459, step = 28201 (0.337 sec)\n",
      "INFO:tensorflow:global_step/sec: 292.049\n",
      "INFO:tensorflow:loss = 0.00071751256, step = 28301 (0.342 sec)\n",
      "INFO:tensorflow:global_step/sec: 297.552\n",
      "INFO:tensorflow:loss = 0.00066026463, step = 28401 (0.337 sec)\n",
      "INFO:tensorflow:global_step/sec: 304.87\n",
      "INFO:tensorflow:loss = 0.00017378852, step = 28501 (0.327 sec)\n",
      "INFO:tensorflow:global_step/sec: 301.773\n",
      "INFO:tensorflow:loss = 0.00030141196, step = 28601 (0.331 sec)\n",
      "INFO:tensorflow:global_step/sec: 298.756\n",
      "INFO:tensorflow:loss = 0.0006204923, step = 28701 (0.336 sec)\n",
      "INFO:tensorflow:global_step/sec: 296.079\n",
      "INFO:tensorflow:loss = 0.0011563973, step = 28801 (0.338 sec)\n",
      "INFO:tensorflow:global_step/sec: 305.643\n",
      "INFO:tensorflow:loss = 0.00031320407, step = 28901 (0.327 sec)\n",
      "INFO:tensorflow:global_step/sec: 310.891\n",
      "INFO:tensorflow:loss = 0.0017951435, step = 29001 (0.323 sec)\n",
      "INFO:tensorflow:global_step/sec: 306.389\n",
      "INFO:tensorflow:loss = 0.0012770677, step = 29101 (0.325 sec)\n",
      "INFO:tensorflow:global_step/sec: 307.311\n",
      "INFO:tensorflow:loss = 0.0017992742, step = 29201 (0.324 sec)\n",
      "INFO:tensorflow:global_step/sec: 311.803\n",
      "INFO:tensorflow:loss = 0.002056031, step = 29301 (0.322 sec)\n",
      "INFO:tensorflow:global_step/sec: 287.199\n",
      "INFO:tensorflow:loss = 0.0014236928, step = 29401 (0.347 sec)\n",
      "INFO:tensorflow:global_step/sec: 297.968\n",
      "INFO:tensorflow:loss = 0.0011001554, step = 29501 (0.336 sec)\n",
      "INFO:tensorflow:global_step/sec: 305.941\n",
      "INFO:tensorflow:loss = 0.0003831007, step = 29601 (0.327 sec)\n",
      "INFO:tensorflow:global_step/sec: 290.468\n",
      "INFO:tensorflow:loss = 0.00048084554, step = 29701 (0.344 sec)\n",
      "INFO:tensorflow:global_step/sec: 299.185\n",
      "INFO:tensorflow:loss = 0.00052915723, step = 29801 (0.334 sec)\n",
      "INFO:tensorflow:global_step/sec: 305.178\n",
      "INFO:tensorflow:loss = 0.0009374521, step = 29901 (0.328 sec)\n",
      "INFO:tensorflow:global_step/sec: 299.071\n",
      "INFO:tensorflow:loss = 4.6996e-05, step = 30001 (0.335 sec)\n",
      "INFO:tensorflow:global_step/sec: 300.514\n",
      "INFO:tensorflow:loss = 0.0005330522, step = 30101 (0.333 sec)\n",
      "INFO:tensorflow:global_step/sec: 309.394\n",
      "INFO:tensorflow:loss = 0.0002046739, step = 30201 (0.323 sec)\n",
      "INFO:tensorflow:global_step/sec: 303.891\n",
      "INFO:tensorflow:loss = 0.0010445944, step = 30301 (0.332 sec)\n",
      "INFO:tensorflow:global_step/sec: 298.745\n",
      "INFO:tensorflow:loss = 0.0015417358, step = 30401 (0.332 sec)\n",
      "INFO:tensorflow:global_step/sec: 305.48\n",
      "INFO:tensorflow:loss = 0.0009470348, step = 30501 (0.328 sec)\n",
      "INFO:tensorflow:global_step/sec: 296.426\n",
      "INFO:tensorflow:loss = 0.0010690027, step = 30601 (0.337 sec)\n",
      "INFO:tensorflow:global_step/sec: 295.885\n",
      "INFO:tensorflow:loss = 0.00082113117, step = 30701 (0.339 sec)\n",
      "INFO:tensorflow:global_step/sec: 303.093\n",
      "INFO:tensorflow:loss = 0.0013218943, step = 30801 (0.329 sec)\n",
      "INFO:tensorflow:global_step/sec: 295.164\n",
      "INFO:tensorflow:loss = 0.0009034268, step = 30901 (0.339 sec)\n",
      "INFO:tensorflow:global_step/sec: 283.623\n",
      "INFO:tensorflow:loss = 0.0010210383, step = 31001 (0.353 sec)\n",
      "INFO:tensorflow:global_step/sec: 309.247\n",
      "INFO:tensorflow:loss = 0.00100512, step = 31101 (0.327 sec)\n",
      "INFO:tensorflow:global_step/sec: 310.219\n",
      "INFO:tensorflow:loss = 0.00021824423, step = 31201 (0.318 sec)\n",
      "INFO:tensorflow:global_step/sec: 300.09\n",
      "INFO:tensorflow:loss = 0.0001325731, step = 31301 (0.333 sec)\n",
      "INFO:tensorflow:global_step/sec: 309.145\n",
      "INFO:tensorflow:loss = 0.0011825752, step = 31401 (0.328 sec)\n",
      "INFO:tensorflow:global_step/sec: 304.33\n",
      "INFO:tensorflow:loss = 0.00031947863, step = 31501 (0.325 sec)\n",
      "INFO:tensorflow:global_step/sec: 310.281\n",
      "INFO:tensorflow:loss = 0.00028940846, step = 31601 (0.327 sec)\n",
      "INFO:tensorflow:global_step/sec: 285.754\n",
      "INFO:tensorflow:loss = 0.00047214155, step = 31701 (0.350 sec)\n",
      "INFO:tensorflow:global_step/sec: 300.651\n",
      "INFO:tensorflow:loss = 0.00021240707, step = 31801 (0.328 sec)\n",
      "INFO:tensorflow:global_step/sec: 308.129\n",
      "INFO:tensorflow:loss = 0.0007816575, step = 31901 (0.327 sec)\n",
      "INFO:tensorflow:global_step/sec: 306.888\n",
      "INFO:tensorflow:loss = 0.00021355326, step = 32001 (0.323 sec)\n",
      "INFO:tensorflow:global_step/sec: 306.502\n",
      "INFO:tensorflow:loss = 0.00033809655, step = 32101 (0.326 sec)\n",
      "INFO:tensorflow:global_step/sec: 292.5\n",
      "INFO:tensorflow:loss = 0.0012238144, step = 32201 (0.342 sec)\n",
      "INFO:tensorflow:global_step/sec: 307.185\n",
      "INFO:tensorflow:loss = 0.0005522176, step = 32301 (0.325 sec)\n",
      "INFO:tensorflow:global_step/sec: 303.318\n",
      "INFO:tensorflow:loss = 0.00017792673, step = 32401 (0.330 sec)\n",
      "INFO:tensorflow:global_step/sec: 283.623\n",
      "INFO:tensorflow:loss = 0.00051459915, step = 32501 (0.354 sec)\n",
      "INFO:tensorflow:global_step/sec: 306.12\n",
      "INFO:tensorflow:loss = 0.00014658418, step = 32601 (0.325 sec)\n",
      "INFO:tensorflow:global_step/sec: 308.761\n",
      "INFO:tensorflow:loss = 0.00092652283, step = 32701 (0.325 sec)\n",
      "INFO:tensorflow:global_step/sec: 306.933\n",
      "INFO:tensorflow:loss = 0.0012000446, step = 32801 (0.325 sec)\n",
      "INFO:tensorflow:global_step/sec: 298.026\n",
      "INFO:tensorflow:loss = 0.00062444294, step = 32901 (0.336 sec)\n",
      "INFO:tensorflow:global_step/sec: 298.708\n",
      "INFO:tensorflow:loss = 0.00037327586, step = 33001 (0.334 sec)\n",
      "INFO:tensorflow:global_step/sec: 297.351\n",
      "INFO:tensorflow:loss = 0.0017151986, step = 33101 (0.337 sec)\n",
      "INFO:tensorflow:global_step/sec: 305.426\n",
      "INFO:tensorflow:loss = 0.0009653806, step = 33201 (0.331 sec)\n",
      "INFO:tensorflow:global_step/sec: 305.439\n",
      "INFO:tensorflow:loss = 0.00013143705, step = 33301 (0.325 sec)\n",
      "INFO:tensorflow:global_step/sec: 301.294\n",
      "INFO:tensorflow:loss = 0.0008529147, step = 33401 (0.332 sec)\n",
      "INFO:tensorflow:global_step/sec: 306.304\n",
      "INFO:tensorflow:loss = 0.00033986848, step = 33501 (0.326 sec)\n",
      "INFO:tensorflow:global_step/sec: 305.479\n",
      "INFO:tensorflow:loss = 0.00050922856, step = 33601 (0.327 sec)\n",
      "INFO:tensorflow:global_step/sec: 306.734\n",
      "INFO:tensorflow:loss = 0.0013337827, step = 33701 (0.326 sec)\n",
      "INFO:tensorflow:global_step/sec: 306.788\n",
      "INFO:tensorflow:loss = 0.00072417455, step = 33801 (0.327 sec)\n",
      "INFO:tensorflow:global_step/sec: 310.907\n",
      "INFO:tensorflow:loss = 0.0009808243, step = 33901 (0.320 sec)\n",
      "INFO:tensorflow:global_step/sec: 300.737\n",
      "INFO:tensorflow:loss = 0.0007120868, step = 34001 (0.334 sec)\n",
      "INFO:tensorflow:global_step/sec: 292.072\n",
      "INFO:tensorflow:loss = 0.00046298598, step = 34101 (0.342 sec)\n",
      "INFO:tensorflow:global_step/sec: 293.214\n",
      "INFO:tensorflow:loss = 0.0014382547, step = 34201 (0.341 sec)\n",
      "INFO:tensorflow:global_step/sec: 303.5\n",
      "INFO:tensorflow:loss = 0.00016162485, step = 34301 (0.330 sec)\n",
      "INFO:tensorflow:global_step/sec: 302.241\n",
      "INFO:tensorflow:loss = 0.00039660864, step = 34401 (0.330 sec)\n",
      "INFO:tensorflow:global_step/sec: 296.323\n",
      "INFO:tensorflow:loss = 0.0006259265, step = 34501 (0.337 sec)\n",
      "INFO:tensorflow:global_step/sec: 301.654\n",
      "INFO:tensorflow:loss = 0.0005761722, step = 34601 (0.331 sec)\n",
      "INFO:tensorflow:global_step/sec: 307.364\n",
      "INFO:tensorflow:loss = 0.0014306693, step = 34701 (0.325 sec)\n",
      "INFO:tensorflow:global_step/sec: 305.938\n",
      "INFO:tensorflow:loss = 0.0005948333, step = 34801 (0.327 sec)\n",
      "INFO:tensorflow:global_step/sec: 303.138\n",
      "INFO:tensorflow:loss = 0.00059795467, step = 34901 (0.330 sec)\n",
      "INFO:tensorflow:global_step/sec: 301.074\n",
      "INFO:tensorflow:loss = 0.00060020725, step = 35001 (0.332 sec)\n",
      "INFO:tensorflow:global_step/sec: 287.47\n",
      "INFO:tensorflow:loss = 0.0005356642, step = 35101 (0.349 sec)\n",
      "INFO:tensorflow:global_step/sec: 300.602\n",
      "INFO:tensorflow:loss = 0.00027335784, step = 35201 (0.332 sec)\n",
      "INFO:tensorflow:global_step/sec: 312.383\n",
      "INFO:tensorflow:loss = 0.00021429094, step = 35301 (0.320 sec)\n",
      "INFO:tensorflow:global_step/sec: 306.168\n",
      "INFO:tensorflow:loss = 0.0010945846, step = 35401 (0.327 sec)\n",
      "INFO:tensorflow:global_step/sec: 299.437\n",
      "INFO:tensorflow:loss = 0.00017826339, step = 35501 (0.335 sec)\n",
      "INFO:tensorflow:global_step/sec: 276.736\n",
      "INFO:tensorflow:loss = 0.00014507788, step = 35601 (0.366 sec)\n",
      "INFO:tensorflow:global_step/sec: 297.177\n",
      "INFO:tensorflow:loss = 0.0008339908, step = 35701 (0.332 sec)\n",
      "INFO:tensorflow:global_step/sec: 295.884\n",
      "INFO:tensorflow:loss = 0.00063304603, step = 35801 (0.337 sec)\n",
      "INFO:tensorflow:global_step/sec: 305.608\n",
      "INFO:tensorflow:loss = 0.0007057748, step = 35901 (0.327 sec)\n",
      "INFO:tensorflow:global_step/sec: 296.406\n",
      "INFO:tensorflow:loss = 0.00043890264, step = 36001 (0.337 sec)\n",
      "INFO:tensorflow:global_step/sec: 293.82\n",
      "INFO:tensorflow:loss = 0.0011704168, step = 36101 (0.340 sec)\n",
      "INFO:tensorflow:global_step/sec: 301.658\n",
      "INFO:tensorflow:loss = 0.0006751891, step = 36201 (0.332 sec)\n",
      "INFO:tensorflow:global_step/sec: 300.462\n",
      "INFO:tensorflow:loss = 0.00019030918, step = 36301 (0.333 sec)\n",
      "INFO:tensorflow:global_step/sec: 295.469\n",
      "INFO:tensorflow:loss = 0.0008042969, step = 36401 (0.339 sec)\n",
      "INFO:tensorflow:global_step/sec: 293.369\n",
      "INFO:tensorflow:loss = 0.00039773635, step = 36501 (0.341 sec)\n",
      "INFO:tensorflow:global_step/sec: 293.528\n",
      "INFO:tensorflow:loss = 0.00024294674, step = 36601 (0.340 sec)\n",
      "INFO:tensorflow:global_step/sec: 301.998\n",
      "INFO:tensorflow:loss = 0.00036940936, step = 36701 (0.331 sec)\n",
      "INFO:tensorflow:global_step/sec: 302.959\n",
      "INFO:tensorflow:loss = 0.00073253555, step = 36801 (0.333 sec)\n",
      "INFO:tensorflow:global_step/sec: 304.819\n",
      "INFO:tensorflow:loss = 0.0005914792, step = 36901 (0.327 sec)\n",
      "INFO:tensorflow:global_step/sec: 304.045\n",
      "INFO:tensorflow:loss = 0.0004806721, step = 37001 (0.328 sec)\n",
      "INFO:tensorflow:global_step/sec: 305.36\n",
      "INFO:tensorflow:loss = 0.00013157814, step = 37101 (0.327 sec)\n",
      "INFO:tensorflow:global_step/sec: 313.819\n",
      "INFO:tensorflow:loss = 0.00027885666, step = 37201 (0.319 sec)\n",
      "INFO:tensorflow:global_step/sec: 310.981\n",
      "INFO:tensorflow:loss = 0.0005525232, step = 37301 (0.322 sec)\n",
      "INFO:tensorflow:global_step/sec: 304.742\n",
      "INFO:tensorflow:loss = 0.00035343607, step = 37401 (0.327 sec)\n",
      "INFO:tensorflow:global_step/sec: 308.3\n",
      "INFO:tensorflow:loss = 0.00017990197, step = 37501 (0.325 sec)\n",
      "INFO:tensorflow:global_step/sec: 304.275\n",
      "INFO:tensorflow:loss = 0.00043937287, step = 37601 (0.329 sec)\n",
      "INFO:tensorflow:global_step/sec: 307.951\n",
      "INFO:tensorflow:loss = 0.00011207049, step = 37701 (0.325 sec)\n",
      "INFO:tensorflow:global_step/sec: 300.236\n",
      "INFO:tensorflow:loss = 0.00029987426, step = 37801 (0.333 sec)\n",
      "INFO:tensorflow:global_step/sec: 292.501\n",
      "INFO:tensorflow:loss = 0.0011459478, step = 37901 (0.342 sec)\n",
      "INFO:tensorflow:global_step/sec: 281.926\n",
      "INFO:tensorflow:loss = 0.00047368088, step = 38001 (0.358 sec)\n",
      "INFO:tensorflow:global_step/sec: 290.564\n",
      "INFO:tensorflow:loss = 0.001185625, step = 38101 (0.341 sec)\n",
      "INFO:tensorflow:global_step/sec: 297.277\n",
      "INFO:tensorflow:loss = 0.0006081745, step = 38201 (0.335 sec)\n",
      "INFO:tensorflow:global_step/sec: 304.032\n",
      "INFO:tensorflow:loss = 0.00017972635, step = 38301 (0.334 sec)\n",
      "INFO:tensorflow:global_step/sec: 299.252\n",
      "INFO:tensorflow:loss = 0.00015327646, step = 38401 (0.330 sec)\n",
      "INFO:tensorflow:global_step/sec: 301.449\n",
      "INFO:tensorflow:loss = 0.0005712046, step = 38501 (0.332 sec)\n",
      "INFO:tensorflow:global_step/sec: 301.435\n",
      "INFO:tensorflow:loss = 0.0010627231, step = 38601 (0.332 sec)\n",
      "INFO:tensorflow:global_step/sec: 306.578\n",
      "INFO:tensorflow:loss = 0.0005754557, step = 38701 (0.327 sec)\n",
      "INFO:tensorflow:global_step/sec: 278.585\n",
      "INFO:tensorflow:loss = 0.00014168856, step = 38801 (0.359 sec)\n",
      "INFO:tensorflow:global_step/sec: 303.377\n",
      "INFO:tensorflow:loss = 0.0015360054, step = 38901 (0.329 sec)\n",
      "INFO:tensorflow:global_step/sec: 303.011\n",
      "INFO:tensorflow:loss = 0.00014583142, step = 39001 (0.333 sec)\n",
      "INFO:tensorflow:global_step/sec: 298.149\n",
      "INFO:tensorflow:loss = 0.0008884575, step = 39101 (0.331 sec)\n",
      "INFO:tensorflow:global_step/sec: 312.732\n",
      "INFO:tensorflow:loss = 0.0003058638, step = 39201 (0.320 sec)\n",
      "INFO:tensorflow:global_step/sec: 301.588\n",
      "INFO:tensorflow:loss = 0.00022199635, step = 39301 (0.332 sec)\n",
      "INFO:tensorflow:global_step/sec: 294.736\n",
      "INFO:tensorflow:loss = 0.0006233799, step = 39401 (0.339 sec)\n",
      "INFO:tensorflow:global_step/sec: 295.536\n",
      "INFO:tensorflow:loss = 0.00011178415, step = 39501 (0.343 sec)\n",
      "INFO:tensorflow:global_step/sec: 296.069\n",
      "INFO:tensorflow:loss = 0.0006846805, step = 39601 (0.335 sec)\n",
      "INFO:tensorflow:global_step/sec: 293.78\n",
      "INFO:tensorflow:loss = 7.747179e-05, step = 39701 (0.338 sec)\n",
      "INFO:tensorflow:global_step/sec: 309.833\n",
      "INFO:tensorflow:loss = 0.00077717117, step = 39801 (0.324 sec)\n",
      "INFO:tensorflow:global_step/sec: 306.043\n",
      "INFO:tensorflow:loss = 0.0007422446, step = 39901 (0.325 sec)\n",
      "INFO:tensorflow:Saving checkpoints for 40000 into /tmp/tmp4rcp091x/model.ckpt.\n",
      "INFO:tensorflow:Loss for final step: 0.00046291586.\n"
     ]
    },
    {
     "data": {
      "text/plain": [
       "DNNClassifier(params={'head': <tensorflow.contrib.learn.python.learn.estimators.head._MultiClassHead object at 0x7f62fb4d4fd0>, 'hidden_units': [300, 100], 'feature_columns': (_RealValuedColumn(column_name='', dimension=784, default_value=None, dtype=tf.float32, normalizer=None),), 'optimizer': None, 'activation_fn': <function relu at 0x7f630f6a77b8>, 'dropout': None, 'gradient_clip_norm': None, 'embedding_lr_multipliers': None, 'input_layer_min_slice_size': None})"
      ]
     },
     "execution_count": 3,
     "metadata": {
      "tags": []
     },
     "output_type": "execute_result"
    }
   ],
   "source": [
    "import tensorflow as tf\n",
    "\n",
    "feature_columns = tf.contrib.learn.infer_real_valued_columns_from_input(X_train)\n",
    "dnn_clf = tf.contrib.learn.DNNClassifier(hidden_units=[300, 100], n_classes=10,\n",
    "                                         feature_columns=feature_columns)\n",
    "dnn_clf.fit(x=X_train, y=y_train, batch_size=50, steps=40000)"
   ]
  },
  {
   "cell_type": "code",
   "execution_count": 0,
   "metadata": {
    "colab": {
     "base_uri": "https://localhost:8080/",
     "height": 50
    },
    "colab_type": "code",
    "id": "M3iNAirFPo0u",
    "outputId": "52a907e6-4518-441a-f12d-1439e4bd98d3"
   },
   "outputs": [
    {
     "data": {
      "text/plain": [
       "(55000, 784)"
      ]
     },
     "metadata": {
      "tags": []
     },
     "output_type": "display_data"
    },
    {
     "data": {
      "text/plain": [
       "''"
      ]
     },
     "metadata": {
      "tags": []
     },
     "output_type": "display_data"
    }
   ],
   "source": [
    "#plt.imshow(X_train[0])\n",
    "display(X_train.shape)\n",
    "display(feature_columns[0][0])"
   ]
  },
  {
   "cell_type": "code",
   "execution_count": 0,
   "metadata": {
    "colab": {
     "base_uri": "https://localhost:8080/",
     "height": 339
    },
    "colab_type": "code",
    "id": "s0yofTb8Qlsn",
    "outputId": "a3604334-61a1-4327-b738-ec2a837cbd0e"
   },
   "outputs": [
    {
     "name": "stdout",
     "output_type": "stream",
     "text": [
      "WARNING:tensorflow:From /usr/local/lib/python3.6/dist-packages/tensorflow/python/util/deprecation.py:574: calling DNNClassifier.predict (from tensorflow.contrib.learn.python.learn.estimators.dnn) with outputs=None is deprecated and will be removed after 2017-03-01.\n",
      "Instructions for updating:\n",
      "Please switch to predict_classes, or set `outputs` argument.\n",
      "WARNING:tensorflow:From /usr/local/lib/python3.6/dist-packages/tensorflow/contrib/learn/python/learn/estimators/dnn.py:463: calling BaseEstimator.predict (from tensorflow.contrib.learn.python.learn.estimators.estimator) with x is deprecated and will be removed after 2016-12-01.\n",
      "Instructions for updating:\n",
      "Estimator is decoupled from Scikit Learn interface by moving into\n",
      "separate class SKCompat. Arguments x, y and batch_size are only\n",
      "available in the SKCompat class, Estimator will only accept input_fn.\n",
      "Example conversion:\n",
      "  est = Estimator(...) -> est = SKCompat(Estimator(...))\n",
      "INFO:tensorflow:Graph was finalized.\n",
      "WARNING:tensorflow:From /usr/local/lib/python3.6/dist-packages/tensorflow/python/training/saver.py:1266: checkpoint_exists (from tensorflow.python.training.checkpoint_management) is deprecated and will be removed in a future version.\n",
      "Instructions for updating:\n",
      "Use standard file APIs to check for files with this prefix.\n",
      "INFO:tensorflow:Restoring parameters from /tmp/tmp0rly0ysy/model.ckpt-40000\n",
      "INFO:tensorflow:Running local_init_op.\n",
      "INFO:tensorflow:Done running local_init_op.\n"
     ]
    },
    {
     "data": {
      "text/plain": [
       "0.9822"
      ]
     },
     "execution_count": 26,
     "metadata": {
      "tags": []
     },
     "output_type": "execute_result"
    }
   ],
   "source": [
    "# RUnning on the test set:\n",
    "from sklearn.metrics import accuracy_score\n",
    "y_pred = list(dnn_clf.predict(X_test))\n",
    "accuracy = accuracy_score(y_test, y_pred)\n",
    "accuracy"
   ]
  },
  {
   "cell_type": "markdown",
   "metadata": {
    "colab_type": "text",
    "id": "j2_6YFmkWxob"
   },
   "source": [
    "# Training a DNN (Plain TensorFlow)"
   ]
  },
  {
   "cell_type": "code",
   "execution_count": 0,
   "metadata": {
    "colab": {
     "base_uri": "https://localhost:8080/",
     "height": 128
    },
    "colab_type": "code",
    "id": "r4RDBWqmUChe",
    "outputId": "8630cfa9-37e2-4813-e0dc-50eed416b116"
   },
   "outputs": [
    {
     "ename": "SyntaxError",
     "evalue": "ignored",
     "output_type": "error",
     "traceback": [
      "\u001b[0;36m  File \u001b[0;32m\"<ipython-input-34-dd618a4a2965>\"\u001b[0;36m, line \u001b[0;32m5\u001b[0m\n\u001b[0;31m    n_inputs = int(X.get_shape()[1])f.nn.sparse_softmax_cross_entropy_with_log\u001b[0m\n\u001b[0m                                    ^\u001b[0m\n\u001b[0;31mSyntaxError\u001b[0m\u001b[0;31m:\u001b[0m invalid syntax\n"
     ]
    }
   ],
   "source": [
    "import tensorflow as tf\n",
    "\n",
    "def neuron_layer(X, n_neurons, name, activation=None):\n",
    "    with tf.name_scope(name):\n",
    "        n_inputs = int(X.get_shape()[1])f.nn.sparse_softmax_cross_entropy_with_log\n",
    "        stddev = 1 / np.sqrt(n_inputs)\n",
    "        init = tf.truncated_normal((n_inputs, n_neurons), stddev=stddev)\n",
    "        W = tf.Variable(init, name=\"weights\")\n",
    "        b = tf.Variable(tf.zeros([n_neurons]), name=\"biases\")\n",
    "        Z = tf.matmul(X, W) + b\n",
    "        if activation==\"relu\":\n",
    "            return tf.nn.relu(Z)\n",
    "        else:\n",
    "            return Z"
   ]
  },
  {
   "cell_type": "code",
   "execution_count": 0,
   "metadata": {
    "colab": {},
    "colab_type": "code",
    "id": "3ULnCwbiXBnr"
   },
   "outputs": [],
   "source": [
    "tf.reset_default_graph()\n",
    "\n",
    "n_inputs = 28*28  # MNIST\n",
    "n_hidden1 = 300\n",
    "n_hidden2 = 100\n",
    "n_outputs = 10\n",
    "learning_rate = 0.01\n",
    "\n",
    "X = tf.placeholder(tf.float32, shape=(None, n_inputs), name=\"X\")\n",
    "y = tf.placeholder(tf.int64, shape=(None), name=\"y\")\n",
    "\n",
    "with tf.name_scope(\"dnn\"):\n",
    "    hidden1 = neuron_layer(X, n_hidden1, \"hidden1\", activation=\"relu\")\n",
    "    hidden2 = neuron_layer(hidden1, n_hidden2, \"hidden2\", activation=\"relu\")\n",
    "    logits = neuron_layer(hidden2, n_outputs, \"output\")\n",
    "\n",
    "with tf.name_scope(\"loss\"):\n",
    "    xentropy = tf.nn.sparse_softmax_cross_entropy_with_logits(labels=y, logits=logits)\n",
    "    loss = tf.reduce_mean(xentropy, name=\"loss\")\n",
    "\n",
    "with tf.name_scope(\"train\"):\n",
    "    optimizer = tf.train.GradientDescentOptimizer(learning_rate)\n",
    "    training_op = optimizer.minimize(loss)\n",
    "\n",
    "with tf.name_scope(\"eval\"):\n",
    "    correct = tf.nn.in_top_k(logits, y, 1)\n",
    "    accuracy = tf.reduce_mean(tf.cast(correct, tf.float32))\n",
    "    \n",
    "init = tf.global_variables_initializer()\n",
    "saver = tf.train.Saver()"
   ]
  },
  {
   "cell_type": "code",
   "execution_count": 0,
   "metadata": {
    "colab": {},
    "colab_type": "code",
    "id": "Mstgi8f2Xkqd"
   },
   "outputs": [],
   "source": [
    "n_epochs = 20\n",
    "batch_size = 50\n",
    "\n",
    "with tf.Session() as sess:\n",
    "    init.run()\n",
    "    for epoch in range(n_epochs):\n",
    "        for iteration in range(mnist.train.num_examples // batch_size):\n",
    "            X_batch, y_batch = mnist.train.next_batch(batch_size)\n",
    "            #display(X_batch)\n",
    "            sess.run(training_op, feed_dict={X: X_batch, y: y_batch})\n",
    "        acc_train = accuracy.eval(feed_dict={X: X_batch, y: y_batch})\n",
    "        acc_test = accuracy.eval(feed_dict={X: mnist.test.images, y: mnist.test.labels})\n",
    "        #print(epoch, \"Train accuracy:\", acc_train, \"Test accuracy:\", acc_test)\n",
    "\n",
    "    save_path = saver.save(sess, \"./my_model_final.ckpt\")"
   ]
  },
  {
   "cell_type": "code",
   "execution_count": 0,
   "metadata": {
    "colab": {
     "base_uri": "https://localhost:8080/",
     "height": 424
    },
    "colab_type": "code",
    "id": "X3DMH2gIjitW",
    "outputId": "35dd00d0-92de-4794-eb10-822e6a138954"
   },
   "outputs": [
    {
     "name": "stdout",
     "output_type": "stream",
     "text": [
      "WARNING:tensorflow:The graph (<tensorflow.python.framework.ops.Graph object at 0x7f62f3fad9e8>) of the iterator is different from the graph (<tensorflow.python.framework.ops.Graph object at 0x7f62fb4d4b38>) the dataset: <DatasetV1Adapter shapes: ((?, 784), (?,)), types: (tf.float32, tf.int64)> was created in. If you are using the Estimator API, make sure that no part of the dataset returned by the `input_fn` function is defined outside the `input_fn` function.Please ensure that all datasets in the pipeline are created in the same graph as the iterator. NOTE: This warning will become an error in future versions of TensorFlow.\n",
      "WARNING:tensorflow:The graph (<tensorflow.python.framework.ops.Graph object at 0x7f62f3fad9e8>) of the iterator is different from the graph (<tensorflow.python.framework.ops.Graph object at 0x7f62fb4d4b38>) the dataset: <DatasetV1Adapter shapes: ((784,), ()), types: (tf.float32, tf.int64)> was created in. If you are using the Estimator API, make sure that no part of the dataset returned by the `input_fn` function is defined outside the `input_fn` function.Please ensure that all datasets in the pipeline are created in the same graph as the iterator. NOTE: This warning will become an error in future versions of TensorFlow.\n"
     ]
    },
    {
     "ename": "ValueError",
     "evalue": "ignored",
     "output_type": "error",
     "traceback": [
      "\u001b[0;31m---------------------------------------------------------------------------\u001b[0m",
      "\u001b[0;31mValueError\u001b[0m                                Traceback (most recent call last)",
      "\u001b[0;32m<ipython-input-44-f3763b9d8318>\u001b[0m in \u001b[0;36m<module>\u001b[0;34m()\u001b[0m\n\u001b[1;32m      3\u001b[0m \u001b[0mDtraining\u001b[0m \u001b[0;34m=\u001b[0m \u001b[0mtf\u001b[0m\u001b[0;34m.\u001b[0m\u001b[0mdata\u001b[0m\u001b[0;34m.\u001b[0m\u001b[0mDataset\u001b[0m\u001b[0;34m.\u001b[0m\u001b[0mfrom_tensor_slices\u001b[0m\u001b[0;34m(\u001b[0m\u001b[0;34m(\u001b[0m\u001b[0mX_train\u001b[0m\u001b[0;34m,\u001b[0m\u001b[0my_train\u001b[0m\u001b[0;34m)\u001b[0m\u001b[0;34m)\u001b[0m\u001b[0;34m\u001b[0m\u001b[0;34m\u001b[0m\u001b[0m\n\u001b[1;32m      4\u001b[0m \u001b[0mDtraining\u001b[0m \u001b[0;34m=\u001b[0m \u001b[0mDtraining\u001b[0m\u001b[0;34m.\u001b[0m\u001b[0mbatch\u001b[0m\u001b[0;34m(\u001b[0m\u001b[0mbatch_size\u001b[0m\u001b[0;34m)\u001b[0m\u001b[0;34m\u001b[0m\u001b[0;34m\u001b[0m\u001b[0m\n\u001b[0;32m----> 5\u001b[0;31m \u001b[0miterator\u001b[0m \u001b[0;34m=\u001b[0m \u001b[0mdataset\u001b[0m\u001b[0;34m.\u001b[0m\u001b[0mmake_initializable_iterator\u001b[0m\u001b[0;34m(\u001b[0m\u001b[0;34m)\u001b[0m\u001b[0;34m\u001b[0m\u001b[0;34m\u001b[0m\u001b[0m\n\u001b[0m\u001b[1;32m      6\u001b[0m \u001b[0mXy\u001b[0m \u001b[0;34m=\u001b[0m \u001b[0miterator\u001b[0m\u001b[0;34m.\u001b[0m\u001b[0mget_next\u001b[0m\u001b[0;34m(\u001b[0m\u001b[0;34m)\u001b[0m\u001b[0;34m\u001b[0m\u001b[0;34m\u001b[0m\u001b[0m\n\u001b[1;32m      7\u001b[0m \u001b[0;34m\u001b[0m\u001b[0m\n",
      "\u001b[0;32m/usr/local/lib/python3.6/dist-packages/tensorflow/python/data/ops/dataset_ops.py\u001b[0m in \u001b[0;36mmake_initializable_iterator\u001b[0;34m(self, shared_name)\u001b[0m\n\u001b[1;32m   1419\u001b[0m     \u001b[0;32mwith\u001b[0m \u001b[0mops\u001b[0m\u001b[0;34m.\u001b[0m\u001b[0mcolocate_with\u001b[0m\u001b[0;34m(\u001b[0m\u001b[0miterator_resource\u001b[0m\u001b[0;34m)\u001b[0m\u001b[0;34m:\u001b[0m\u001b[0;34m\u001b[0m\u001b[0;34m\u001b[0m\u001b[0m\n\u001b[1;32m   1420\u001b[0m       initializer = gen_dataset_ops.make_iterator(\n\u001b[0;32m-> 1421\u001b[0;31m           \u001b[0mdataset\u001b[0m\u001b[0;34m.\u001b[0m\u001b[0m_as_variant_tensor\u001b[0m\u001b[0;34m(\u001b[0m\u001b[0;34m)\u001b[0m\u001b[0;34m,\u001b[0m  \u001b[0;31m# pylint: disable=protected-access\u001b[0m\u001b[0;34m\u001b[0m\u001b[0;34m\u001b[0m\u001b[0m\n\u001b[0m\u001b[1;32m   1422\u001b[0m           iterator_resource)\n\u001b[1;32m   1423\u001b[0m     return iterator_ops.Iterator(iterator_resource, initializer,\n",
      "\u001b[0;32m/usr/local/lib/python3.6/dist-packages/tensorflow/python/data/ops/dataset_ops.py\u001b[0m in \u001b[0;36m_as_variant_tensor\u001b[0;34m(self)\u001b[0m\n\u001b[1;32m   2991\u001b[0m   \u001b[0;32mdef\u001b[0m \u001b[0m_as_variant_tensor\u001b[0m\u001b[0;34m(\u001b[0m\u001b[0mself\u001b[0m\u001b[0;34m)\u001b[0m\u001b[0;34m:\u001b[0m\u001b[0;34m\u001b[0m\u001b[0;34m\u001b[0m\u001b[0m\n\u001b[1;32m   2992\u001b[0m     return gen_dataset_ops.model_dataset(\n\u001b[0;32m-> 2993\u001b[0;31m         \u001b[0mself\u001b[0m\u001b[0;34m.\u001b[0m\u001b[0m_input_dataset\u001b[0m\u001b[0;34m.\u001b[0m\u001b[0m_as_variant_tensor\u001b[0m\u001b[0;34m(\u001b[0m\u001b[0;34m)\u001b[0m\u001b[0;34m,\u001b[0m  \u001b[0;31m# pylint: disable=protected-access\u001b[0m\u001b[0;34m\u001b[0m\u001b[0;34m\u001b[0m\u001b[0m\n\u001b[0m\u001b[1;32m   2994\u001b[0m         **flat_structure(self))\n\u001b[1;32m   2995\u001b[0m \u001b[0;34m\u001b[0m\u001b[0m\n",
      "\u001b[0;32m/usr/local/lib/python3.6/dist-packages/tensorflow/python/data/ops/dataset_ops.py\u001b[0m in \u001b[0;36m_as_variant_tensor\u001b[0;34m(self)\u001b[0m\n\u001b[1;32m   3011\u001b[0m         \u001b[0mself\u001b[0m\u001b[0;34m.\u001b[0m\u001b[0m_input_dataset\u001b[0m\u001b[0;34m.\u001b[0m\u001b[0m_as_variant_tensor\u001b[0m\u001b[0;34m(\u001b[0m\u001b[0;34m)\u001b[0m\u001b[0;34m,\u001b[0m  \u001b[0;31m# pylint: disable=protected-access\u001b[0m\u001b[0;34m\u001b[0m\u001b[0;34m\u001b[0m\u001b[0m\n\u001b[1;32m   3012\u001b[0m         \u001b[0mself\u001b[0m\u001b[0;34m.\u001b[0m\u001b[0m_optimizations\u001b[0m\u001b[0;34m,\u001b[0m\u001b[0;34m\u001b[0m\u001b[0;34m\u001b[0m\u001b[0m\n\u001b[0;32m-> 3013\u001b[0;31m         **flat_structure(self))\n\u001b[0m\u001b[1;32m   3014\u001b[0m \u001b[0;34m\u001b[0m\u001b[0m\n\u001b[1;32m   3015\u001b[0m \u001b[0;34m\u001b[0m\u001b[0m\n",
      "\u001b[0;32m/usr/local/lib/python3.6/dist-packages/tensorflow/python/ops/gen_dataset_ops.py\u001b[0m in \u001b[0;36moptimize_dataset\u001b[0;34m(input_dataset, optimizations, output_types, output_shapes, name)\u001b[0m\n\u001b[1;32m   3034\u001b[0m                            \u001b[0moptimizations\u001b[0m\u001b[0;34m=\u001b[0m\u001b[0moptimizations\u001b[0m\u001b[0;34m,\u001b[0m\u001b[0;34m\u001b[0m\u001b[0;34m\u001b[0m\u001b[0m\n\u001b[1;32m   3035\u001b[0m                            \u001b[0moutput_types\u001b[0m\u001b[0;34m=\u001b[0m\u001b[0moutput_types\u001b[0m\u001b[0;34m,\u001b[0m\u001b[0;34m\u001b[0m\u001b[0;34m\u001b[0m\u001b[0m\n\u001b[0;32m-> 3036\u001b[0;31m                            output_shapes=output_shapes, name=name)\n\u001b[0m\u001b[1;32m   3037\u001b[0m   \u001b[0m_result\u001b[0m \u001b[0;34m=\u001b[0m \u001b[0m_op\u001b[0m\u001b[0;34m.\u001b[0m\u001b[0moutputs\u001b[0m\u001b[0;34m[\u001b[0m\u001b[0;34m:\u001b[0m\u001b[0;34m]\u001b[0m\u001b[0;34m\u001b[0m\u001b[0;34m\u001b[0m\u001b[0m\n\u001b[1;32m   3038\u001b[0m   \u001b[0m_inputs_flat\u001b[0m \u001b[0;34m=\u001b[0m \u001b[0m_op\u001b[0m\u001b[0;34m.\u001b[0m\u001b[0minputs\u001b[0m\u001b[0;34m\u001b[0m\u001b[0;34m\u001b[0m\u001b[0m\n",
      "\u001b[0;32m/usr/local/lib/python3.6/dist-packages/tensorflow/python/framework/op_def_library.py\u001b[0m in \u001b[0;36m_apply_op_helper\u001b[0;34m(self, op_type_name, name, **keywords)\u001b[0m\n\u001b[1;32m    348\u001b[0m       \u001b[0;31m# Need to flatten all the arguments into a list.\u001b[0m\u001b[0;34m\u001b[0m\u001b[0;34m\u001b[0m\u001b[0;34m\u001b[0m\u001b[0m\n\u001b[1;32m    349\u001b[0m       \u001b[0;31m# pylint: disable=protected-access\u001b[0m\u001b[0;34m\u001b[0m\u001b[0;34m\u001b[0m\u001b[0;34m\u001b[0m\u001b[0m\n\u001b[0;32m--> 350\u001b[0;31m       \u001b[0mg\u001b[0m \u001b[0;34m=\u001b[0m \u001b[0mops\u001b[0m\u001b[0;34m.\u001b[0m\u001b[0m_get_graph_from_inputs\u001b[0m\u001b[0;34m(\u001b[0m\u001b[0m_Flatten\u001b[0m\u001b[0;34m(\u001b[0m\u001b[0mkeywords\u001b[0m\u001b[0;34m.\u001b[0m\u001b[0mvalues\u001b[0m\u001b[0;34m(\u001b[0m\u001b[0;34m)\u001b[0m\u001b[0;34m)\u001b[0m\u001b[0;34m)\u001b[0m\u001b[0;34m\u001b[0m\u001b[0;34m\u001b[0m\u001b[0m\n\u001b[0m\u001b[1;32m    351\u001b[0m       \u001b[0;31m# pylint: enable=protected-access\u001b[0m\u001b[0;34m\u001b[0m\u001b[0;34m\u001b[0m\u001b[0;34m\u001b[0m\u001b[0m\n\u001b[1;32m    352\u001b[0m     \u001b[0;32mexcept\u001b[0m \u001b[0mAssertionError\u001b[0m \u001b[0;32mas\u001b[0m \u001b[0me\u001b[0m\u001b[0;34m:\u001b[0m\u001b[0;34m\u001b[0m\u001b[0;34m\u001b[0m\u001b[0m\n",
      "\u001b[0;32m/usr/local/lib/python3.6/dist-packages/tensorflow/python/framework/ops.py\u001b[0m in \u001b[0;36m_get_graph_from_inputs\u001b[0;34m(op_input_list, graph)\u001b[0m\n\u001b[1;32m   5711\u001b[0m         \u001b[0mgraph\u001b[0m \u001b[0;34m=\u001b[0m \u001b[0mgraph_element\u001b[0m\u001b[0;34m.\u001b[0m\u001b[0mgraph\u001b[0m\u001b[0;34m\u001b[0m\u001b[0;34m\u001b[0m\u001b[0m\n\u001b[1;32m   5712\u001b[0m       \u001b[0;32melif\u001b[0m \u001b[0moriginal_graph_element\u001b[0m \u001b[0;32mis\u001b[0m \u001b[0;32mnot\u001b[0m \u001b[0;32mNone\u001b[0m\u001b[0;34m:\u001b[0m\u001b[0;34m\u001b[0m\u001b[0;34m\u001b[0m\u001b[0m\n\u001b[0;32m-> 5713\u001b[0;31m         \u001b[0m_assert_same_graph\u001b[0m\u001b[0;34m(\u001b[0m\u001b[0moriginal_graph_element\u001b[0m\u001b[0;34m,\u001b[0m \u001b[0mgraph_element\u001b[0m\u001b[0;34m)\u001b[0m\u001b[0;34m\u001b[0m\u001b[0;34m\u001b[0m\u001b[0m\n\u001b[0m\u001b[1;32m   5714\u001b[0m       \u001b[0;32melif\u001b[0m \u001b[0mgraph_element\u001b[0m\u001b[0;34m.\u001b[0m\u001b[0mgraph\u001b[0m \u001b[0;32mis\u001b[0m \u001b[0;32mnot\u001b[0m \u001b[0mgraph\u001b[0m\u001b[0;34m:\u001b[0m\u001b[0;34m\u001b[0m\u001b[0;34m\u001b[0m\u001b[0m\n\u001b[1;32m   5715\u001b[0m         \u001b[0;32mraise\u001b[0m \u001b[0mValueError\u001b[0m\u001b[0;34m(\u001b[0m\u001b[0;34m\"%s is not from the passed-in graph.\"\u001b[0m \u001b[0;34m%\u001b[0m \u001b[0mgraph_element\u001b[0m\u001b[0;34m)\u001b[0m\u001b[0;34m\u001b[0m\u001b[0;34m\u001b[0m\u001b[0m\n",
      "\u001b[0;32m/usr/local/lib/python3.6/dist-packages/tensorflow/python/framework/ops.py\u001b[0m in \u001b[0;36m_assert_same_graph\u001b[0;34m(original_item, item)\u001b[0m\n\u001b[1;32m   5647\u001b[0m   \u001b[0;32mif\u001b[0m \u001b[0moriginal_item\u001b[0m\u001b[0;34m.\u001b[0m\u001b[0mgraph\u001b[0m \u001b[0;32mis\u001b[0m \u001b[0;32mnot\u001b[0m \u001b[0mitem\u001b[0m\u001b[0;34m.\u001b[0m\u001b[0mgraph\u001b[0m\u001b[0;34m:\u001b[0m\u001b[0;34m\u001b[0m\u001b[0;34m\u001b[0m\u001b[0m\n\u001b[1;32m   5648\u001b[0m     raise ValueError(\"%s must be from the same graph as %s.\" % (item,\n\u001b[0;32m-> 5649\u001b[0;31m                                                                 original_item))\n\u001b[0m\u001b[1;32m   5650\u001b[0m \u001b[0;34m\u001b[0m\u001b[0m\n\u001b[1;32m   5651\u001b[0m \u001b[0;34m\u001b[0m\u001b[0m\n",
      "\u001b[0;31mValueError\u001b[0m: Tensor(\"optimizations_2:0\", shape=(3,), dtype=string) must be from the same graph as Tensor(\"BatchDatasetV2_3:0\", shape=(), dtype=variant)."
     ]
    }
   ],
   "source": [
    "n_epochs = 20\n",
    "batch_size = 50\n",
    "Dtraining = tf.data.Dataset.from_tensor_slices((X_train,y_train))\n",
    "Dtraining = Dtraining.batch(batch_size)\n",
    "iterator = dataset.make_initializable_iterator()\n",
    "Xy = iterator.get_next()\n",
    "\n",
    "with tf.Session() as sess:\n",
    "    init.run()\n",
    "    for epoch in range(n_epochs):\n",
    "      sess.run(iterator.initializer)\n",
    "      for iteration in range(mnist.train.num_examples // batch_size):\n",
    "        X_batch, y_batch = sess.run(Xy)\n",
    "        #X_batch, y_batch = mnist.train.next_batch(batch_size)\n",
    "        sess.run(training_op, feed_dict={X: X_batch, y: y_batch})\n",
    "        acc_train = accuracy.eval(feed_dict={X: X_batch, y: y_batch})\n",
    "        acc_test = accuracy.eval(feed_dict={X: mnist.test.images, y: mnist.test.labels})\n",
    "        print(epoch, \"Train accuracy:\", acc_train, \"Test accuracy:\", acc_test)\n",
    "\n",
    "    save_path = saver.save(sess, \"./my_model_final.ckpt\")"
   ]
  },
  {
   "cell_type": "code",
   "execution_count": 0,
   "metadata": {
    "colab": {},
    "colab_type": "code",
    "id": "bc2k0KhKXmk9"
   },
   "outputs": [],
   "source": [
    "with tf.Session() as sess:\n",
    "    saver.restore(sess, save_path) #\"my_model_final.ckpt\")\n",
    "    X_new_scaled = mnist.test.images[:20]\n",
    "    Z = logits.eval(feed_dict={X: X_new_scaled})\n",
    "    print(np.argmax(Z, axis=1))\n",
    "    print(mnist.test.labels[:20])"
   ]
  }
 ],
 "metadata": {
  "colab": {
   "name": "SI5-Deep_learning_1.ipynb",
   "provenance": [],
   "version": "0.3.2"
  },
  "kernelspec": {
   "display_name": "Python 3",
   "language": "python",
   "name": "python3"
  },
  "language_info": {
   "codemirror_mode": {
    "name": "ipython",
    "version": 3
   },
   "file_extension": ".py",
   "mimetype": "text/x-python",
   "name": "python",
   "nbconvert_exporter": "python",
   "pygments_lexer": "ipython3",
   "version": "3.5.2"
  },
  "varInspector": {
   "cols": {
    "lenName": 16,
    "lenType": 16,
    "lenVar": 40
   },
   "kernels_config": {
    "python": {
     "delete_cmd_postfix": "",
     "delete_cmd_prefix": "del ",
     "library": "var_list.py",
     "varRefreshCmd": "print(var_dic_list())"
    },
    "r": {
     "delete_cmd_postfix": ") ",
     "delete_cmd_prefix": "rm(",
     "library": "var_list.r",
     "varRefreshCmd": "cat(var_dic_list()) "
    }
   },
   "types_to_exclude": [
    "module",
    "function",
    "builtin_function_or_method",
    "instance",
    "_Feature"
   ],
   "window_display": false
  }
 },
 "nbformat": 4,
 "nbformat_minor": 1
}
