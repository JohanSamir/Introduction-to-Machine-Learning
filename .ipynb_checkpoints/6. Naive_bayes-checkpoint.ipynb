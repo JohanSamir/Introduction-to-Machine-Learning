{
 "cells": [
  {
   "cell_type": "markdown",
   "metadata": {},
   "source": [
    "## Naive Bayes"
   ]
  },
  {
   "cell_type": "markdown",
   "metadata": {},
   "source": [
    "Naive Bayes are a family of powerful and easy-to-train classifiers that determine the\n",
    "probability of an outcome given a set of conditions using Bayes' theorem. In other words,\n",
    "the conditional probabilities are inverted, so that the query can be expressed as a function of\n",
    "measurable quantities. The approach is simple, and the adjective \"naive\" has been attributed\n",
    "not because these algorithms are limited or less efficient, but because of a fundamental\n",
    "assumption about the causal factors that we're going to discuss. Naive Bayes are multi-\n",
    "purpose classifiers and it's easy to find their application in many different contexts;\n",
    "however, **their performance is particularly good in all those situations where the probability\n",
    "of a class is determined by the probabilities of some causal factors.** A good example is\n",
    "natural language processing, where a piece of text can be considered as a particular instance\n",
    "of a dictionary and the relative frequencies of all terms provide enough information to infer\n",
    "a belonging class.\n",
    "\n",
    "As suggestion, you should read the chapter 6(pag 120) of the book . It has a very good explanation. "
   ]
  },
  {
   "cell_type": "code",
   "execution_count": null,
   "metadata": {},
   "outputs": [],
   "source": [
    "import numpy as np\n",
    "from mla.base import BaseEstimator\n",
    "from mla.neuralnet.activations import softmax\n",
    "\n",
    "\n",
    "class NaiveBayesClassifier(BaseEstimator):\n",
    "    \"\"\"Gaussian Naive Bayes.\"\"\"\n",
    "    # Binary problem.\n",
    "    n_classes = 2\n",
    "\n",
    "    def fit(self, X, y=None):\n",
    "        self._setup_input(X, y)\n",
    "        # Check target labels\n",
    "        assert list(np.unique(y)) == [0, 1]\n",
    "\n",
    "        # Mean and variance for each class and feature combination\n",
    "        self._mean = np.zeros((self.n_classes, self.n_features), dtype=np.float64)\n",
    "        self._var = np.zeros((self.n_classes, self.n_features), dtype=np.float64)\n",
    "\n",
    "        self._priors = np.zeros(self.n_classes, dtype=np.float64)\n",
    "\n",
    "        for c in range(self.n_classes):\n",
    "            # Filter features by class\n",
    "            X_c = X[y == c]\n",
    "\n",
    "            # Calculate mean, variance, prior for each class\n",
    "            self._mean[c, :] = X_c.mean(axis=0)\n",
    "            self._var[c, :] = X_c.var(axis=0)\n",
    "            self._priors[c] = X_c.shape[0] / float(X.shape[0])\n",
    "\n",
    "    def _predict(self, X=None):\n",
    "        # Apply _predict_proba for each row\n",
    "        predictions = np.apply_along_axis(self._predict_row, 1, X)\n",
    "\n",
    "        # Normalize probabilities so that each row will sum up to 1.0\n",
    "        return softmax(predictions)\n",
    "\n",
    "    def _predict_row(self, x):\n",
    "        \"\"\"Predict log likelihood for given row.\"\"\"\n",
    "        output = []\n",
    "        for y in range(self.n_classes):\n",
    "            prior = np.log(self._priors[y])\n",
    "            posterior = np.log(self._pdf(y, x)).sum()\n",
    "            prediction = prior + posterior\n",
    "\n",
    "            output.append(prediction)\n",
    "        return output\n",
    "\n",
    "    def _pdf(self, n_class, x):\n",
    "        \"\"\"Calculate Gaussian PDF for each feature.\"\"\"\n",
    "\n",
    "        mean = self._mean[n_class]\n",
    "        var = self._var[n_class]\n",
    "\n",
    "        numerator = np.exp(-(x - mean) ** 2 / (2 * var))\n",
    "        denominator = np.sqrt(2 * np.pi * var)\n",
    "return numerator / denominator"
   ]
  }
 ],
 "metadata": {
  "kernelspec": {
   "display_name": "Python 3",
   "language": "python",
   "name": "python3"
  },
  "language_info": {
   "codemirror_mode": {
    "name": "ipython",
    "version": 3
   },
   "file_extension": ".py",
   "mimetype": "text/x-python",
   "name": "python",
   "nbconvert_exporter": "python",
   "pygments_lexer": "ipython3",
   "version": "3.5.2"
  },
  "varInspector": {
   "cols": {
    "lenName": 16,
    "lenType": 16,
    "lenVar": 40
   },
   "kernels_config": {
    "python": {
     "delete_cmd_postfix": "",
     "delete_cmd_prefix": "del ",
     "library": "var_list.py",
     "varRefreshCmd": "print(var_dic_list())"
    },
    "r": {
     "delete_cmd_postfix": ") ",
     "delete_cmd_prefix": "rm(",
     "library": "var_list.r",
     "varRefreshCmd": "cat(var_dic_list()) "
    }
   },
   "types_to_exclude": [
    "module",
    "function",
    "builtin_function_or_method",
    "instance",
    "_Feature"
   ],
   "window_display": false
  }
 },
 "nbformat": 4,
 "nbformat_minor": 2
}
