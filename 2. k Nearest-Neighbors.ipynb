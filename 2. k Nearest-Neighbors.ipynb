{
 "cells": [
  {
   "cell_type": "markdown",
   "metadata": {},
   "source": [
    "##  k Nearest-Neighbors\n",
    "\n",
    "In pattern recognition, the k-nearest neighbors algorithm (k-NN) is a non-parametric method used for classification and regression. In both cases, the input consists of the k closest training examples in the feature space. The output depends on whether k-NN is used for classification or regression:\n",
    "\n",
    "1. In k-NN classification, the output is a class membership. An object is classified by a **plurality vote of its neighbors, with the object being assigned to the class most common among its k nearest neighbors** (k is a positive integer, typically small). If k = 1, then the object is simply assigned to the class of that single nearest neighbor.\n",
    "\n",
    "2. In k-NN regression, the output is the property value for the object. This value is the **average of the values of its k nearest neighbors**.\n",
    "\n",
    "The k-NN algorithm is among the simplest of all machine learning algorithms. "
   ]
  },
  {
   "cell_type": "code",
   "execution_count": 1,
   "metadata": {},
   "outputs": [],
   "source": [
    "#CSV (Comma Separated Values) format is the most common import and export format for spreadsheets and databases.\n",
    "import csv\n",
    "import random\n",
    "import math\n",
    "#The operator module exports a set of efficient functions corresponding to the intrinsic operators of Python.\n",
    "import operator"
   ]
  },
  {
   "cell_type": "markdown",
   "metadata": {},
   "source": [
    "## Example"
   ]
  },
  {
   "cell_type": "code",
   "execution_count": 2,
   "metadata": {},
   "outputs": [
    {
     "name": "stdout",
     "output_type": "stream",
     "text": [
      "Total [array([1, 2, 3]) 'blue' array([1, 2, 3]) 'orange' array([1, 2, 3])\n",
      " 'orange']\n",
      "Total orange\n",
      "x 0 response blue\n",
      "x 2 response orange\n",
      "x 4 response orange\n",
      "classVotes.items(): dict_items([('orange', 2), ('blue', 1)])\n",
      "-------------------------\n",
      "[('orange', 2), ('blue', 1)]\n",
      "orange\n"
     ]
    }
   ],
   "source": [
    "A = tuple((np.array([1,2,3]),'blue'))   \n",
    "B = tuple((np.array([1,2,3]),'orange')) \n",
    "C = tuple((np.array([1,2,3]),'orange')) \n",
    "Total = np.hstack((A,B))\n",
    "Total = np.hstack((Total,C))\n",
    "\n",
    "print ('Total',Total)\n",
    "print ('Total',Total[3])\n",
    "\n",
    "classVotes = {}\n",
    "#print ('len(neighbors)',len(neighbors))\n",
    "for x in range(0,5,2):\n",
    "    response = Total[x+1]\n",
    "    print('x',x,'response',response)\n",
    "    response = str(response)\n",
    "    if response in classVotes:\n",
    "        classVotes[response] += 1\n",
    "    else:\n",
    "        classVotes[response] = 1\n",
    "        \n",
    "print ('classVotes.items():',classVotes.items())        \n",
    "sortedVotes = sorted(classVotes.items(), key=operator.itemgetter(1), reverse=True) \n",
    "print('-------------------------')\n",
    "print(sortedVotes)\n",
    "print(sortedVotes[0][0])"
   ]
  },
  {
   "cell_type": "markdown",
   "metadata": {},
   "source": [
    "## k Nearest-Neighbors implementation"
   ]
  },
  {
   "cell_type": "code",
   "execution_count": 3,
   "metadata": {},
   "outputs": [],
   "source": [
    "# Split the data into training and test data\n",
    "def loadDataset(filename, split, trainingSet=[] , testSet=[]):\n",
    "    with open(filename, 'r') as csvfile:\n",
    "        #rb: 'r' for reading, 'w' for writing, opening a binary file 'b'\n",
    "        lines = csv.reader(csvfile)\n",
    "        #print('lines',type(lines))\n",
    "        dataset = list(lines)\n",
    "        #print('dataset',type(dataset),'len(dataset)',len(dataset))\n",
    "        le = len(dataset)\n",
    "        for x in range(len(dataset)):\n",
    "            for y in range(4):\n",
    "                dataset[x][y] = float(dataset[x][y])\n",
    "#Return the next random floating point number in the range [0.0, 1.0)\n",
    "# According to the split constant the dataset is divided.\n",
    "            if random.random() < split:\n",
    "                trainingSet.append(dataset[x])\n",
    "            else:\n",
    "                testSet.append(dataset[x])\n",
    "\n",
    "    return le\n",
    "                              "
   ]
  },
  {
   "cell_type": "markdown",
   "metadata": {},
   "source": [
    "The Euclidean distance or Euclidean metric is the \"ordinary\" straight-line distance between two points in Euclidean space.\n",
    "\n",
    "$$\\begin{aligned} d ( \\mathbf { p } , \\mathbf { q } ) = d ( \\mathbf { q } , \\mathbf { p } ) & = \\sqrt { \\left( q _ { 1 } - p _ { 1 } \\right) ^ { 2 } + \\left( q _ { 2 } - p _ { 2 } \\right) ^ { 2 } + \\cdots + \\left( q _ { n } - p _ { n } \\right) ^ { 2 } } \\\\ & = \\sqrt { \\sum _ { i = 1 } ^ { n } \\left( q _ { i } - p _ { i } \\right) ^ { 2 } } \\end{aligned}$$"
   ]
  },
  {
   "cell_type": "code",
   "execution_count": 4,
   "metadata": {},
   "outputs": [],
   "source": [
    "def euclideanDistance(instance1, instance2, length):\n",
    "    distance = 0\n",
    "    # For each sample the euclideanDistance is found takin in to account the four features. \n",
    "    for x in range(length):\n",
    "        distance += pow((instance1[x] - instance2[x]), 2)\n",
    "    return math.sqrt(distance)"
   ]
  },
  {
   "cell_type": "code",
   "execution_count": 5,
   "metadata": {},
   "outputs": [],
   "source": [
    "def getNeighbors(trainingSet, testInstance, k):\n",
    "    distances = []\n",
    "#The value of -1 is important. It is beacuse I am evaluating a point, hence, the lengh of the datset is N-1\n",
    "    length = len(testInstance)-1\n",
    "    #print ('length',length)\n",
    "    for x in range(len(trainingSet)):\n",
    "        #print ('x',x)\n",
    "        dist = euclideanDistance(testInstance, trainingSet[x], length)\n",
    "        distances.append((trainingSet[x], dist))\n",
    "    #The sort() method sorts the elements of a given list in a specific order. \n",
    "    #operator.itemgetter(1) the column distance.\n",
    "    distances.sort(key = operator.itemgetter(1))\n",
    "    neighbors = []\n",
    "    \n",
    "    #I take the 3 closest neighbors    \n",
    "    for x in range(k):\n",
    "        neighbors.append(distances[x][0])\n",
    "    return neighbors"
   ]
  },
  {
   "cell_type": "markdown",
   "metadata": {},
   "source": [
    "<img src=\"images/vote.png\" style=\"width: 250px;\">"
   ]
  },
  {
   "cell_type": "code",
   "execution_count": 6,
   "metadata": {},
   "outputs": [],
   "source": [
    "def getResponse(neighbors):\n",
    "    # Creating a list with all the possible neighbors\n",
    "    classVotes = {}\n",
    "    #print ('len(neighbors)',len(neighbors))\n",
    "    for x in range(len(neighbors)):\n",
    "        response = neighbors[x][-1]\n",
    "        if response in classVotes:\n",
    "            classVotes[response] += 1\n",
    "        else:\n",
    "            classVotes[response] = 1\n",
    "    # sortedVotes choose the label according ti its neigboorhs.\n",
    "    sortedVotes = sorted(classVotes.items(), key=operator.itemgetter(1), reverse=True)\n",
    "    return sortedVotes[0][0]"
   ]
  },
  {
   "cell_type": "code",
   "execution_count": 7,
   "metadata": {},
   "outputs": [],
   "source": [
    "def getAccuracy(testSet, predictions):\n",
    "    correct = 0\n",
    "    for x in range(len(testSet)):\n",
    "        if testSet[x][-1] == predictions[x]:\n",
    "            correct += 1\n",
    "    return (correct/float(len(testSet))) * 100.0"
   ]
  },
  {
   "cell_type": "code",
   "execution_count": 8,
   "metadata": {},
   "outputs": [],
   "source": [
    "def main():\n",
    "    trainingSet=[]\n",
    "    testSet=[]\n",
    "    split = 0.67\n",
    "    \n",
    "    a = loadDataset('/home/johan/repos/GitHub/Introduction-to-Machine-Learning/Datasets/iris.data', split, trainingSet, testSet)\n",
    "    print ('Train set: ',(len(trainingSet)),' Percentage:', ((len(trainingSet))/a)*100,'%')\n",
    "    print ('Test set: ' , (len(testSet)),'  Percentage:',((len(testSet))/a)*100,'%')    \n",
    "    predictions=[]\n",
    "    k = 3\n",
    "    \n",
    "    for x in range(len(testSet)):\n",
    "        neighbors = getNeighbors(trainingSet, testSet[x], k)\n",
    "        result = getResponse(neighbors)\n",
    "        predictions.append(result)\n",
    "        \n",
    "    accuracy = getAccuracy(testSet, predictions)\n",
    "    print ('Accuracy: ', accuracy)"
   ]
  },
  {
   "cell_type": "markdown",
   "metadata": {},
   "source": [
    "Usually it is better to normalize attributes before for calculating distance. The reason is there can be attributes which are in large range initially and they can outweighing the attributes with initially smaller ranges"
   ]
  },
  {
   "cell_type": "code",
   "execution_count": 9,
   "metadata": {},
   "outputs": [
    {
     "name": "stdout",
     "output_type": "stream",
     "text": [
      "Train set:  104  Percentage: 69.33333333333334 %\n",
      "Test set:  46   Percentage: 30.666666666666664 %\n",
      "Accuracy:  97.82608695652173\n"
     ]
    }
   ],
   "source": [
    "main()"
   ]
  }
 ],
 "metadata": {
  "kernelspec": {
   "display_name": "Python 3",
   "language": "python",
   "name": "python3"
  },
  "language_info": {
   "codemirror_mode": {
    "name": "ipython",
    "version": 3
   },
   "file_extension": ".py",
   "mimetype": "text/x-python",
   "name": "python",
   "nbconvert_exporter": "python",
   "pygments_lexer": "ipython3",
   "version": "3.5.2"
  },
  "varInspector": {
   "cols": {
    "lenName": 16,
    "lenType": 16,
    "lenVar": 40
   },
   "kernels_config": {
    "python": {
     "delete_cmd_postfix": "",
     "delete_cmd_prefix": "del ",
     "library": "var_list.py",
     "varRefreshCmd": "print(var_dic_list())"
    },
    "r": {
     "delete_cmd_postfix": ") ",
     "delete_cmd_prefix": "rm(",
     "library": "var_list.r",
     "varRefreshCmd": "cat(var_dic_list()) "
    }
   },
   "types_to_exclude": [
    "module",
    "function",
    "builtin_function_or_method",
    "instance",
    "_Feature"
   ],
   "window_display": false
  }
 },
 "nbformat": 4,
 "nbformat_minor": 2
}
